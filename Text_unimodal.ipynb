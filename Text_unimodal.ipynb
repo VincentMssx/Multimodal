{
  "nbformat": 4,
  "nbformat_minor": 0,
  "metadata": {
    "colab": {
      "name": "Text unimodal.ipynb",
      "provenance": [],
      "collapsed_sections": [
        "ka5IInOLUSl8",
        "nTOON2rhZd8O",
        "esgHn05Pu-Ci",
        "HoKpBatmvNlU",
        "MDR-No6ByXKr",
        "lQoWrozwa9BM",
        "5StcLDCEqsug",
        "Y0Rrw431qvvZ",
        "xo2tQz5Ea1b1",
        "OpYHQpPjduer",
        "d09lYgJnd55T",
        "9xmByq0OpYZp"
      ]
    },
    "kernelspec": {
      "name": "python3",
      "display_name": "Python 3"
    },
    "language_info": {
      "name": "python"
    }
  },
  "cells": [
    {
      "cell_type": "markdown",
      "source": [
        "#Imports and loadings\n"
      ],
      "metadata": {
        "id": "ka5IInOLUSl8"
      }
    },
    {
      "cell_type": "code",
      "source": [
        "from google.colab import drive\n",
        "drive.mount('drive', force_remount=True)"
      ],
      "metadata": {
        "colab": {
          "base_uri": "https://localhost:8080/"
        },
        "id": "7bHy3KAJUa0T",
        "outputId": "a4763a4c-a3dc-4ae2-d802-4f72f4cbb05f"
      },
      "execution_count": null,
      "outputs": [
        {
          "output_type": "stream",
          "name": "stdout",
          "text": [
            "Mounted at drive\n"
          ]
        }
      ]
    },
    {
      "cell_type": "code",
      "source": [
        "path = '/content/drive/MyDrive/Projet/data/texte'"
      ],
      "metadata": {
        "id": "yeIE5-9os4xu"
      },
      "execution_count": null,
      "outputs": []
    },
    {
      "cell_type": "code",
      "source": [
        "import os\n",
        "import pandas as pd\n",
        "import numpy as np\n",
        "import keras\n",
        "import tensorflow as tf\n",
        "import matplotlib.pyplot as plt\n",
        "import matplotlib\n",
        "from sklearn import preprocessing \n",
        "from sklearn.preprocessing import OneHotEncoder\n",
        "from sklearn.model_selection import train_test_split\n",
        "from sklearn.metrics import roc_auc_score\n",
        "from sklearn.naive_bayes import GaussianNB\n",
        "from sklearn.svm import LinearSVC\n",
        "from sklearn.ensemble import RandomForestClassifier\n",
        "import nltk"
      ],
      "metadata": {
        "id": "J4HQ2EMCpQ6G"
      },
      "execution_count": null,
      "outputs": []
    },
    {
      "cell_type": "markdown",
      "source": [
        "# Data Exploration \n"
      ],
      "metadata": {
        "id": "nTOON2rhZd8O"
      }
    },
    {
      "cell_type": "markdown",
      "source": [
        "## Suppression des données inutiles"
      ],
      "metadata": {
        "id": "esgHn05Pu-Ci"
      }
    },
    {
      "cell_type": "code",
      "source": [
        "# Importe les données sous la forme :\n",
        "# Ligne de la chanson - track id - genre - vecteur BOW\n",
        "df = pd.read_csv(path + '/lyrics_genres_structured.csv')\n",
        "\n",
        "# On suppprime les colonnes : n° chanson et son id\n",
        "df.columns\n",
        "df_genres_and_bags = df.drop(columns=[\"Unnamed: 0\", \"msd_track_id\"])\n",
        "\n",
        "# DataFrame contenant les genres et les bags of words de chaque chanson\n",
        "df_genres_and_bags.head()"
      ],
      "metadata": {
        "id": "Phh3_6kobgWR",
        "colab": {
          "base_uri": "https://localhost:8080/",
          "height": 300
        },
        "outputId": "b572527f-b1ea-45c9-a469-a8bccb59bcd6"
      },
      "execution_count": null,
      "outputs": [
        {
          "output_type": "execute_result",
          "data": {
            "text/html": [
              "\n",
              "  <div id=\"df-366b5966-edf7-42af-b40a-f61ab3bd0fe5\">\n",
              "    <div class=\"colab-df-container\">\n",
              "      <div>\n",
              "<style scoped>\n",
              "    .dataframe tbody tr th:only-of-type {\n",
              "        vertical-align: middle;\n",
              "    }\n",
              "\n",
              "    .dataframe tbody tr th {\n",
              "        vertical-align: top;\n",
              "    }\n",
              "\n",
              "    .dataframe thead th {\n",
              "        text-align: right;\n",
              "    }\n",
              "</style>\n",
              "<table border=\"1\" class=\"dataframe\">\n",
              "  <thead>\n",
              "    <tr style=\"text-align: right;\">\n",
              "      <th></th>\n",
              "      <th>genre</th>\n",
              "      <th>2</th>\n",
              "      <th>3</th>\n",
              "      <th>4</th>\n",
              "      <th>5</th>\n",
              "      <th>6</th>\n",
              "      <th>7</th>\n",
              "      <th>8</th>\n",
              "      <th>9</th>\n",
              "      <th>10</th>\n",
              "      <th>11</th>\n",
              "      <th>12</th>\n",
              "      <th>13</th>\n",
              "      <th>14</th>\n",
              "      <th>15</th>\n",
              "      <th>16</th>\n",
              "      <th>17</th>\n",
              "      <th>18</th>\n",
              "      <th>19</th>\n",
              "      <th>20</th>\n",
              "      <th>21</th>\n",
              "      <th>22</th>\n",
              "      <th>23</th>\n",
              "      <th>24</th>\n",
              "      <th>25</th>\n",
              "      <th>26</th>\n",
              "      <th>27</th>\n",
              "      <th>28</th>\n",
              "      <th>29</th>\n",
              "      <th>30</th>\n",
              "      <th>31</th>\n",
              "      <th>32</th>\n",
              "      <th>33</th>\n",
              "      <th>34</th>\n",
              "      <th>35</th>\n",
              "      <th>36</th>\n",
              "      <th>37</th>\n",
              "      <th>38</th>\n",
              "      <th>39</th>\n",
              "      <th>40</th>\n",
              "      <th>...</th>\n",
              "      <th>4962</th>\n",
              "      <th>4963</th>\n",
              "      <th>4964</th>\n",
              "      <th>4965</th>\n",
              "      <th>4966</th>\n",
              "      <th>4967</th>\n",
              "      <th>4968</th>\n",
              "      <th>4969</th>\n",
              "      <th>4970</th>\n",
              "      <th>4971</th>\n",
              "      <th>4972</th>\n",
              "      <th>4973</th>\n",
              "      <th>4974</th>\n",
              "      <th>4975</th>\n",
              "      <th>4976</th>\n",
              "      <th>4977</th>\n",
              "      <th>4978</th>\n",
              "      <th>4979</th>\n",
              "      <th>4980</th>\n",
              "      <th>4981</th>\n",
              "      <th>4982</th>\n",
              "      <th>4983</th>\n",
              "      <th>4984</th>\n",
              "      <th>4985</th>\n",
              "      <th>4986</th>\n",
              "      <th>4987</th>\n",
              "      <th>4988</th>\n",
              "      <th>4989</th>\n",
              "      <th>4990</th>\n",
              "      <th>4991</th>\n",
              "      <th>4992</th>\n",
              "      <th>4993</th>\n",
              "      <th>4994</th>\n",
              "      <th>4995</th>\n",
              "      <th>4996</th>\n",
              "      <th>4997</th>\n",
              "      <th>4998</th>\n",
              "      <th>4999</th>\n",
              "      <th>5000</th>\n",
              "      <th>5001</th>\n",
              "    </tr>\n",
              "  </thead>\n",
              "  <tbody>\n",
              "    <tr>\n",
              "      <th>0</th>\n",
              "      <td>Rap</td>\n",
              "      <td>39</td>\n",
              "      <td>30</td>\n",
              "      <td>10</td>\n",
              "      <td>10</td>\n",
              "      <td>28</td>\n",
              "      <td>21</td>\n",
              "      <td>1</td>\n",
              "      <td>20</td>\n",
              "      <td>11</td>\n",
              "      <td>12</td>\n",
              "      <td>9</td>\n",
              "      <td>10</td>\n",
              "      <td>9</td>\n",
              "      <td>1</td>\n",
              "      <td>5</td>\n",
              "      <td>11</td>\n",
              "      <td>4</td>\n",
              "      <td>1</td>\n",
              "      <td>1</td>\n",
              "      <td>17</td>\n",
              "      <td>0</td>\n",
              "      <td>7</td>\n",
              "      <td>4</td>\n",
              "      <td>1</td>\n",
              "      <td>0</td>\n",
              "      <td>2</td>\n",
              "      <td>2</td>\n",
              "      <td>5</td>\n",
              "      <td>1</td>\n",
              "      <td>6</td>\n",
              "      <td>5</td>\n",
              "      <td>4</td>\n",
              "      <td>2</td>\n",
              "      <td>0</td>\n",
              "      <td>1</td>\n",
              "      <td>1</td>\n",
              "      <td>8</td>\n",
              "      <td>0</td>\n",
              "      <td>2</td>\n",
              "      <td>...</td>\n",
              "      <td>0</td>\n",
              "      <td>0</td>\n",
              "      <td>0</td>\n",
              "      <td>0</td>\n",
              "      <td>0</td>\n",
              "      <td>0</td>\n",
              "      <td>0</td>\n",
              "      <td>0</td>\n",
              "      <td>0</td>\n",
              "      <td>0</td>\n",
              "      <td>0</td>\n",
              "      <td>0</td>\n",
              "      <td>0</td>\n",
              "      <td>0</td>\n",
              "      <td>0</td>\n",
              "      <td>0</td>\n",
              "      <td>0</td>\n",
              "      <td>0</td>\n",
              "      <td>0</td>\n",
              "      <td>0</td>\n",
              "      <td>0</td>\n",
              "      <td>0</td>\n",
              "      <td>0</td>\n",
              "      <td>0</td>\n",
              "      <td>0</td>\n",
              "      <td>0</td>\n",
              "      <td>0</td>\n",
              "      <td>0</td>\n",
              "      <td>0</td>\n",
              "      <td>0</td>\n",
              "      <td>0</td>\n",
              "      <td>0</td>\n",
              "      <td>0</td>\n",
              "      <td>0</td>\n",
              "      <td>0</td>\n",
              "      <td>0</td>\n",
              "      <td>0</td>\n",
              "      <td>0</td>\n",
              "      <td>0</td>\n",
              "      <td>0</td>\n",
              "    </tr>\n",
              "    <tr>\n",
              "      <th>1</th>\n",
              "      <td>Metal</td>\n",
              "      <td>4</td>\n",
              "      <td>11</td>\n",
              "      <td>19</td>\n",
              "      <td>4</td>\n",
              "      <td>4</td>\n",
              "      <td>2</td>\n",
              "      <td>3</td>\n",
              "      <td>7</td>\n",
              "      <td>2</td>\n",
              "      <td>4</td>\n",
              "      <td>2</td>\n",
              "      <td>0</td>\n",
              "      <td>3</td>\n",
              "      <td>5</td>\n",
              "      <td>0</td>\n",
              "      <td>1</td>\n",
              "      <td>0</td>\n",
              "      <td>6</td>\n",
              "      <td>4</td>\n",
              "      <td>2</td>\n",
              "      <td>5</td>\n",
              "      <td>3</td>\n",
              "      <td>1</td>\n",
              "      <td>0</td>\n",
              "      <td>3</td>\n",
              "      <td>3</td>\n",
              "      <td>0</td>\n",
              "      <td>5</td>\n",
              "      <td>1</td>\n",
              "      <td>2</td>\n",
              "      <td>1</td>\n",
              "      <td>0</td>\n",
              "      <td>0</td>\n",
              "      <td>2</td>\n",
              "      <td>0</td>\n",
              "      <td>2</td>\n",
              "      <td>0</td>\n",
              "      <td>0</td>\n",
              "      <td>0</td>\n",
              "      <td>...</td>\n",
              "      <td>0</td>\n",
              "      <td>0</td>\n",
              "      <td>0</td>\n",
              "      <td>0</td>\n",
              "      <td>0</td>\n",
              "      <td>0</td>\n",
              "      <td>0</td>\n",
              "      <td>0</td>\n",
              "      <td>0</td>\n",
              "      <td>0</td>\n",
              "      <td>0</td>\n",
              "      <td>0</td>\n",
              "      <td>0</td>\n",
              "      <td>0</td>\n",
              "      <td>0</td>\n",
              "      <td>0</td>\n",
              "      <td>0</td>\n",
              "      <td>0</td>\n",
              "      <td>0</td>\n",
              "      <td>0</td>\n",
              "      <td>0</td>\n",
              "      <td>0</td>\n",
              "      <td>0</td>\n",
              "      <td>0</td>\n",
              "      <td>0</td>\n",
              "      <td>0</td>\n",
              "      <td>0</td>\n",
              "      <td>0</td>\n",
              "      <td>0</td>\n",
              "      <td>0</td>\n",
              "      <td>0</td>\n",
              "      <td>0</td>\n",
              "      <td>0</td>\n",
              "      <td>0</td>\n",
              "      <td>0</td>\n",
              "      <td>0</td>\n",
              "      <td>0</td>\n",
              "      <td>0</td>\n",
              "      <td>0</td>\n",
              "      <td>0</td>\n",
              "    </tr>\n",
              "    <tr>\n",
              "      <th>2</th>\n",
              "      <td>Jazz</td>\n",
              "      <td>23</td>\n",
              "      <td>18</td>\n",
              "      <td>31</td>\n",
              "      <td>0</td>\n",
              "      <td>4</td>\n",
              "      <td>0</td>\n",
              "      <td>3</td>\n",
              "      <td>2</td>\n",
              "      <td>6</td>\n",
              "      <td>0</td>\n",
              "      <td>6</td>\n",
              "      <td>0</td>\n",
              "      <td>0</td>\n",
              "      <td>0</td>\n",
              "      <td>0</td>\n",
              "      <td>0</td>\n",
              "      <td>0</td>\n",
              "      <td>0</td>\n",
              "      <td>0</td>\n",
              "      <td>0</td>\n",
              "      <td>3</td>\n",
              "      <td>0</td>\n",
              "      <td>3</td>\n",
              "      <td>0</td>\n",
              "      <td>3</td>\n",
              "      <td>0</td>\n",
              "      <td>3</td>\n",
              "      <td>2</td>\n",
              "      <td>3</td>\n",
              "      <td>2</td>\n",
              "      <td>0</td>\n",
              "      <td>2</td>\n",
              "      <td>0</td>\n",
              "      <td>2</td>\n",
              "      <td>0</td>\n",
              "      <td>0</td>\n",
              "      <td>0</td>\n",
              "      <td>0</td>\n",
              "      <td>0</td>\n",
              "      <td>...</td>\n",
              "      <td>0</td>\n",
              "      <td>0</td>\n",
              "      <td>0</td>\n",
              "      <td>0</td>\n",
              "      <td>0</td>\n",
              "      <td>0</td>\n",
              "      <td>0</td>\n",
              "      <td>0</td>\n",
              "      <td>0</td>\n",
              "      <td>0</td>\n",
              "      <td>0</td>\n",
              "      <td>0</td>\n",
              "      <td>0</td>\n",
              "      <td>0</td>\n",
              "      <td>0</td>\n",
              "      <td>0</td>\n",
              "      <td>0</td>\n",
              "      <td>0</td>\n",
              "      <td>0</td>\n",
              "      <td>0</td>\n",
              "      <td>0</td>\n",
              "      <td>0</td>\n",
              "      <td>0</td>\n",
              "      <td>0</td>\n",
              "      <td>0</td>\n",
              "      <td>0</td>\n",
              "      <td>0</td>\n",
              "      <td>0</td>\n",
              "      <td>0</td>\n",
              "      <td>0</td>\n",
              "      <td>0</td>\n",
              "      <td>0</td>\n",
              "      <td>0</td>\n",
              "      <td>0</td>\n",
              "      <td>0</td>\n",
              "      <td>0</td>\n",
              "      <td>0</td>\n",
              "      <td>0</td>\n",
              "      <td>0</td>\n",
              "      <td>0</td>\n",
              "    </tr>\n",
              "    <tr>\n",
              "      <th>3</th>\n",
              "      <td>Pop</td>\n",
              "      <td>11</td>\n",
              "      <td>0</td>\n",
              "      <td>19</td>\n",
              "      <td>0</td>\n",
              "      <td>0</td>\n",
              "      <td>3</td>\n",
              "      <td>1</td>\n",
              "      <td>0</td>\n",
              "      <td>0</td>\n",
              "      <td>1</td>\n",
              "      <td>0</td>\n",
              "      <td>7</td>\n",
              "      <td>1</td>\n",
              "      <td>0</td>\n",
              "      <td>0</td>\n",
              "      <td>0</td>\n",
              "      <td>1</td>\n",
              "      <td>0</td>\n",
              "      <td>0</td>\n",
              "      <td>0</td>\n",
              "      <td>0</td>\n",
              "      <td>1</td>\n",
              "      <td>1</td>\n",
              "      <td>0</td>\n",
              "      <td>2</td>\n",
              "      <td>1</td>\n",
              "      <td>0</td>\n",
              "      <td>0</td>\n",
              "      <td>0</td>\n",
              "      <td>3</td>\n",
              "      <td>0</td>\n",
              "      <td>0</td>\n",
              "      <td>9</td>\n",
              "      <td>0</td>\n",
              "      <td>0</td>\n",
              "      <td>3</td>\n",
              "      <td>0</td>\n",
              "      <td>0</td>\n",
              "      <td>0</td>\n",
              "      <td>...</td>\n",
              "      <td>0</td>\n",
              "      <td>0</td>\n",
              "      <td>0</td>\n",
              "      <td>0</td>\n",
              "      <td>0</td>\n",
              "      <td>0</td>\n",
              "      <td>0</td>\n",
              "      <td>0</td>\n",
              "      <td>0</td>\n",
              "      <td>0</td>\n",
              "      <td>0</td>\n",
              "      <td>0</td>\n",
              "      <td>0</td>\n",
              "      <td>0</td>\n",
              "      <td>0</td>\n",
              "      <td>0</td>\n",
              "      <td>0</td>\n",
              "      <td>0</td>\n",
              "      <td>0</td>\n",
              "      <td>0</td>\n",
              "      <td>0</td>\n",
              "      <td>0</td>\n",
              "      <td>0</td>\n",
              "      <td>0</td>\n",
              "      <td>0</td>\n",
              "      <td>0</td>\n",
              "      <td>0</td>\n",
              "      <td>0</td>\n",
              "      <td>0</td>\n",
              "      <td>0</td>\n",
              "      <td>0</td>\n",
              "      <td>0</td>\n",
              "      <td>0</td>\n",
              "      <td>0</td>\n",
              "      <td>0</td>\n",
              "      <td>0</td>\n",
              "      <td>0</td>\n",
              "      <td>0</td>\n",
              "      <td>0</td>\n",
              "      <td>0</td>\n",
              "    </tr>\n",
              "    <tr>\n",
              "      <th>4</th>\n",
              "      <td>Reggae</td>\n",
              "      <td>13</td>\n",
              "      <td>12</td>\n",
              "      <td>9</td>\n",
              "      <td>3</td>\n",
              "      <td>13</td>\n",
              "      <td>3</td>\n",
              "      <td>0</td>\n",
              "      <td>1</td>\n",
              "      <td>1</td>\n",
              "      <td>0</td>\n",
              "      <td>3</td>\n",
              "      <td>2</td>\n",
              "      <td>0</td>\n",
              "      <td>1</td>\n",
              "      <td>2</td>\n",
              "      <td>4</td>\n",
              "      <td>6</td>\n",
              "      <td>4</td>\n",
              "      <td>0</td>\n",
              "      <td>0</td>\n",
              "      <td>3</td>\n",
              "      <td>11</td>\n",
              "      <td>2</td>\n",
              "      <td>3</td>\n",
              "      <td>2</td>\n",
              "      <td>5</td>\n",
              "      <td>2</td>\n",
              "      <td>1</td>\n",
              "      <td>0</td>\n",
              "      <td>10</td>\n",
              "      <td>4</td>\n",
              "      <td>2</td>\n",
              "      <td>3</td>\n",
              "      <td>0</td>\n",
              "      <td>0</td>\n",
              "      <td>2</td>\n",
              "      <td>3</td>\n",
              "      <td>0</td>\n",
              "      <td>9</td>\n",
              "      <td>...</td>\n",
              "      <td>0</td>\n",
              "      <td>0</td>\n",
              "      <td>0</td>\n",
              "      <td>0</td>\n",
              "      <td>0</td>\n",
              "      <td>0</td>\n",
              "      <td>0</td>\n",
              "      <td>0</td>\n",
              "      <td>0</td>\n",
              "      <td>0</td>\n",
              "      <td>0</td>\n",
              "      <td>0</td>\n",
              "      <td>0</td>\n",
              "      <td>0</td>\n",
              "      <td>0</td>\n",
              "      <td>0</td>\n",
              "      <td>0</td>\n",
              "      <td>0</td>\n",
              "      <td>0</td>\n",
              "      <td>0</td>\n",
              "      <td>0</td>\n",
              "      <td>0</td>\n",
              "      <td>0</td>\n",
              "      <td>0</td>\n",
              "      <td>0</td>\n",
              "      <td>0</td>\n",
              "      <td>0</td>\n",
              "      <td>0</td>\n",
              "      <td>0</td>\n",
              "      <td>0</td>\n",
              "      <td>0</td>\n",
              "      <td>0</td>\n",
              "      <td>0</td>\n",
              "      <td>0</td>\n",
              "      <td>0</td>\n",
              "      <td>0</td>\n",
              "      <td>0</td>\n",
              "      <td>0</td>\n",
              "      <td>0</td>\n",
              "      <td>0</td>\n",
              "    </tr>\n",
              "  </tbody>\n",
              "</table>\n",
              "<p>5 rows × 5001 columns</p>\n",
              "</div>\n",
              "      <button class=\"colab-df-convert\" onclick=\"convertToInteractive('df-366b5966-edf7-42af-b40a-f61ab3bd0fe5')\"\n",
              "              title=\"Convert this dataframe to an interactive table.\"\n",
              "              style=\"display:none;\">\n",
              "        \n",
              "  <svg xmlns=\"http://www.w3.org/2000/svg\" height=\"24px\"viewBox=\"0 0 24 24\"\n",
              "       width=\"24px\">\n",
              "    <path d=\"M0 0h24v24H0V0z\" fill=\"none\"/>\n",
              "    <path d=\"M18.56 5.44l.94 2.06.94-2.06 2.06-.94-2.06-.94-.94-2.06-.94 2.06-2.06.94zm-11 1L8.5 8.5l.94-2.06 2.06-.94-2.06-.94L8.5 2.5l-.94 2.06-2.06.94zm10 10l.94 2.06.94-2.06 2.06-.94-2.06-.94-.94-2.06-.94 2.06-2.06.94z\"/><path d=\"M17.41 7.96l-1.37-1.37c-.4-.4-.92-.59-1.43-.59-.52 0-1.04.2-1.43.59L10.3 9.45l-7.72 7.72c-.78.78-.78 2.05 0 2.83L4 21.41c.39.39.9.59 1.41.59.51 0 1.02-.2 1.41-.59l7.78-7.78 2.81-2.81c.8-.78.8-2.07 0-2.86zM5.41 20L4 18.59l7.72-7.72 1.47 1.35L5.41 20z\"/>\n",
              "  </svg>\n",
              "      </button>\n",
              "      \n",
              "  <style>\n",
              "    .colab-df-container {\n",
              "      display:flex;\n",
              "      flex-wrap:wrap;\n",
              "      gap: 12px;\n",
              "    }\n",
              "\n",
              "    .colab-df-convert {\n",
              "      background-color: #E8F0FE;\n",
              "      border: none;\n",
              "      border-radius: 50%;\n",
              "      cursor: pointer;\n",
              "      display: none;\n",
              "      fill: #1967D2;\n",
              "      height: 32px;\n",
              "      padding: 0 0 0 0;\n",
              "      width: 32px;\n",
              "    }\n",
              "\n",
              "    .colab-df-convert:hover {\n",
              "      background-color: #E2EBFA;\n",
              "      box-shadow: 0px 1px 2px rgba(60, 64, 67, 0.3), 0px 1px 3px 1px rgba(60, 64, 67, 0.15);\n",
              "      fill: #174EA6;\n",
              "    }\n",
              "\n",
              "    [theme=dark] .colab-df-convert {\n",
              "      background-color: #3B4455;\n",
              "      fill: #D2E3FC;\n",
              "    }\n",
              "\n",
              "    [theme=dark] .colab-df-convert:hover {\n",
              "      background-color: #434B5C;\n",
              "      box-shadow: 0px 1px 3px 1px rgba(0, 0, 0, 0.15);\n",
              "      filter: drop-shadow(0px 1px 2px rgba(0, 0, 0, 0.3));\n",
              "      fill: #FFFFFF;\n",
              "    }\n",
              "  </style>\n",
              "\n",
              "      <script>\n",
              "        const buttonEl =\n",
              "          document.querySelector('#df-366b5966-edf7-42af-b40a-f61ab3bd0fe5 button.colab-df-convert');\n",
              "        buttonEl.style.display =\n",
              "          google.colab.kernel.accessAllowed ? 'block' : 'none';\n",
              "\n",
              "        async function convertToInteractive(key) {\n",
              "          const element = document.querySelector('#df-366b5966-edf7-42af-b40a-f61ab3bd0fe5');\n",
              "          const dataTable =\n",
              "            await google.colab.kernel.invokeFunction('convertToInteractive',\n",
              "                                                     [key], {});\n",
              "          if (!dataTable) return;\n",
              "\n",
              "          const docLinkHtml = 'Like what you see? Visit the ' +\n",
              "            '<a target=\"_blank\" href=https://colab.research.google.com/notebooks/data_table.ipynb>data table notebook</a>'\n",
              "            + ' to learn more about interactive tables.';\n",
              "          element.innerHTML = '';\n",
              "          dataTable['output_type'] = 'display_data';\n",
              "          await google.colab.output.renderOutput(dataTable, element);\n",
              "          const docLink = document.createElement('div');\n",
              "          docLink.innerHTML = docLinkHtml;\n",
              "          element.appendChild(docLink);\n",
              "        }\n",
              "      </script>\n",
              "    </div>\n",
              "  </div>\n",
              "  "
            ],
            "text/plain": [
              "    genre   2   3   4   5   6   7  ...  4995  4996  4997  4998  4999  5000  5001\n",
              "0     Rap  39  30  10  10  28  21  ...     0     0     0     0     0     0     0\n",
              "1   Metal   4  11  19   4   4   2  ...     0     0     0     0     0     0     0\n",
              "2    Jazz  23  18  31   0   4   0  ...     0     0     0     0     0     0     0\n",
              "3     Pop  11   0  19   0   0   3  ...     0     0     0     0     0     0     0\n",
              "4  Reggae  13  12   9   3  13   3  ...     0     0     0     0     0     0     0\n",
              "\n",
              "[5 rows x 5001 columns]"
            ]
          },
          "metadata": {},
          "execution_count": 10
        }
      ]
    },
    {
      "cell_type": "markdown",
      "source": [
        "## Histogramme des genres"
      ],
      "metadata": {
        "id": "HoKpBatmvNlU"
      }
    },
    {
      "cell_type": "code",
      "source": [
        "df_genres = df_genres_and_bags['genre']\n",
        "df_genres.value_counts()"
      ],
      "metadata": {
        "colab": {
          "base_uri": "https://localhost:8080/"
        },
        "id": "6x6zZ1q0vRgD",
        "outputId": "18d2383a-55ad-409c-9fa2-639c1adbf7b0"
      },
      "execution_count": null,
      "outputs": [
        {
          "output_type": "execute_result",
          "data": {
            "text/plain": [
              "Rock          3228\n",
              "Pop           2420\n",
              "Metal         2009\n",
              "Rap           1347\n",
              "Country       1089\n",
              "Electronic     946\n",
              "RnB            909\n",
              "Reggae         595\n",
              "Folk           575\n",
              "Punk           546\n",
              "Jazz           451\n",
              "Latin          286\n",
              "Blues          186\n",
              "World           97\n",
              "New_Age         66\n",
              "Name: genre, dtype: int64"
            ]
          },
          "metadata": {},
          "execution_count": 5
        }
      ]
    },
    {
      "cell_type": "markdown",
      "source": [
        "On a 15 genres de musique différents"
      ],
      "metadata": {
        "id": "-vXpzIr4mHC_"
      }
    },
    {
      "cell_type": "code",
      "source": [
        "df_genres.hist(figsize=[12,4], bins=15)"
      ],
      "metadata": {
        "colab": {
          "base_uri": "https://localhost:8080/",
          "height": 283
        },
        "id": "peNoO7nElldw",
        "outputId": "2fb4b7e0-51f1-4da8-f6d6-9743326e82cc"
      },
      "execution_count": null,
      "outputs": [
        {
          "output_type": "execute_result",
          "data": {
            "text/plain": [
              "<matplotlib.axes._subplots.AxesSubplot at 0x7f23868f7b10>"
            ]
          },
          "metadata": {},
          "execution_count": 6
        },
        {
          "output_type": "display_data",
          "data": {
            "image/png": "[encoded data removed]",
            "text/plain": [
              "<Figure size 864x288 with 1 Axes>"
            ]
          },
          "metadata": {
            "needs_background": "light"
          }
        }
      ]
    },
    {
      "cell_type": "markdown",
      "source": [
        "On a une très mauvaise répartition des données. La plus part sont du rap, de la pop ou du rock. Cela va sûrement causer problème lors de l'apprentissage du modèle."
      ],
      "metadata": {
        "id": "YPzKR7h3x_bO"
      }
    },
    {
      "cell_type": "markdown",
      "source": [
        "## Répartition des mots"
      ],
      "metadata": {
        "id": "MDR-No6ByXKr"
      }
    },
    {
      "cell_type": "code",
      "source": [
        "# On récupérer tout les mots sous forme d'une grande chaine de charactère\n",
        "with open(path + '/dataset_train.txt', \"r\") as file:\n",
        "    vocab = file.readlines()[17]\n",
        "\n",
        "# Suprression de % et \" \" : Premier et dernier caractères\n",
        "vocab = vocab[1:]\n",
        "vocab = vocab[:-1] \n",
        "\n",
        "#Création de la liste de mots dans le vocabulaire\n",
        "vocab = vocab.split(',')\n",
        "print(\"Vocabulaire de 5000 mots :\", vocab)"
      ],
      "metadata": {
        "colab": {
          "base_uri": "https://localhost:8080/"
        },
        "id": "qs4TTHB5ydBP",
        "outputId": "4f928613-7d9f-4528-fd0a-ccedd9a693b6"
      },
      "execution_count": null,
      "outputs": [
        {
          "output_type": "stream",
          "name": "stdout",
          "text": [
            "Vocabulaire de 5000 mots : ['i', 'the', 'you', 'to', 'and', 'a', 'me', 'it', 'not', 'in', 'my', 'is', 'of', 'your', 'that', 'do', 'on', 'are', 'we', 'am', 'will', 'all', 'for', 'no', 'be', 'have', 'love', 'so', 'know', 'this', 'but', 'with', 'what', 'just', 'when', 'like', 'now', 'que', 'time', 'can', 'come', 'de', 'there', 'go', 'up', 'oh', 'la', 'one', 'they', 'out', 'down', 'get', 'she', 'was', 'see', 'if', 'got', 'never', 'from', 'he', 'feel', 'want', 'let', 'make', 'way', 'say', 'take', 'would', 'as', 'ca', 'day', 'at', 'babi', 'away', 'life', 'yeah', 'y', 'back', 'by', 'her', 'heart', 'here', 'how', 'could', 'night', 'need', 'our', 'look', 'where', 'en', 'eye', 'thing', 'world', 'more', 'caus', 'gonna', 'die', 'right', 'been', 'tell', 'think', 'un', 'who', 'el', 'through', 'man', 'live', 'again', 'give', 'too', 'onli', 'te', 'tri', 'tu', 'or', 'whi', 'se', 'keep', 'dream', 'well', 'mind', 'an', 'wo', 'still', 'us', 'his', 'long', 'mi', 'girl', 'wanna', 'find', 'fall', 'around', 'good', 'about', 'some', 'over', 'littl', 'turn', 'hand', 'then', 'noth', 'light', 'said', 'call', 'everi', 'alway', 'were', 'did', 'into', 'e', 'wait', 'leav', 'home', 'had', 'hold', 'run', 'es', 'walk', 'ever', 'them', 'lie', 'face', 'end', 'hear', 'gone', 'head', 'believ', 'everyth', 'ya', 'has', 'cri', 'alon', 'yo', 'hey', 'their', 'le', 'someth', 'si', 'insid', 'du', 'befor', 'o', 'word', 'stay', 'place', 'much', 'chang', 'ich', 'god', 'stand', 'these', 'better', 'last', 'friend', 'soul', 'anoth', 'je', 'left', 'new', 'him', 'than', 'stop', 'tonight', 'burn', 'sun', 'off', 'por', 'lo', 'play', 'thought', 'sing', 'show', 'lost', 'peopl', 'made', 'break', 'und', 'start', 'should', 'realli', 'chorus', 'hard', 'sky', 'old', 'da', 'even', 'boy', 'pleas', 'song', 'care', 'without', 'hope', 'watch', 'pain', 'amor', 'move', 'wrong', 'put', 'free', 'gotta', 'name', 'et', 'same', 'blue', 'con', 'danc', 'talk', 'seem', 'own', 'mine', 'dark', 'na', 'far', 'tear', 'true', 'fire', 'use', 'dead', 'bring', 'fuck', 'other', 'sin', 'someon', 'myself', 'forev', 'close', 'sleep', 'rain', 'those', 'must', 'una', 'les', 'sweet', 'mean', 'fight', 'rememb', 'star', 'while', 'kiss', 'kill', 'high', 'breath', 'doe', 'yes', 'al', 'wish', 'che', 'real', 'smile', 'two', 'cold', 'lord', 'year', 'open', 'il', 'fear', 'di', 'done', 'side', 'fli', 'black', 'line', 'rock', 'blood', 'lose', 'found', 'onc', 'non', 'door', 'bad', 'ooh', 'wonder', 'ti', 'como', 'enough', 'para', 'sound', 'togeth', 'mayb', 'los', 'help', 'shine', 'mani', 'heaven', 'becaus', 'work', 'touch', 'behind', 'yourself', 'today', 'big', 'might', 'death', 'hate', 'miss', 'ride', 'street', 'came', 'ask', 'hide', 'everybodi', 'save', 'till', 'may', 'beauti', 'roll', 'sure', 'deep', 'arm', 'son', 'wind', 'bodi', 'forget', 'happi', 'understand', 'ai', 'best', 'ma', 'town', 'war', 'ah', 'listen', 'seen', 'der', 'sometim', 'lone', 'hell', 'morn', 'until', 'set', 'hurt', 'told', 'first', 'knew', 'goe', 'round', 'em', 'alright', 'music', 'sea', 'truth', 'qui', 'beat', 'nicht', 'eu', 'las', 'todo', 'pass', 'under', 'del', 'late', 'after', 'ani', 'ground', 'fool', 'pas', 'broken', 'goodby', 'das', 'des', 'kind', 'wall', 'angel', 'est', 'road', 'reason', 'dan', 'money', 'chanc', 'quiero', 'mai', 'part', 'matter', 'learn', 'els', 'rise', 'pour', 'saw', 'grow', 'ha', 'sit', 'land', 'fade', 'air', 'took', 'nobodi', 'ne', 'fill', 'easi', 'game', 'follow', 'wake', 'anyth', 'aliv', 'solo', 'water', 'heard', 'though', 'white', 'vida', 'ist', 'voic', 'woman', 'blind', 'each', 'citi', 'young', 'lay', 'moon', 'reach', 'readi', 'fine', 'soon', 'shit', 'along', 'à', 'crazi', 'past', 'red', 'room', 'such', 'ein', 'step', 'scream', 'tomorrow', 'control', 'memori', 'strong', 'hit', 'everyon', 'wast', 'não', 'men', 'earth', 's', 'upon', 'final', 'shake', 'im', 'abov', 'ja', 'moment', 'rest', 'guess', 'hous', 'born', 'somebodi', 'feet', 'mas', 'sad', 'laugh', 'esta', 'happen', 'went', 'cest', 'blow', 'noch', 'meet', 'whole', 'lover', 'drive', 'car', 'lead', 'su', 'veri', 'ni', 'promis', 'bed', 'apart', 'um', 'empti', 'shadow', 'full', 'begin', 'pull', 'child', 'pretti', 'drink', 'pray', 'king', 'cut', 't', 'power', 'gave', 'hay', 'peac', 'hang', 'next', 'ser', 'mother', 'é', 'cuando', 'between', 'pay', 'carri', 'tire', 'speak', 'lot', 'tree', 'den', 'skin', 'tout', 'til', 'slow', 'sinc', 'anymor', 'kid', 'clear', 'mich', 'jesus', 'differ', 'fast', 'becom', 'nigga', 'va', 'gun', 'nos', 'zu', 'más', 'river', 'faith', 'floor', 'cross', 'ladi', 'near', 'fun', 'ring', 'answer', 'pero', 'afraid', 'jag', 'repeat', 'great', 'stori', 'yet', 'cannot', 'hot', 'wir', 'nada', 'hour', 'summer', 'stone', 'bleed', 'sign', 'mir', 'lyric', 'children', 'trust', 'wild', 'felt', 'troubl', 'honey', 'sick', 'perfect', 'human', 'bright', 'bien', 'mama', 'dich', 'parti', 'train', 'plan', 'porqu', 'sorri', 'plus', 'hair', 'secret', 'silenc', 'tast', 'brother', 'throw', 'within', 'per', 'push', 'm', 'somewher', 'three', 'cloud', 'shall', 'vez', 'low', 'window', 'knee', 'lip', 'futur', 'dear', 'search', '2', 'sie', 'drop', 'det', 'cool', 'flame', 'outsid', 'worri', 'bout', 'goin', 'met', 'stare', 'sight', 'most', 'mon', 'voy', 'across', 'wear', 'wave', 'tus', 'pick', 'er', 'send', 'siempr', 'wie', 'bone', 'flow', 'piec', 'soy', 'uh', 'thank', 'mis', 'straight', 'blame', 'catch', 'au', 'ce', 'tight', '&', 'mile', 'holi', 'darl', 'auf', 'mouth', 'christma', 'which', 'moi', 'against', 'mad', 'both', 'share', 'caught', 'father', 'read', 'warm', 'wing', 'nunca', 'belong', 'damn', 'eat', 'win', 'sens', 'comm', 'u', 'fell', 'evil', 'dem', 'ho', 'pictur', 'second', 'nowher', 'dog', 'rule', 'une', 'mal', 'mountain', 'joy', 'mit', 'top', 'och', 'tan', 'som', 'bit', 'cover', 'point', 'thousand', 'hoy', 'n', 'gold', 'bell', 'è', 'devil', 'bird', 'sur', 'quit', 'brain', 'return', 'build', 'kick', 'rose', 'bitch', 'babe', 'guy', 'whoa', 'shame', 'mein', 'space', 'whisper', 'tiempo', 'cos', 'write', 'dir', 'tengo', 'count', 'slip', 'ver', 'desir', 'sei', 'nice', 'weak', 'rais', 'jai', 'ocean', 'number', 'drown', 'spirit', 'scare', 'strang', 'ik', 'half', 'known', 'pretend', 'worth', 'someday', 'act', 'beyond', 'fair', 'million', 'finger', 'question', 'doubt', 'meant', 'smoke', 'comin', 'flesh', 'dawn', 'daddi', 'storm', 'hole', 'color', 'jump', 'remain', 'mundo', 'etern', 'nothin', 'buy', 'nur', 'anyon', 'dress', '1', 'minut', 'dont', 'pra', 'snow', 'd', 'dig', 'estoy', 'forc', 'spend', 'shot', 'everyday', 'puedo', 'tú', 'chain', 'dri', 'grace', 'green', 'glori', 'doch', 'everywher', 'freedom', 'realiz', 'lock', 'pride', 'whatev', 'feed', 'mistak', 'vers', 'fate', 'meu', 'escap', 'wash', 'mess', 'você', 'sand', 'front', 'forgiv', 'vi', 'winter', 'tanto', 'magic', 'flower', 'pa', 'closer', 'safe', 'wenn', 'sol', 'bless', 'suffer', 'longer', 'dein', 'hello', 'san', 'grave', 'alreadi', 'yesterday', 'wide', 'radio', 'sorrow', 'ten', 'tien', 'phone', 'crawl', 'surviv', 'ay', 'tie', 'exist', 'anyway', 'io', 'spin', 'insan', 'nous', 'slowli', 'dond', 'ear', 'crowd', 'clean', 'natur', 'knock', 'four', 'poor', 'loud', 'shoe', 'bar', 'está', 'ass', 'lovin', 'higher', 'race', 'silent', 'lift', 'destroy', 'cuz', 'soft', 'paint', 'mar', 'dirti', 'check', 'ta', 'held', 'vie', 'shout', 'sail', 'twist', 'guitar', 'simpl', 'quand', 'sa', 'ei', 'deni', 'fail', 'van', 'famili', 'vision', 'toi', 'lookin', 'track', 'broke', 'dia', 'state', 'welcom', 'ghost', 'almost', 'shut', 'entr', 'somehow', 'glass', 'yea', 'gent', 'choos', 'für', 'bin', 'glad', 'shoot', 'ell', 'small', 'hill', 'wine', 'treat', 'dos', 'stranger', 'regret', 'refrain', 'corazón', 'machin', 'problem', 'feelin', 'sister', 'era', 'steal', 'endless', 'vai', 'awak', 'key', 'grand', 'cada', 'age', 'bridg', 'dust', 'wit', 'merci', 'wheel', 'ere', 'crack', 'taken', 'prais', 'heal', 'queen', 'mirror', 'von', 'corner', 'ba', 'ago', 'buri', 'book', 'ahora', 'climb', 'quando', 'okay', 'cloth', 'band', 'school', 'stick', 'är', 'circl', 'ou', 'tv', 'don', 'strength', 'og', 'five', 'countri', 'beneath', 'sunshin', 'sabe', 'alma', 'ice', 'ça', 'bound', 'less', 'sell', 'tongu', 'path', 'cielo', 'travel', 'hasta', 'hat', 'rather', 'heat', 'innoc', 'confus', 'cosa', 'golden', 'ohh', 'mari', 'singl', 'ahead', 'bye', 'silver', 'tryin', 'doo', 'mes', 'sai', 'chase', 'pued', 'più', 'few', 'sein', 'scene', 'smell', 'funni', 'enemi', 'swear', 'på', 'ball', 'beg', 'sind', 'x2', 'prayer', 'wound', 'otra', 'ton', 'disappear', 'besid', 'hace', 'toda', 'ignor', 'mr', 'yall', 'style', 'ihr', 'brought', 'given', 'quiet', 'rage', 'mano', 'realiti', 'sink', '3', 'quier', 'spread', 'crime', 'vain', 'nadi', 'fallen', 'self', 'decid', 'ella', 'c', 'fue', 'imagin', 'hier', 'stuck', 'view', 'vas', 'kept', 'demon', 'sui', 'busi', 'ok', 'record', 'law', 'choic', 'har', 'fit', 'remind', 'emot', 'field', 'crash', 'suppos', 'sen', 'cmon', 'dentro', 'mehr', 'danger', 'sich', 'letter', 'midnight', 'com', 'kein', 'nation', 'edg', 'surpris', 'rien', 'murder', 'deal', 'complet', 'loos', 'price', 'instrument', 'luck', 'rip', 'drift', 'poison', 'battl', 'livin', 'gimm', 'gettin', 'haunt', 'sex', 'proud', 're', 'heavi', 'guid', 'nie', 'drag', 'middl', 'bare', 'dare', 'bang', 'ojo', 'pure', 'embrac', 'aus', 'suck', 'stupid', 'fake', 'week', 'news', 'tes', 'master', 'float', 'satisfi', 'sent', 'christ', 'fait', 'scar', 'bear', 'dime', 'quick', 'het', 'poi', 'swing', 'below', 'prove', 'figur', 'diamond', 'none', 'instead', 'pleasur', 'curs', 'rich', 'cat', 'spent', 'seek', 'paper', 'mysteri', 'passion', 'brand', 'siento', 'bomb', 'luz', 'bitter', 'tender', 'fact', 'job', 'qué', 'bet', 'oooh', 'sempr', 'cast', 'sono', 'trip', 'pack', 'explain', 'talkin', 'lucki', 'ci', 'l', 'eso', 'special', 'mark', 'form', 'shoulder', 'warn', 'creat', 'seven', 'ship', 'bist', 'miseri', 'sunday', 'six', 'quien', 'tune', 'wrap', 'muy', 'pop', 'surround', 'doin', 'hero', 'gate', 'comfort', 'han', '2x', 'rush', 'drug', 'fuckin', 'mejor', 'vivir', 'least', 'short', 'sé', 'dann', 'cruel', 'par', 'rhyme', 'written', 'swallow', 'wander', 'reflect', 'dice', 'aunqu', 'tide', 'join', 'bottl', 'steel', 'paradis', 'mia', 'día', 'cant', 'auch', 'wife', 'shore', 'leg', 'somethin', 'draw', 'slave', 'march', 'jour', 'algo', 'beso', 'immer', 'swim', 'built', 'tempo', 'women', 'corazon', 'om', 'fix', 'trap', 'torn', 'vein', 'estar', 'releas', 'hors', 'casa', 'spell', 'glow', 'grab', 'denn', 'drum', 'bite', 'brown', 'won', 'i’m', 'sugar', 'forgotten', 'stronger', 'rhythm', 'victim', 'messag', 'later', 'person', 'darlin', 'así', 'poco', 'avec', 'huh', 'dat', 'dio', 'uma', 'sudden', 'stood', 'att', 'hundr', 'kann', 'runnin', 'sólo', 'season', 'sueño', 'surrend', 'bore', 'vou', 'crush', 'histori', 'wont', 'luna', 'ourselv', 'verdad', 'weight', 'mí', '4', 'lust', 'dolor', 'park', 'expect', 'só', 'speed', 'shade', 'calm', 'bow', 'bend', 'mig', 'strike', 'thrill', 'anim', 'aquí', 'leben', 'thunder', 'soldier', 'vous', 'hacer', 'west', 'destini', 'spit', 'ran', 'twice', 'drunk', 'page', 'med', 'desert', 'block', 'tall', 'anywher', 'distanc', 'mio', 'spring', 'gather', 'g', 'temp', 'foi', 'cuerpo', 'dollar', 'echo', 'knife', 'melt', 'mujer', 'anybodi', 'otro', 'aqui', 'så', 'grey', 'asleep', 'gentl', 'sem', 'direct', 'load', 'divin', 'earli', 'toward', 'kun', 'weather', 'ash', 've', 'os', 'seed', 'highway', 'harder', 'sus', 'boom', 'esa', 'attack', 'action', 'thee', 'fin', 'quon', 'art', 'pie', 'club', 'wird', 'contigo', 'kan', 'rap', 'case', 'hab', 'tous', 'thinkin', 'metal', 'underneath', 'breez', 'teeth', 'respect', 'outta', 'john', 'neck', 'precious', 'nine', 'idea', 'rainbow', 'thi', 'lieb', 'laid', 'offer', 'gut', 'saber', 'een', 'nois', 'begun', 'resist', 'garden', 'sigh', 'bag', 'disguis', 'noon', 'quem', 'string', 'colour', 'nu', 'ooo', 'gift', 'aint', 'shape', 'york', 'jetzt', 'schon', 'teach', 'don’t', 'test', 'lado', 'arriv', 'amar', 'diseas', 'sold', 'clock', 'flash', 'youth', 'box', 'rot', 'lugar', 'mighti', 'certain', 'protect', 'mond', 'ruin', 'romanc', 'vamo', 'sweat', 'fantasi', 'vien', 'kinda', 'nacht', 'deserv', 'piel', 'jeg', 'hora', 'univers', 'desper', 'ach', 'hall', 'anger', 'beast', 'stuff', 'jack', 'tabl', 'punk', 'movi', 'tudo', 'niggaz', 'feliz', 'mucho', 'nightmar', 'doctor', 'freak', 'marri', 'crown', 'serv', 'satan', 'hallelujah', 'amigo', 'trace', 'main', 'nem', 'makin', 'prison', 'moonlight', 'voz', 'thin', 'deeper', 'appear', 'amaz', 'bought', 'weep', 'walkin', 'ant', 'même', 'chi', 'voi', 'hungri', 'wire', 'pocket', 'jamai', 'note', 'south', 'eh', 'woke', 'momento', 'illus', 'nail', 'junto', 'paid', 'bis', 'liar', 'bottom', 'plain', 'ill', 'notic', 'melodi', 'alla', 'camino', 'destruct', 'daughter', 'eas', 'fat', 'whenev', 'ador', 'church', 'bill', 'card', 'cours', 'nake', 'sacrific', 'zeit', 'system', 'pensar', 'order', 'stage', 'celebr', 'hip', 'total', 'welt', 'sera', 'fist', 'dit', 'wors', 'suicid', 'dove', 'bullet', 'senza', 'johnni', 'gain', 'quero', 'grown', 'wherev', 'slide', 'minha', 'fa', 'folk', 'nach', 'hurri', 'lang', 'seu', 'igual', 'vill', 'uno', 'kingdom', 'trick', 'wrote', 'encor', 'tem', 'choke', 'll', 'dame', 'boat', 'tough', 'sang', 'ese', 'beer', 'eras', 'cup', 'brave', 'reveal', 'distant', 'trist', 'worst', 'wieder', 'grass', 'frozen', 'ahh', 'dass', 'faster', 'tard', 'sua', 'plane', 'saturday', 'woah', 'taught', 'generat', 'viel', 'cryin', 'it’', 'movin', 'store', 'shatter', 'stream', 'wood', 'ganz', 'sentir', 'pressur', 'wa', 'sont', 'charm', 'bloodi', 'yellow', 'mo', 'planet', 'joke', 'pound', 'vivo', 'struggl', 'petit', 'dumb', 'suit', 'present', 'revolut', 'nuestro', 'dirt', 'gon', 'hollow', 'será', 'vece', 'vos', 'wick', 'reign', 'miracl', 'rollin', 'stain', 'shelter', 'lifetim', 'claim', 'accept', 'ven', 'judg', 'av', 'tale', 'desd', 'enter', 'fault', 'sale', 'mim', 'betray', 'hast', 'violenc', 'chill', 'lui', 'recuerdo', 'terror', 'settl', 'wet', 'pena', 'foot', 'toujour', 'unknown', 'miedo', 'lonesom', 'nah', 'excus', 'rockin', 'santa', 'amo', 'fever', 'où', 'doubl', 'dire', 'america', 'var', 'asi', 'hidden', 'b', 'electr', 'mass', 'trop', 'j', 'já', 'attent', 'wise', 'volver', 'laughter', 'fame', 'groov', 'mom', 'niet', 'mmm', 'för', 'waitin', 'prepar', 'esto', 'due', 'noi', 'cure', 'began', 'x', 'lesson', 'là', 'hook', 'fish', 'east', 'hoe', 'cop', 'sou', 'seat', 'whose', 'forgot', 'bother', 'chest', 'situat', 'candl', 'cash', 'valley', 'quil', 'further', 'unit', 'mira', 'aim', 'journey', 'cell', 'ao', 'gray', 'vita', 'everytim', 'tag', 'throat', 'heartach', 'conmigo', 'tortur', 'mot', 'cara', 'imag', 'min', 'nuit', 'birth', 'woo', 'refus', 'sword', 'fortun', 'ces', 'ima', 'older', 'spoken', 'chose', 'motion', 'motherfuck', 'fals', 'enjoy', 'oo', 'fort', 'tutto', 'creep', 'sayin', 'trade', 'hoo', 'monkey', 'food', 'worship', 'nel', 'ancient', 'confess', 'coro', 'sobr', 'deja', 'stole', 'forward', 'tua', 'lamour', 'fallin', 'favorit', 'faut', 'toe', 'toy', 'nose', 'favor', 'american', 'class', 'cigarett', 'maria', 'intent', 'pill', 'poder', 'spill', 'cost', 'shed', 'po', 'probabl', 'among', 'tanta', 'dar', 'clown', 'consum', 'saint', 'fai', 'mä', 'connect', 'chao', 'mix', 'dun', 'goodnight', 'amour', 'sola', 'numb', 'viento', 'nest', 'salvat', 'island', 'wipe', 'await', 'spot', 'f', 'merri', 'hombr', 'chair', 'press', 'divid', 'bust', 'bem', 'compani', 'lick', 'boot', 'loneli', 'constant', 'dad', 'bei', 'cage', 'mañana', 'flight', 'cè', 'armi', 'mood', 'killer', 'darkest', 'drain', 'underground', 'polic', 'querer', 'fresh', 'boogi', 'lean', 'pale', 'niin', 'vor', 'ad', 'explod', 'sexi', 'rape', 'dick', 'geht', 'recal', 'exact', 'freez', 'savior', 'piti', 'separ', 'except', 'candi', 'frame', 'honest', 'religion', 'ses', 'vem', 'yeux', 'hunger', 'station', 'although', 'bus', 'onto', 'pum', 'aux', 'trail', 'mil', 'boca', 'leur', 'spark', 'ga', 'peu', 'decay', 'bass', 'demand', 'command', 'beach', 'destin', 'shi', 'greed', 'lack', 'ela', 'via', 'weg', 'vert', 'fui', 'whore', '5', 'paso', 'importa', 'sat', 'palabra', 'monster', 'stumbl', 'komm', 'quiera', 'roam', 'threw', 'screen', 'ancora', 'thou', 'harm', 'gli', 'date', 'cheap', 'north', 'aw', 'r', 'root', 'led', 'rough', 'loco', 'energi', 'ment', 'despair', 'gaze', 'guilti', 'hatr', 'queda', 'joe', 'asid', 'addict', 'seal', 'super', 'iron', 'wisdom', 'scratch', 'papa', 'smash', 'throne', 'deceiv', 'forth', 'coffe', 'ir', 'ves', 'weari', 'posit', 'jah', 'ugli', 'shop', 'hood', 'shell', 'horizon', 'w', 'falta', 'becam', 'piss', 'blade', 'playin', 'grew', 'often', 'ye', 'gal', 'victori', 'receiv', 'takin', 'lightn', 'allow', 'mornin', 'hammer', 'lejo', 'telephon', 'cett', 'admit', 'rat', 'nuevo', 'flag', 'truli', 'doom', 'dis', 'loss', 'sacr', 'limit', 'pasa', 'bigger', 'afternoon', 'fed', 'engin', 'veux', '–', 'foolish', 'jean', 'shock', 'breed', 'greatest', 'mental', 'soledad', 'mismo', 'tal', 'angri', 'ayer', 'finish', 'row', 'vuelv', 'convers', 'plastic', 'grip', 'creation', 'snake', 'regard', 'tick', 'fan', 'lit', 'holiday', 'somo', 'int', 'sue', 'steadi', 'tierra', 'coat', 'funki', 'cheat', 'sort', 'drip', 'teu', 'zum', 'abus', 'possess', 'undon', 'llorar', 'vocal', 'dj', 'hunt', 'month', 'possibl', 'design', 'depend', 'sole', 'daylight', 'decis', 'maar', 'sous', 'morir', 'assim', 'treasur', 'california', 'mare', 'olvidar', 'strip', 'hum', 'calor', 'trembl', 'weiß', 'durch', 'invit', 'rope', 'flood', 'ticket', 'ohn', 'crew', 'spoke', 'sheet', 'fuego', 'cantar', 'wreck', 'cowboy', 'allein', 'needl', 'decir', 'common', 'lung', 'monday', 'friday', 'girlfriend', 'piano', 'mission', 'veo', 'destino', 'perder', 'rescu', 'lazi', 'coupl', 'hi', 'coeur', 'p', 'eight', 'hai', 'andar', 'split', 'quisiera', 'mortal', 'guard', 'seul', 'societi', 'hotel', 'easili', 'anch', 'fashion', 'heel', 'creatur', 'sittin', 'defeat', 'ben', 'excit', 'pari', 'hung', 'ett', 'lake', 'tower', 'dive', 'estrella', 'silencio', 'curtain', 'gas', 'restless', 'canto', 'ond', 'dum', 'grant', 'unless', 'cheek', 'type', 'crumbl', 'hail', 'chosen', 'sunni', 'handl', 'lá', 'lion', 'burnin', 'disco', 'bank', 'match', 'deux', 'twenti', 'aris', 'replac', 'heut', 'you’r', 'score', 'mentira', 'bon', 'continu', 'stretch', 'inspir', 'ol', 'din', 'forest', 'callin', 'questa', 'coast', 'mort', 'questo', 'belief', 'tuo', 'sunlight', 'plant', 'sever', 'whip', 'ray', 'oder', 'descend', 'così', 'simpli', 'singin', 'mirada', 'mankind', 'violent', 'lane', 'void', 'hop', 'weil', 'mondo', 'sunset', 'thru', 'silli', 'corps', 'lass', 'behold', 'normal', 'agre', 'abandon', 'weapon', 'wed', 'bella', 'reveng', 'tini', 'justic', 'weekend', 'meno', 'mic', 'nor', 'bloom', 'sam', 'affair', 'leader', 'aber', 'aah', 'nerv', '10', 'ohhh', 'hush', 'historia', 'op', 'caress', 'either', 'discov', 'leavin', 'helpless', 'ghetto', 'bread', 'dancin', 'x4', 'tant', 'hmm', 'momma', 'x3', 'gibt', 'tão', 'vive', 'pace', 'gusta', 'relax', 'jam', 'paz', 'brick', 'digo', 'dei', 'complain', 'burden', 'sunris', 'also', 'linger', 'jungl', 'hopeless', 'abl', 'agua', 'bop', 'fi', 'pillow', 'damag', 'mister', 'mask', 'itself', 'drove', 'pump', 'ska', 'boss', 'himself', 'list', 'whiskey', 'moral', 'affect', 'conquer', 'rosa', 'tumbl', 'album', 'mend', 'warrior', 'sinner', 'herz', 'mientra', 'tip', 'express', 'loser', 'chant', 'ogni', 'crave', 'crystal', 'diga', 'perché', 'thrown', 'quell', 'encontrar', 'bay', 'bee', 'fruit', 'hangin', 'billi', 'hollywood', 'parad', 'allt', 'bailar', 'weed', 'ciudad', 'switch', 'wat', 'soir', 'stab', 'asham', 'vent', 'collect', 'macht', 'truck', 'instant', 'terra', 'temptat', 'kuin', 'skull', 'ora', 'ed', 'fare', 'rebel', 'meat', 'autumn', 'bom', 'viver', 'london', 'jos', 'deliv', 'perdido', 'cuor', 'doll', 'downtown', 'pink', 'v', 'owe', 'quun', 'sigu', 'howl', 'gana', 'heartbeat', 'core', 'butterfli', 'aquel', 'chick', 'della', 'bastard', 'wer', 'noit', 'imposs', 'sangr', 'easier', 'clue', 'li', 'fuera', 'shiver', 'pool', 'presenc', 'dread', 'surfac', 'nient', 'occhi', 'pienso', 'conscienc', 'zero', 'pelo', 'alguien', 'blaze', 'squeez', 'blast', 'haben', 'dope', 'bruis', 'pue', 'tea', 'honor', 'ze', '6', 'lamb', 'q', 'recogn', 'flor', 'whistl', 'roof', 'givin', 'gang', 'bewar', 'tomb', 'lei', 'euch', 'seguir', 'wow', 'clap', 'squar', 'forma', 'workin', 'rider', 'appl', 'modern', 'tellin', 'magazin', 'cha', 'coz', 'inner', 'impress', 'drawn', 'smart', 'harmoni', 'govern', 'iâ\\x80\\x99m', 'quest', 'gran', 'volar', 'bliss', 'yuh', 'polit', 'dim', 'tour', 'pant', 'cheer', 'quer', 'familiar', 'fought', 'roar', 'dicen', 'när', 'pen', 'obsess', 'centuri', 'i´m', 'failur', 'jail', 'parec', 'confid', 'meg', 'kneel', 'spare', 'pin', 'vaya', 'import', 'mourn', 'hablar', 'giorno', 'yearn', 'cuenta', 'guilt', 'solut', 'terr', 'focus', 'cling', 'concret', 'horror', 'sore', 'dom', 'unfold', 'bounc', 'nun', 'goal', 'selfish', 'knowledg', 'canción', 'awaken', 'bath', 'kommt', 'delight', 'hesit', 'fond', 'parol', 'courag', 'serious', 'whether', 'ter', 'sweetest', 'useless', 'invis', 'film', 'ole', 'themselv', 'male', 'alcohol', 'sake', 'sway', 'relat', 'nott', 'tra', 'stair', 'parent', 'advic', 'grind', 'negro', 'vento', 'riot', 'sombra', 'blown', 'bajo', '7', 'saa', 'burst', 'quel', 'size', 'sheep', 'fold', 'captur', 'dies', 'texa', 'lee', 'dwell', 'frighten', 'fragil', 'einen', 'ave', 'can’t', 'hacia', 'blew', 'chicken', 'thorn', 'teenag', 'everlast', 'zone', 'tape', 'feather', 'necesito', 'compar', 'agora', 'loin', 'pig', 'carv', 'plagu', 'tiger', 'flat', 'dee', 'punch', 'bueno', 'slaughter', 'funk', 'deseo', 'ami', 'nervous', 'tragedi', 'thick', 'mijn', 'fenc', 'anytim', 'backward', 'brighter', 'voir', 'envi', 'complic', 'captain', 'purpos', 'ordinari', 'nuestra', 'grin', 'mer', 'infect', 'spine', 'ought', 'defend', 'photograph', 'tha', 'prey', 'patient', 'nombr', 'flip', 'mc', 'mist', 'toss', 'castl', 'ici', 'horn', 'secur', 'jane', 'k', 'sä', 'sympathi', 'creo', 'baila', 'trash', 'shirt', 'twilight', 'pair', 'dreamer', 'compromis', 'board', 'veil', 'error', 'standin', 'ke', 'realis', 'devot', 'solid', 'babylon', 'fanci', 'ding', 'kom', 'faz', 'cerca', 'eg', 'holdin', 'justifi', 'alor', 'pearl', 'domin', 'soleil', 'estaba', 'origin', 'llegar', 'reject', 'awhil', 'sag', 'milk', 'tener', 'sweetheart', 'lil', 'content', 'samba', 'extra', 'ka', 'rotten', 'sucker', 'salt', 'bat', 'worn', 'toll', 'pi', 'buscando', 'yard', 'leather', 'astray', 'shift', 'third', 'grief', 'azul', 'upsid', 'buck', 'jingl', 'witch', 'dune', 'borrow', 'zijn', 'ont', 'kitchen', 'bedroom', 'sient', 'sigo', 'cream', 'birthday', 'limb', 'court', 'tom', 'neon', 'teacher', 'meer', 'overcom', 'depress', 'ingen', 'juli', 'scatter', 'pussi', 'pile', 'jealous', 'bum', 'rocket', 'jimmi', 'habit', 'dor', 'sensat', 'corrupt', 'righteous', 'neighbor', 'rob', 'moan', 'quello', 'dormir', 'virgin', 'labio', 'port', 'libertad', 'depth', 'revel', 'pasar', 'screw', 'stress', 'wolf', 'sto', 'augen', 'él', 'rum', 'sir', 'voor', 'beau', 'espera', 'beam', 'add', 'farewel', 'shower', 'concern', 'pasado', 'measur', 'oui', 'licht', 'voglio', '4x', 'raini', 'remov', 'ceas', 'tail', 'ive', 'apolog', 'peur', 'border', 'breakin', 'viva', 'charg', 'mij', 'frustrat', 'perfum', 'bent', 'bubbl', 'unto', 'dag', 'terribl', 'ciel', 'eve', 'disgrac', 'soil', 'pro', 'puerta', 'wrath', 'mun', 'dreamin', 'feast', 'nas', 'reaction', 'duel', '9', 'scheme', 'awar', 'smooth', 'shallow', 'razón', 'pode', 'trigger', 'patienc', 'fatal', 'brazo', 'warmth', 'nai', 'ceil', 'agoni', 'sweep', 'starv', 'deje', 'princ', 'olho', 'collaps', 'fuel', 'david', 'skip', 'entend', 'greet', 'haze', 'wore', 'crow', 'pueda', 'coup', 'guerra', 'å', 'vale', 'fe', 'privat', 'nyt', 'jame', 'herself', 'bullshit', 'teardrop', 'commit', 'blink', 'pensando', 'disast', 'lon', 'ang', 'olvido', 'siren', 'glorious', 'frown', 'glanc', 'absolut', 'vuelvo', 'convinc', 'palm', 'guarante', 'mention', 'ridin', 'rent', 'mike', 'vaan', 'sentiment', 'tutti', 'heartbreak', 'pobr', 'haut', 'año', 'unser', 'corp', 'vow', 'ele', 'tristeza', 'stray', 'vuoi', 'oi', 'punish', 'libr', 'fondo', 'i’ll', 'morgen', 'televis', 'cama', 'suffoc', 'mann', 'click', 'torment', 'repent', 'fri', 'contra', 'condit', 'alt', 'teas', 'linda', 'prize', 'michael', 'yell', 'jou', 'jo', 'ego', 'donâ\\x80\\x99t', 'ander', 'cook', 'cave', 'darken', 'mut', 'attitud', 'collid', 'adesso', 'mirar', 'mitt', 'sleev', 'parar', 'despué', 'sting', 'plenti', 'werd', 'coração', 'gay', 'devour', 'peut', 'eagl', 'fors', 'equal', 'empir', 'prend', 'balanc', 'ala', 'går', 'cultur', 'soak', 'jeder', 'quarter', 'tone', 'herida', 'amanec', 'summertim', 'unseen', 'thang', 'sharp', 'proof', 'sonrisa', 'earn', 'preacher', 'über', 'base', 'belli', 'mach', 'lullabi', 'louder', 'dulc', 'panic', 'flore', 'social', 'werden', 'rang', 'cock', 'shown', 'sung', 'understood', 'progress', 'cambiar', 'strand', 'seh', 'role', 'despertar', 'bride', 'crook', 'fiesta', '3x', 'thug', 'bind', 'quoi', 'notr', 'shove', 'suert', 'gangsta', 'frent', 'cherri', 'mill', 'há', 'oil', 'coisa', 'dude', 'deed', 'oclock', 'cabeza', 'st', 'tres', 'ama', 'drank', 'strain', 'espero', 'muert', 'dragon', 'homm', 'wrist', 'team', 'jen', 'thirst', 'einfach', 'basta', 'playa', 'pronto', 'avoid', 'inch', 'ecstasi', 'muero', 'inform', 'mud', 'deus', 'gehen', 'madr', 'purpl', 'nog', 'razor', 'rust', 'femm', 'famous', 'pui', 'defin', 'atrá', 'don´t', 'bold', 'bibl', 'pit', 'kaikki', 'burnt', 'choir', 'trial', 'essa', 'entertain', 'penni', 'comment', 'rio', 'här', 'bras', 'tenho', 'demis', 'serpent', 'lleva', 'alguna', 'emerg', 'rue', 'stolen', 'ooooh', 'alarm', 'autr', 'hug', 'arrow', 'buena', 'templ', 'también', 'rejoic', 'bene', 'code', 'vuelva', 'damour', 'itâ\\x80\\x99', 'taim', 'dancer', 'odd', 'gloria', 'map', 'adio', 'presid', 'aha', 'afford', 'southern', 'mala', 'drivin', 'rag', 'organ', 'experi', 'spite', 'boil', 'movement', 'highest', 'avant', 'immort', 'pens', 'plate', 'cake', 'esperando', 'esperar', 'az', 'qu', 'bobbi', 'slam', 'jet', 'vom', 'chanson', 'halt', 'soar', 'cancion', 'bob', 'swell', 'bo', 'warum', 'pot', 'funer', 'christian', 'gen', 'yeh', 'niño', 'risk', 'ritmo', 'felicidad', 'scienc', 'plead', 'llevo', 'vu', 'drinkin', 'maker', 'amen', 'giant', 'level', 'raw', 'nella', 'ess', 'flew', '8', 'até', 'languag', 'deepest', 'pido', 'zurück', 'encuentro', 'motor', 'visit', 'z', 'sweeter', 'pose', 'aldrig', 'cradl', 'obey', 'goddamn', 'threat', 'partir', 'hoje', 'driver', 'attract', 'buddi', 'public', 'avenu', 'taa', 'co', 'busco', 'tempt', 'chemic', 'jone', 'shakin', 'ny', 'mie', 'siamo', 'nena', 'vorrei', 'bein', 'daili', 'sta', 'stack', 'nasti', 'satisfact', 'center', 'tame', 'pierc', 'obvious', 'worthi', 'pourquoi', 'consid', 'gar', 'anda', 'sparkl', 'willst', 'fulfil', 'i’v', 'prophet', 'vanish', 'pan', 'slap', 'quién', 'hypnot', 'spoon', 'posso', 'thread', 'china', 'chew', 'quanto', 'canta', 'whatcha', 'bump', 'és', 'humbl', 'claw', 'preach', 'cadillac', 'mate', 'chaqu', 'sí', 'bond', 'grain', 'ninguém', 'dieser', 'são', 'mucha', 'voce', 'cómo', 'saniti', 'blank', 'già', 'degre', 'wither', 'snap', 'fog', 'doy', 'despis', 'endur', 'luce', 'busca', 'salir', 'sip', 'dedic', 'pine', 'alley', 'rearrang', 'saviour', 'donn', 'traffic', 'sincer', 'vad', 'liberti', 'volta', 'gypsi', 'pare', 'ko', 'struck', 'deinen', 'chip', 'ut', 'puls', 'scent', 'meinen', 'lame', 'stir', 'chop', 'fuert', 'sehen', 'condemn', 'llena', 'cleans', 'neither', 'buzz', 'tai', 'indian', 'muss', 'enfant', 'negra', 'rub', 'prima', 'blowin', 'cancer', 'solitud', 'driven', 'kommer', 'klein', 'sooner', 'success', 'media', 'viejo', 'blacken', 'foreign', 'vuelta', 'greater', 'sourc', 'boyfriend', 'medicin', 'rare', 'hago', 'lace', 'decemb', 'colder', 'camera', 'quelqu', 'bail', 'sagt', 'vivr', 'tool', 'oper', 'crimin', 'havin', 'interest', 'paul', 'être', 'llega', 'vet', 'runaway', 'slept', 'footstep', 'sixteen', 'fuerza', 'priest', 'nana', 'egg', 'intro', 'aussi', 'realidad', 'turnin', 'alien', 'vengeanc', 'kannst', 'dejar', 'stake', 'días', 'sonn', 'noir', 'sooth', 'cuanto', 'rein', 'bara', 'watchin', 'sentido', 'peel', 'stormi', 'player', 'dinner', 'hardest', 'respons', 'juego', 'worm', 'tak', 'aye', 'ar', 'perhap', 'dizer', 'orlean', 'blond', 'critic', 'stomach', 'niemand', 'toast', 'oye', 'bug', 'crucifi', 'sailor', 'steam', 'clever', 'claus', 'uncl', 'graviti', 'chica', 'reap', 'sento', 'farm', 'opinion', 'estamo', 'whom', 'blir', 'grasp', 'mamma', 'tore', 'dale', 'hurrican', 'mesmo', 'thief', 'za', 'tuoi', 'vibe', 'shini', 'muerto', 'sidewalk', 'passa', 'conscious', 'glove', 'perform', 'lluvia', 'winner', 'consequ', 'cantando', 'bleibt', 'buscar', 'sentimiento', 'disappoint', 'ann', 'lamor', 'oss', 'amant', 'ki', 'zo', 'jede', 'satellit', 'tattoo', 'muito', 'weit', 'tas', 'deg', 'usual', 'hecho', 'cocain', 'tot', 'tuesday', 'tension', 'rout', 'educ', 'bitt', 'zombi', 'ohoh', 'mieux', 'furi', 'alter', 'lend', 'valu', 'ainda', 'coal', 'tí', 'mommi', 'velvet', 'blanket', 'drama', 'bowl', 'orang', 'amart', 'uhh', 'reborn', 'angst', 'lotta', 'lyin', 'especi', 'conceal', 'rid', 'ideal', 'dal', 'sos', 'willi', 'sentenc', 'tête', 'dell', 'adió', 'tar', 'button', 'nao', 'strap', 'meinem', 'display', 'aan', 'fra', 'ihn', 'tap', 'sagen', 'miei', 'hon', 'signal', 'sul', 'shook', 'dot', 'jewel', 'himmel', 'vine', 'redeem', 'musica', 'cow', 'einer', 'termin', 'meus', 'pattern', 'ur', 'throughout', 'younger', 'coin', 'verso', 'deaf', 'ahhh', 'expos', 'compass', 'personn', 'donna', 'num', 'describ', 'lower', 'brush', 'alegria', 'mm', 'outro', 'fazer', 'tangl', 'instinct', 'effect', 'approach', 'breast', 'volt', 'naar', 'dart', 'wil', 'franc', 'ow', 'repli', 'provid', 'fim', 'declar', 'nuclear', 'swore', 'ez', 'llama', 'vino', 'están', 'solv', 'piensa', 'steht', 'distort', 'lair', 'rubber', 'factori', 'post', 'artist', 'anni', 'peter', 'biggest', 'brutal', 'extrem', 'english', 'jij', 'jerk', 'aún', 'calma', 'laiss', 'debt', 'perch', 'shield', 'mía', 'esperanza', 'haar', 'doi', 'redempt', 'model', 'sido', 'weigh', 'resurrect', 'alto', 'curl', 'cent', 'june', 'slice', 'mitä', 'sha', 'olen', 'insecur', 'coward', 'ra', 'usa', 'finn', 'georgia', 'estou', 'cute', 'cruis', 'mexico', 'invad', 'jealousi', 'futuro', 'fuist', 'dejo', 'halo', 'tras', 'beaten', 'luego', 'shelf', 'motiv', 'twelv', 'it´', 'rumor', 'tennesse', 'swept', 'anna', 'jaim', 'nosso', 'nuh', 'jamá', 'contain', 'nein', 'wort', 'ate', 'sleigh', 'schön', 'champagn', 'aun', 'defens', 'deceit', 'weird', 'relief', 'tá', 'product', 'dip', 'zwei', '12', 'gesicht', 'singer', 'vera', 'vielleicht', 'spi', 'target', 'souvenir', 'stereo', 'bij', 'rude', 'manera', 'ab', 'reli', 'woh', 'harvest', 'corpo', 'liquid', 'fucker', 'exit', 'sonho', '20', 'woe', 'web', 'casi', 'facil', 'princess', 'einmal', 'muscl', 'booti', 'blur', 'ii', 'ahí', 'duck', 'respirar', 'minä', 'evid', 'idiot', 'breakdown', 'liber', 'sow', 'georg', 'dans', 'einem', 'flyin', 'symphoni', 'ficar', 'automat', 'robot', 'igen', 'realm', 'practic', 'distract', 'extraño', 'judgement', 'sane', 'april', 'caer', 'gear', 'vicious', 'womb', 'visto', 'h', 'major', 'willow', 'neighborhood', 'static', 'wealth', 'reel', 'yer', 'isol', 'joint', 'dónde', 'venus', 'dijo', 'evri', 'wolv', 'ventana', 'lala', 'cariño', 'dinero', 'africa', 'coraz', 'homi', 'sock', 'arena', 'support', 'credit', 'regga', 'repres', 'miro', 'matin', 'sleepi', 'worthless', 'video', 'griev', 'meiner', 'branch', 'achiev', 'denk', 'vielä', 'demain', 'maze', 'knockin', 'correct', 'dial', 'file', 'misma', 'soi', 'malo', 'filthi', 'jim', 'juic', 'convict', 'cycl', 'ceux', 'perdu', 'ello', 'disturb', 'pein', 'chocol', 'rapper', 'olvid', 'forgiven', 'sinn', 'tend', 'corpor', 'tunnel', 'loca', 'dai', 'legend', 'dimens', 'tief', 'idol', 'dyin', 'forsaken', 'allá', 'fella', 'physic', 'matar', 'tragic', 'gris', 'soll', 'forti', 'communic', 'dough', 'england', 'denial', 'där', 'liv', 'local', 'algún', 'urg', 'céu', 'hijo', 'taxi', 'ambit', 'voyag', 'locura', 'mere', 'dull', 'unleash', 'tread', 'smokin', 'william', 'gleam', 'civil', 'defi', 'haga', 'amongst', 'ob', 'heed', 'bull', 'host', 'dieu', 'villag', 'unkind', 'altar', 'arriba', 'sal', 'lisa', 'bunch', 'croi', 'weiter', 'pardon', 'aller', 'despit', 'ignit', 'cotton', 'nei', 'dr', 'verd', 'phase', 'porta', 'gracia', 'tue', 'depoi', 'link', 'intern', 'seventeen', 'decirt', 'shes', 'coffin', 'hound', 'decept', 'health', 'frei', 'alibi', 'vengo', 'bled', 'rubi', 'leaf', 'attempt', 'tienen', 'llorando', 'suelo', 'thumb', 'razon', 'rode', 'sober', 'buen', 'pela', 'cum', 'joka', 'iâ', 'crimson', 'height', 'frost', 'acid', 'glaub', 'net', 'pimp', 'empezar', 'font', 'selbst', 'shepherd', 'hunter', 'jive', 'prevail', 'jaw', 'circus', 'sia', 'background', 'fairi', 'sufrir', 'quieren', 'symbol', 'sabor', 'geh', 'sulla', 'jeden', 'peak', 'plot', 'guarda', 'blanco', 'manag', 'safeti', 'sleepless', 'chez', 'liquor', 'narrow', 'explos', 'object', 'there’', 'meal', 'unholi', 'nós', 'deiner', 'untru', 'wah', 'fountain', 'ô', 'penso', 'spider', 'mata', 'inde', 'poet', 'flicker', 'vote', 'tank', 'salli', 'scale', 'halfway', 'jsui', 'traum', 'keepin', 'foe', 'honesti', 'creer', 'missin', 'torch', 'infinit', 'niña', 'wär', 'haus', 'holler', 'gott', 'attend', 'skill', 'ref', 'atom', 'bas', 'scorn', 'cap', 'hem', 'keiner', 'olhar', 'vibrat', 'faint', 'nen', 'offic', 'pave', 'peux', 'stroll', 'piu', 'bello', 'ahi', 'voodoo', 'cétait', 'caricia', 'knot', 'thirti', 'thigh', 'tuyo', 'tenga', 'process', 'duro', 'estribillo', 'gern', 'valentin', 'fright', 'spiritu', 'stock', 'fiction', 'senti', 'memphi', 'padr', '¿qué', 'olla', 'overwhelm', 'mami', 'glimps', 'friendship', 'vampir', 'paralyz', 'lifeless', 'coke', 'hardcor', 'pistol', 'bush', 'cherish', 'spiral', 'infin', 'weav', 'sack', 'bam', 'hacen', 'dalla', 'inna', 'chin', 'parasit', 'contact', 'dado', 'losin', 'était', 'fleur', 'raus', 'weh', 'wage', 'tambien', 'dissolv', 'won’t', 'cu', 'puoi', 'superstar', 'searchin', 'ali', 'nueva', 'hart', 'diss', 'tenert', 'whoo', 'almighti', 'unwind', 'plea', 'sexual', 'dew', 'negat', 'bu', 'spoil', 'junki', 'puppet', 'gin', 'blossom', 'fuss', 'plein', 'vast', 'stell', 'histoir', 'stroke', 'â\\x96', 'seam', 'rey', 'medo', 'prefer', 'northern', 'author', 'disgust', 'dure', 'devant', 'wretch', 'sarà', 'atmospher', 'daydream', 'pipe', 'remors', 'martyr', 'yonder', 'moin', 'hizo', 'sneak', 'debe', 'abyss', 'version', 'papel', 'comprend', 'uhhuh', 'isso', 'oooo', 'pon', 'gutter', 'rate', 'vaikka', 'pavement', 'od', 'dusti', 'roller', 'label', 'deck', 'vultur', 'tun', 'careless', 'glide', 'wirklich', 'pawn', 'vorbei', 'fifteen', 'bord', 'nut', 'mentr', 'quis', 'spanish', 'impos', 'fifti', 'stink', 'leap', 'jahr', 'penetr', 'dam', 'ritual', 'fellow', 'clip', 'suppli', 'flee', 'elev', 'mail', 'ribbon', 'corr', 'hospit', 'aina', 'ladder', 'wail', 'bathroom', 'dá', 'sait', 'jenni', 'heur', 'revolv', 'barrio', 'knive', 'vice', 'firm', 'chicago', 'ikk', 'breakfast', 'että', 'despu', 'darker', 'upset', 'oblivion', 'hustl', 'favourit', 'reward', 'servant', 'rewind', 'primavera', 'culpa', 'enslav', 'solament', 'ditt', 'charli', 'pueblo', 'fuse', 'aquella', 'toca', 'tin', 'opposit', 'propheci', 'zur', 'oughta', 'sorriso', 'carpet', 'servic', 'dort', 'oscuridad', 'comput', 'mont', 'olvidart', 'butt', 'invent', 'acaba', 'strive', 'muev', 'chord', 'sleepin', 'foul', 'scrape', 'erst', 'captiv', 'ey', 'bid', 'ohhhh', 'jar', 'drew', 'definit', 'wonderin', 'slight', 'pole', 'fascin', 'shorti', 'bark', 'killin', 'produc', 'alguém', 'mystic', 'peep', 'grate', 'tranc', 'nube', 'resto', 'nome', 'oppress', 'batter', 'bike', 'liegt', 'harri', 'medic', 'glück', 'accid', 'waltz', 'asshol', 'soñar', 'stall', 'problema', 'deixa', 'finest', 'fácil', 'rome', 'quedo', 'savag', 'bonita', 'politician', 'seiz', 'general', 'hör', 'parl', 'independ', 'très', 'wirst', 'ain', 'perchè', 'seit', 'dine', 'pollut', 'french', 'phrase', 'niemal', 'circumst', 'rattl', 'musiqu', 'romant', 'ultim', 'deinem', 'union', 'habe', 'stench', 'sest', 'couch', 'sourir', 'accus', 'determin', 'risa', 'prime', 'nom', 'enamorado', 'hater', 'egal', 'bonheur', 'meadow', 'klar', 'saudad', 'beep', 'shotgun', 'gira', 'contar', 'lamp', 'elvi', 'trumpet', 'porch', 'graveyard', 'gentlemen', 'seren', 'grito', 'vil', 'glitter', 'larg', 'kopf', 'secreto', 'group', 'profit', 'declin', 'lou', 'sour', 'involv', 'quizá', 'boo', 'project', 'materi', 'ilusión', 'noel', 'placer', 'execut', 'revers', 'luci', 'gambl', 'summon', 'também', 'mua', 'señor', 'fest', 'melhor', 'madrugada', 'fo', 'microphon', 'claro', 'virus', 'explor', 'speech', 'venom', 'fino', 'sehr', 'hän', 'vacat', 'partner', 'cualquier', 'youâ\\x80\\x99r', 'sotto', 'doorway', 'silhouett', 'notion', 'entrar', 'market', 'slay', 'rail', 'mold', 'rêve', 'yah', 'raven', 'insiem', 'knight', 'cuento', 'heb', 'cose', 'bli', 'eterno', 'digniti', 'escapar', 'depui', 'adventur', 'depart', 'letra', 'mulher', 'lawn', 'får', 'essenc', 'fr', 'paus', 'caminar', 'outra', 'tut', 'sil', 'preciso', 'obscur', 'się', 'smack', 'slut', 'childhood', 'gå', 'memoria', 'lipstick', 'shinin', 'photo', 'enchant', 'tocar', 'hei', 'ira', 'farther', 'sport', 'gasolin', 'enää', 'latest', 'rosi', 'guardo', 'fiend', 'concentr', 'mina', 'palac', 'aboard', 'strife', 'lágrima', 'llora', 'anchor', 'dreamt', 'corn', 'clay', 'déjà', 'café', 'dah', 'dizzi', 'spray', 'messiah', 'voix', 'brake', 'pleur', 'cafe', 'sum', 'pet', 'jade', 'combin', 'può', 'tod', 'hur', 'hogi', 'apathi', 'desol', 'crippl', 'axe', 'rabbit', 'sanctuari', 'valor', 'transform', 'uniform', 'confront', 'swift', 'barrel', 'filth', 'vrai', 'entonc', 'lune', 'masquerad', 'mississippi', 'chime', '50', 'railroad', 'qua', 'llego', 'actual', 'shoulda', 'gloom', 'escond', 'perd', '15', 'jama', 'conoc', 'aaah', 'abr', 'don`t', 'blut', 'inn', 'phantom', 'appeal', 'plug', 'vaniti', 'poni', 'mainten', 'cristal', 'fearless', 'stitch', 'fragment', 'clutch', 'pecho', '30', 'squad', 'cambio', 'makeup', 'stalk', 'surf', 'outer', 'basement', 'obscen', 'gehn', 'passé', 'fiddl', 'steve', 'boulevard', 'chart', 'arrang', 'increas', 'septemb', 'i`m', 'rua', 'endlich', 'weer', 'guitarra', 'leve', 'evolut', 'wooden', 'querert', 'vraiment', 'kickin', 'unter', 'logic', '40', 'toma', 'feat', 'gotten', 'tryna', 'mire', 'esser', 'hid', 'wasteland', 'fighter', 'då', 'husband', 'jumpin', 'suo', 'machen', 'pathet', 'pasión', 'maim', 'program', 'demasiado', 'majesti', 'retreat', 'appreci', 'daze', 'challeng', 'queria', 'letzt', 'nosotro', 'sogno', 'ku', 'subject', 'standard', 'troppo', 'jazz', 'opportun', 'sehn', 'miser', 'col', 'legion', 'submit', 'qualquer', 'cough', 'medio', 'teen', 'wilder', 'sed', 'peau', 'pone', 'studi', 'dije', 'jacket', 'overflow', 'vient', 'suprem', 'butcher', 'balloon', 'pushin', 'mnie', 'tradit', 'pane', 'c\\x9cur', 'stomp', 'alegr', 'judgment', 'industri', 'jugar', 'introduc', 'lai', 'esquina', 'venir', 'iba', 'taint', 'pude', 'counti', 'fleet', 'sinä', 'rêves', 'allah', 'groovi', 'sogni', 'chrome', 'blah', 'genocid', 'kalt', '\\x96', 'unreal', 'slumber', 'thiev', 'frank', 'id', 'lurk', 'unhappi', 'ihm', 'morena', 'chico', 'dusk', 'cuatro', 'lap', 'sve', 'dynamit', 'blick', 'twin', 'muer', 'dub', 'yi', 'thirsti', 'skirt', 'hopin', 'predict', 'heroin', 'escucha', 'ormai', 'wonderland', 'scari', 'steer', 'genau', 'besoin', 'ana', 'llanto', 'screamin', 'routin', 'contr', 'tooth', 'paura', 'sopra', 'perdida', 'vuela', 'fuori', 'eden', 'pierdo', 'remedi', 'cloudi', 'adam', 'raison', 'perro', 'amus', 'closet', 'tuve', 'ner', 'ano', 'western', 'ness', 'piedra', 'amiga', 'beef', 'aprè', 'featur', 'robin', 'decad', 'qued', 'bald', 'wollt', 'neue', 'whine', 'chees', 'feu', 'aprend', 'dish', 'leva', 'brauch', 'misunderstood', 'misti', 'diferent', 'habla', 'når', 'psycho', 'spotlight', 'reviv', 'suitcas', 'freund', 'damnat', 'duda', 'etwa', 'geld', 'stadt', 'cunt', 'mellow', 'poetri', 'lumièr', 'bean', 'print', 'confin', 'kommen', 'domani', 'correr', 'perman', 'strada', 'inhal', 'idl', 'juro', 'allen', 'upp', 'statu', 'bluebird', 'uniti', 'sitä', 'reckless', 'robe', 'leer', 'lhe', 'vite', 'modo', 'menschen', 'voltar', 'incred', 'aujourdhui', 'anticip', 'etc', 'pensamiento', 'estc', 'keinen', 'kimi', 'raindrop', 'puzzl', 'chemin', 'lindo', 'wax', 'foss', 'junk', 'veut', 'kaiken', 'contempl', 'skeleton', 'caso', 'wollen', 'ruido', 'grade', 'leau', '‘caus', 'effort', 'dêtre', 'hippi', 'fil', 'curv', 'dabei', 'nossa', 'eventu', 'recordar', 'disconnect', 'carol', 'strung', 'infierno', 'daß', 'cousin', 'radiat', 'pal', 'stiff', 'trend', 'lento', 'aqu', 'terrifi', 'fore', 'vide', 'belov', 'channel', 'joli', 'parc', 'vuol', 'então', 'stern', 'cope', 'garbag', 'admir', 'blister', 'sull', 'mão', 'odio', 'pitch', 'carn', 'slippin', 'dong', 'seus', 'we’r', 'debo', 'honki', 'shark', 'cari', 'afar', 'jest', 'superman', 'pu', 'ust', 'sublim', 'hiphop', 'ident', 'ge', 'billion', 'rocknrol', 'punto', 'oon', 'romeo', 'geen', 'banana', 'escuchar', 'richard', 'livet', 'jung', 'fiel', 'noos', 'beggin', 'trunk', 'ink', 'mash', 'succeed', 'toni', 'bi', 'spinnin', 'powder', 'despierto', 'fou', 'motherfuckin', 'hun', 'butter', 'fatto', 'manchmal', 'llevar', 'fur', 'disagre', 'voll', 'assur', 'från', 'savoir', 'horizont', 'carnav', 'you´r', 'drunken', 'tuck', 'keeper', 'broad', 'maid', 'flock', 'déjame', 'gib', 'tellement', 'vieux', 'tango', 'bailando', 'larm', 'berlin', 'handsom', 'gefühl', 'blunt', 'qual', 'inject', 'timeless', 'schwer', 'gi', 'cor', 'bonni', 'clone', 'allí', 'mall', 'wink', 'blanca', 'sinto', 'mirando', 'meaningless', 'nessuno', 'laat', 'crap', 'legal', 'hypocrit', 'hermano', 'pasion', 'aid', 'brooklyn', 'donc', 'jak', 'delus', 'term', 'primera', 'pourtant', 'layin', 'conceiv', 'seel', 'devast', 'slick', 'vega', 'pluie', 'tax', 'frío', 'ty', 'virtu', 'lontano', 'unabl', 'distress', 'bla', 'ember', 'wee', 'mmmm', 'pedir', 'beckon', 'galaxi', 'diz', 'ley', 'passo', 'mous', 'issu', 'absurd', 'imma', 'zoo', 'rocki', 'pide', 'jackson', 'neat', 'itch', 'insect', 'starlight', 'shred', '000', 'segundo', 'nooit', 'avait', 'bonito', 'foundat', '13', 'mag', 'scarlet', 'lunch', 'cansado', 'leak', 'près', 'bah', 'giorni', 'siehst', 'consol', 'flirt', 'absenc', 'lalala', 'comprehend', 'hin', 'scum', 'stride', 'fingertip', 'lua', 'translat', 'reput', 'starri', 'conclus', 'pouco', 'belt', 'alltid', 'sig', 'tribe', 'illumin', 'knowin', 'weet', 'forg', 'minor', 'behav', 'oli', 'croir', 'troi', 'passer', 'dautr', 'vela', 'anyhow', 'mock', 'habrá', 'bir', 'espejo', 'intens', 'saddl', 'glue', 'rendezv', 'cd', 'kai', 'mío', 'tô', 'rave', 'dimmi', 'retir', 'vara', 'molli', 'forbidden', 'combat', 'trippin', 'ingent', 'deepli', 'puttin', 'silk', 'paranoia', 'weißt', 'whirl', 'duti', 'quedan', 'adentro', 'ditch', 'shave', 'esté', 'sicken', 'premier', 'bleib', 'reliev', 'restor', 'unawar', 'quella', 'dash', 'gore', 'acabar', 'kissin', 'indiffer', 'temperatur', 'messin', 'río', 'rumbl', 'argu', 'freeway', 'mutta', 'vuelto', 'manipul', 'annihil', 'mek', 'unspoken', 'passag', 'minuto', 'fora', 'cosmic', 'despierta', 'betti', 'request', 'pudiera', 'bucket', 'proper', 'ace', 'gritar', 'puro', 'gown', 'chapter', 'digit', 'actor', 'cambia', 'prendr', 'creator', 'skate', 'askin', 'difícil', 'flown', 'nurs', 'sim', 'waist', 'gleich', 'saben', 'collar', 'joue', 'demai', 'current', 'naiv', 'flaw', '16', 'doigt', 'olvida', 'comb', 'headlight', 'diablo', 'suav', 'ascend', 'cree', 'vete', 'pledg', 'mistaken', 'method', 'vagu', 'dura', 'voit', 'maiden', 'sangu', 'ando', 'element', 'cae', 'entir', 'alleluia', 'oft', 'intox', 'besser', 'pueden', 'rug', 'aura', 'guest', 'chamber', 'sere', 'jukebox', 'skinni', 'wissen', 'holla', 'cherch', 'hurtin', 'eager', 'hij', 'tenemo', 'dedo', 'droit', 'glisten', 'assassin', 'landscap', 'alleen', 'mutil', 'seein', 'senseless', 'golp', 'lili', 'canâ\\x80\\x99t', 'jaurai', 'auto', 'kvar', 'structur', 'assum', 'veneno', 'spawn', 'proclaim', 'threaten', 'distancia', 'magia', 'swirl', 'curious', 'complex', 'uptown', '100', 'advanc', 'alegría', 'empieza', 'hah', 'dug', 'aquello', 'lucif', 'cruz', 'jamaica', 'flavor', 'kuinka', 'uit', '24', 'anguish', 'foto', 'chat', 'jétai', 'caminho', 'observ', 'altro', 'javai', 'yang', 'oer', 'nickel', 'booz', 'sew', 'música', 'stai', 'naughti', 'entiendo', 'står', 'champion', 'forsak', 'seventh', 'capit', 'writer', 'motivo', 'bake', 'insist', 'wel', 'santo', 'pe', 'gee', 'colleg', 'kad']\n"
          ]
        }
      ]
    },
    {
      "cell_type": "code",
      "source": [
        "# DataFrame contenant que les bag of word\n",
        "df_bags = df_genres_and_bags.drop('genre', axis = 1)"
      ],
      "metadata": {
        "id": "ryPDqwyV53D1"
      },
      "execution_count": null,
      "outputs": []
    },
    {
      "cell_type": "code",
      "source": [
        "# DataFrames contenant le vacabulaire d'une chanson ( ici 3 chansons différentes) \n",
        "df_bags_line1 = df_bags.iloc[1,:]\n",
        "df_bags_line2 = df_bags.iloc[2,:]\n",
        "df_bags_line3 = df_bags.iloc[3,:]\n",
        "\n",
        "# Affichage de la répartition des mots sur 3 chansons différentes\n",
        "plt.plot(vocab, df_bags_line1)\n",
        "plt.plot(vocab, df_bags_line2)\n",
        "plt.plot(vocab, df_bags_line3)\n",
        "plt.axis()"
      ],
      "metadata": {
        "colab": {
          "base_uri": "https://localhost:8080/",
          "height": 565
        },
        "id": "Z7ePhmjY4BqR",
        "outputId": "9c526666-08f9-4f33-9e53-576450ea5bc4"
      },
      "execution_count": null,
      "outputs": [
        {
          "output_type": "execute_result",
          "data": {
            "text/plain": [
              "(-249.95000000000002, 5248.95, -1.55, 32.55)"
            ]
          },
          "metadata": {},
          "execution_count": 9
        },
        {
          "output_type": "stream",
          "name": "stderr",
          "text": [
            "/usr/local/lib/python3.7/dist-packages/matplotlib/backends/backend_agg.py:214: RuntimeWarning: Glyph 128 missing from current font.\n",
            "  font.set_text(s, 0.0, flags=flags)\n",
            "/usr/local/lib/python3.7/dist-packages/matplotlib/backends/backend_agg.py:214: RuntimeWarning: Glyph 153 missing from current font.\n",
            "  font.set_text(s, 0.0, flags=flags)\n",
            "/usr/local/lib/python3.7/dist-packages/matplotlib/backends/backend_agg.py:214: RuntimeWarning: Glyph 150 missing from current font.\n",
            "  font.set_text(s, 0.0, flags=flags)\n",
            "/usr/local/lib/python3.7/dist-packages/matplotlib/backends/backend_agg.py:214: RuntimeWarning: Glyph 156 missing from current font.\n",
            "  font.set_text(s, 0.0, flags=flags)\n",
            "/usr/local/lib/python3.7/dist-packages/matplotlib/backends/backend_agg.py:183: RuntimeWarning: Glyph 128 missing from current font.\n",
            "  font.set_text(s, 0, flags=flags)\n",
            "/usr/local/lib/python3.7/dist-packages/matplotlib/backends/backend_agg.py:183: RuntimeWarning: Glyph 153 missing from current font.\n",
            "  font.set_text(s, 0, flags=flags)\n",
            "/usr/local/lib/python3.7/dist-packages/matplotlib/backends/backend_agg.py:183: RuntimeWarning: Glyph 150 missing from current font.\n",
            "  font.set_text(s, 0, flags=flags)\n",
            "/usr/local/lib/python3.7/dist-packages/matplotlib/backends/backend_agg.py:183: RuntimeWarning: Glyph 156 missing from current font.\n",
            "  font.set_text(s, 0, flags=flags)\n"
          ]
        },
        {
          "output_type": "display_data",
          "data": {
            "image/png": "[encoded data removed]",
            "text/plain": [
              "<Figure size 432x288 with 1 Axes>"
            ]
          },
          "metadata": {
            "needs_background": "light"
          }
        }
      ]
    },
    {
      "cell_type": "markdown",
      "source": [
        "Cet exemple montre que certains mots sont très utilisés par toutes les chansons. C'est cas de \"i\", \"the\", \"and\", etc. On les appelle des \"stop words\" en anglais. Ils ne sont pas très utiles car peu discriminants. \n",
        "Cependant, certains mots ont une occurence plus faible. Ce sont eux qui vont nous permettre de classifier les chansons entre elles"
      ],
      "metadata": {
        "id": "be5tOwrmCEwR"
      }
    },
    {
      "cell_type": "markdown",
      "source": [
        "# Preprocessing"
      ],
      "metadata": {
        "id": "lQoWrozwa9BM"
      }
    },
    {
      "cell_type": "markdown",
      "source": [
        "## Stopword removal\n",
        "\n",
        "---\n",
        "\n"
      ],
      "metadata": {
        "id": "5StcLDCEqsug"
      }
    },
    {
      "cell_type": "code",
      "source": [
        "nltk.download('stopwords')\n",
        "stopwords = nltk.corpus.stopwords.words('english')"
      ],
      "metadata": {
        "id": "nvHiN47JqrZt",
        "colab": {
          "base_uri": "https://localhost:8080/"
        },
        "outputId": "22a994dc-9130-4628-9ef3-bab3278715e9"
      },
      "execution_count": null,
      "outputs": [
        {
          "output_type": "stream",
          "name": "stdout",
          "text": [
            "[nltk_data] Downloading package stopwords to /root/nltk_data...\n",
            "[nltk_data]   Unzipping corpora/stopwords.zip.\n"
          ]
        }
      ]
    },
    {
      "cell_type": "code",
      "source": [
        "def remove_stopwords(df):\n",
        "    # print(df)\n",
        "    cpt = 0\n",
        "    for index, word in enumerate(vocab):\n",
        "        index += 2\n",
        "        if word in stopwords:\n",
        "            cpt += 1\n",
        "            df = df.drop([str(index)], axis=1)\n",
        "    # print(\"Nombre de mots supprimés :\", cpt)\n",
        "    # print(df_bags_stopword)\n",
        "\n",
        "    return df"
      ],
      "metadata": {
        "id": "5_D9Cld_2iZw"
      },
      "execution_count": null,
      "outputs": []
    },
    {
      "cell_type": "code",
      "source": [
        "df_bags_stopword = df_genres_and_bags.drop('genre', axis = 1)\n",
        "df_bags_stopword = remove_stopwords(df_bags_stopword)"
      ],
      "metadata": {
        "id": "wU9PsCoT_sgq"
      },
      "execution_count": null,
      "outputs": []
    },
    {
      "cell_type": "markdown",
      "source": [
        "Malheureusement la suppression des stopwords n'a pas d'influence sur le score du modèle."
      ],
      "metadata": {
        "id": "VVqFtx_K2yKt"
      }
    },
    {
      "cell_type": "markdown",
      "source": [
        "## Données d'entraînement et d'évaluation"
      ],
      "metadata": {
        "id": "Y0Rrw431qvvZ"
      }
    },
    {
      "cell_type": "code",
      "source": [
        "# X_train - Bag of words\n",
        "X = np.array(df_bags)\n",
        "print(X)\n",
        "print(X.shape)"
      ],
      "metadata": {
        "id": "mJ9UsAezQsJb",
        "colab": {
          "base_uri": "https://localhost:8080/"
        },
        "outputId": "7e3f83bf-6c3c-47f8-9555-764b3d802403"
      },
      "execution_count": null,
      "outputs": [
        {
          "output_type": "stream",
          "name": "stdout",
          "text": [
            "[[39 30 10 ...  0  0  0]\n",
            " [ 4 11 19 ...  0  0  0]\n",
            " [23 18 31 ...  0  0  0]\n",
            " ...\n",
            " [11 31 42 ...  0  0  0]\n",
            " [ 3 14  0 ...  0  0  0]\n",
            " [25  8  6 ...  0  0  0]]\n",
            "(14750, 5000)\n"
          ]
        }
      ]
    },
    {
      "cell_type": "code",
      "source": [
        "# Y_train - Label (genres encodés)\n",
        "#Label encoder\n",
        "label_encoder = preprocessing.LabelEncoder()\n",
        "label_encoded = label_encoder.fit_transform(df_genres)\n",
        "\n",
        "#One hot encoder\n",
        "y = tf.keras.utils.to_categorical(label_encoded, num_classes=15)\n",
        "print(y)\n",
        "print(y.shape)"
      ],
      "metadata": {
        "id": "Zy-r7nqxQ0GQ",
        "colab": {
          "base_uri": "https://localhost:8080/"
        },
        "outputId": "9139515a-d41e-4b93-d660-a6bab84c4cf7"
      },
      "execution_count": null,
      "outputs": [
        {
          "output_type": "stream",
          "name": "stdout",
          "text": [
            "[[0. 0. 0. ... 0. 0. 0.]\n",
            " [0. 0. 0. ... 0. 0. 0.]\n",
            " [0. 0. 0. ... 0. 0. 0.]\n",
            " ...\n",
            " [0. 0. 0. ... 1. 0. 0.]\n",
            " [0. 0. 0. ... 0. 0. 0.]\n",
            " [0. 0. 0. ... 0. 0. 0.]]\n",
            "(14750, 15)\n"
          ]
        }
      ]
    },
    {
      "cell_type": "code",
      "source": [
        "# Séparation des données d'entraînements et de test\n",
        "X_train, X_test, y_train, y_test = train_test_split(X, y, test_size=0.2, random_state=42)"
      ],
      "metadata": {
        "id": "Tt2cSKo6cSex"
      },
      "execution_count": null,
      "outputs": []
    },
    {
      "cell_type": "markdown",
      "source": [
        "# Model"
      ],
      "metadata": {
        "id": "xo2tQz5Ea1b1"
      }
    },
    {
      "cell_type": "markdown",
      "source": [
        "## Réseau de neurones"
      ],
      "metadata": {
        "id": "OpYHQpPjduer"
      }
    },
    {
      "cell_type": "code",
      "source": [
        "VOCAB_SIZE = X.shape[1] # nbr de mots dans le bag of word (5000)\n",
        "genre_labels = 15 # nbr de genres à prédire\n",
        "\n",
        "model = tf.keras.models.Sequential()\n",
        "model.add(tf.keras.layers.Dense(64, input_shape=(VOCAB_SIZE,), activation='relu'))\n",
        "model.add(tf.keras.layers.Dense(32, activation='relu'))\n",
        "model.add(tf.keras.layers.Dense(genre_labels, activation='softmax')) # Couche de classification avec une activation softmax pour obtenir des probabilités\n",
        "\n",
        "model.compile(loss='categorical_crossentropy', optimizer='adam', metrics=['accuracy'])"
      ],
      "metadata": {
        "id": "t7PWedEnbfpG"
      },
      "execution_count": null,
      "outputs": []
    },
    {
      "cell_type": "code",
      "source": [
        "model.summary()"
      ],
      "metadata": {
        "id": "1rY1V2q8zP3Z",
        "colab": {
          "base_uri": "https://localhost:8080/"
        },
        "outputId": "290dde31-cdd4-4f8f-e7d2-76eb91f9e9f0"
      },
      "execution_count": null,
      "outputs": [
        {
          "output_type": "stream",
          "name": "stdout",
          "text": [
            "Model: \"sequential_1\"\n",
            "_________________________________________________________________\n",
            " Layer (type)                Output Shape              Param #   \n",
            "=================================================================\n",
            " dense_3 (Dense)             (None, 64)                320064    \n",
            "                                                                 \n",
            " dense_4 (Dense)             (None, 32)                2080      \n",
            "                                                                 \n",
            " dense_5 (Dense)             (None, 15)                495       \n",
            "                                                                 \n",
            "=================================================================\n",
            "Total params: 322,639\n",
            "Trainable params: 322,639\n",
            "Non-trainable params: 0\n",
            "_________________________________________________________________\n"
          ]
        }
      ]
    },
    {
      "cell_type": "code",
      "source": [
        "model.fit(X_train, y_train, epochs=15, batch_size=64)"
      ],
      "metadata": {
        "id": "Q-mgmyGiuMc_",
        "colab": {
          "base_uri": "https://localhost:8080/"
        },
        "outputId": "37393b39-de91-4837-fa92-db83fa7478c7"
      },
      "execution_count": null,
      "outputs": [
        {
          "output_type": "stream",
          "name": "stdout",
          "text": [
            "Epoch 1/15\n",
            "185/185 [==============================] - 2s 7ms/step - loss: 2.0166 - accuracy: 0.3579\n",
            "Epoch 2/15\n",
            "185/185 [==============================] - 1s 6ms/step - loss: 1.5008 - accuracy: 0.5251\n",
            "Epoch 3/15\n",
            "185/185 [==============================] - 1s 6ms/step - loss: 1.1505 - accuracy: 0.6358\n",
            "Epoch 4/15\n",
            "185/185 [==============================] - 1s 6ms/step - loss: 0.8504 - accuracy: 0.7423\n",
            "Epoch 5/15\n",
            "185/185 [==============================] - 1s 6ms/step - loss: 0.6074 - accuracy: 0.8192\n",
            "Epoch 6/15\n",
            "185/185 [==============================] - 1s 6ms/step - loss: 0.4203 - accuracy: 0.8834\n",
            "Epoch 7/15\n",
            "185/185 [==============================] - 1s 6ms/step - loss: 0.2713 - accuracy: 0.9346\n",
            "Epoch 8/15\n",
            "185/185 [==============================] - 1s 6ms/step - loss: 0.1762 - accuracy: 0.9634\n",
            "Epoch 9/15\n",
            "185/185 [==============================] - 1s 6ms/step - loss: 0.1153 - accuracy: 0.9814\n",
            "Epoch 10/15\n",
            "185/185 [==============================] - 1s 6ms/step - loss: 0.0832 - accuracy: 0.9883\n",
            "Epoch 11/15\n",
            "185/185 [==============================] - 1s 6ms/step - loss: 0.0608 - accuracy: 0.9922\n",
            "Epoch 12/15\n",
            "185/185 [==============================] - 1s 6ms/step - loss: 0.0464 - accuracy: 0.9952\n",
            "Epoch 13/15\n",
            "185/185 [==============================] - 1s 6ms/step - loss: 0.0348 - accuracy: 0.9962\n",
            "Epoch 14/15\n",
            "185/185 [==============================] - 1s 6ms/step - loss: 0.0271 - accuracy: 0.9972\n",
            "Epoch 15/15\n",
            "185/185 [==============================] - 1s 6ms/step - loss: 0.0218 - accuracy: 0.9971\n"
          ]
        },
        {
          "output_type": "execute_result",
          "data": {
            "text/plain": [
              "<keras.callbacks.History at 0x7f2379e2de10>"
            ]
          },
          "metadata": {},
          "execution_count": 30
        }
      ]
    },
    {
      "cell_type": "markdown",
      "source": [
        "## Evaluation du modèle"
      ],
      "metadata": {
        "id": "d09lYgJnd55T"
      }
    },
    {
      "cell_type": "code",
      "source": [
        "# Précision du modèle\n",
        "eval = model.evaluate(X_test, y_test)\n",
        "print(\"Précision :\", eval[1])\n",
        "roc = roc_auc_score(y_test, model.predict(X_test))\n",
        "print(\"ROC score\", roc)"
      ],
      "metadata": {
        "colab": {
          "base_uri": "https://localhost:8080/"
        },
        "id": "8V16WrGpd_Xl",
        "outputId": "4043bc45-6a2b-48a5-a606-2be48f48502a"
      },
      "execution_count": null,
      "outputs": [
        {
          "output_type": "stream",
          "name": "stdout",
          "text": [
            "93/93 [==============================] - 0s 3ms/step - loss: 5.0831 - accuracy: 0.3851\n",
            "Précision : 0.38508474826812744\n",
            "ROC score 0.7859313112354191\n"
          ]
        }
      ]
    },
    {
      "cell_type": "markdown",
      "source": [
        "## Sauvegarde du model"
      ],
      "metadata": {
        "id": "9xmByq0OpYZp"
      }
    },
    {
      "cell_type": "code",
      "source": [
        "model.save(path+'/out_text/text_classifier.h5')\n",
        "del model"
      ],
      "metadata": {
        "id": "1DHnJpAWpckR"
      },
      "execution_count": null,
      "outputs": []
    }
  ]
}