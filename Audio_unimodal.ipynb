{
  "nbformat": 4,
  "nbformat_minor": 0,
  "metadata": {
    "colab": {
      "name": "soundsSystems.ipynb",
      "provenance": [],
      "collapsed_sections": [
        "Rv2qfGQs1Y-c",
        "vzIv0ChcYdup",
        "_PWyL0ye2aHO",
        "HKGlya_o1ZHl",
        "yOgv4ynL2fq9",
        "zC2KXl8N2huz",
        "bR7Y-fCR3uPd",
        "0qukNepU3Jdk",
        "caJmG8ec4D6Y",
        "T9XMlgcD0Nqo",
        "FCQSn1IrVBU5",
        "feuGRdWd0HR0",
        "rmT1qPmaVOk4",
        "SGidllljzYvD",
        "BAl23XQloeUR",
        "jqI6LGOu3Nzx",
        "ODPGRBYBClxp",
        "lKI924IcUocU"
      ]
    },
    "kernelspec": {
      "name": "python3",
      "display_name": "Python 3"
    },
    "language_info": {
      "name": "python"
    }
  },
  "cells": [
    {
      "cell_type": "markdown",
      "source": [
        "### Importations et chargements"
      ],
      "metadata": {
        "id": "vzIv0ChcYdup"
      }
    },
    {
      "cell_type": "code",
      "source": [
        "## Management du drive\n",
        "from google.colab import drive\n",
        "import os\n",
        "import glob\n",
        "drive.mount('/content/drive')\n",
        "\n",
        "## Importation de modules et librairies utiles\n",
        "import numpy as np\n",
        "import pandas as pd\n",
        "from librosa.feature import mfcc, delta\n",
        "from sklearn.model_selection import train_test_split\n",
        "from sklearn.preprocessing import LabelEncoder, StandardScaler\n",
        "from sklearn.linear_model import LogisticRegression\n",
        "from sklearn.neural_network import MLPClassifier\n",
        "from sklearn.metrics import roc_auc_score\n",
        "from pathlib import Path\n",
        "import keras\n",
        "from keras.models import Sequential\n",
        "from keras.layers import Dense, Flatten, Conv2D, MaxPooling2D"
      ],
      "metadata": {
        "colab": {
          "base_uri": "https://localhost:8080/"
        },
        "id": "9juFxYfg6BiQ",
        "outputId": "d491d355-e664-4166-805b-5adebf5f96cb"
      },
      "execution_count": null,
      "outputs": [
        {
          "output_type": "stream",
          "name": "stdout",
          "text": [
            "Mounted at /content/drive\n"
          ]
        }
      ]
    },
    {
      "cell_type": "markdown",
      "source": [
        "## Modalité - Son"
      ],
      "metadata": {
        "id": "_PWyL0ye2aHO"
      }
    },
    {
      "cell_type": "markdown",
      "source": [
        "### Jeu de sons pour la classification de compositeur : maps_composers\n",
        "Données : 120 enregistrements de musique de piano de 30s </br>\n",
        "Labels : 4 compositeurs (Beethoven, Chopin, Liszt, Mozart)"
      ],
      "metadata": {
        "id": "HKGlya_o1ZHl"
      }
    },
    {
      "cell_type": "code",
      "source": [
        "# Commandes et imports spécifiques\n",
        "%cd /content/drive/MyDrive/Colab Notebooks/Temps2/SAM/Projet/data/maps_composers\n",
        "from sam_io import read_wav"
      ],
      "metadata": {
        "id": "2PLL6Dm7rixq",
        "colab": {
          "base_uri": "https://localhost:8080/"
        },
        "outputId": "a6c52b76-3db1-4c89-c717-594212d762cb"
      },
      "execution_count": null,
      "outputs": [
        {
          "output_type": "stream",
          "name": "stdout",
          "text": [
            "/content/drive/MyDrive/Colab Notebooks/Temps2/SAM/Projet/data/maps_composers\n"
          ]
        }
      ]
    },
    {
      "cell_type": "markdown",
      "source": [
        "##### Extraction des descipteurs\n",
        "\n",
        "*(Si plus de temps, implémenter les alternatives suivantes :*\n",
        "- *Calculer les descripteurs Chroma, ∆Chroma et ∆∆Chroma*\n",
        "- *Aggréger les features en un histogramme plutôt qu'en moyenne)*"
      ],
      "metadata": {
        "id": "HKPDiSKG6aF1"
      }
    },
    {
      "cell_type": "code",
      "source": [
        "# Créer une fonction qui lit chaque fichier son\n",
        "def read_files(path):\n",
        "  my_data = []\n",
        "  compositeurs = [composer for composer in os.listdir(path) if not 'py' in composer and not '.csv' in composer]\n",
        "  for compositeur in compositeurs:\n",
        "    new_path = os.path.join(path, compositeur)\n",
        "    enregistrements = [enregistrement for enregistrement in os.listdir(new_path)]\n",
        "    for enregistrement in enregistrements:\n",
        "      sound_file = os.path.join(new_path, enregistrement)\n",
        "      fs, x = read_wav(sound_file) # fs = fréquence d'échantillonage, x = le singal numérique\n",
        "      # Nota Bene : on ajoute pas la fréquence d'échantillonage dans notre tableau de donnée car c'est toujours la même :\n",
        "      # Quelque soit le son, fs = 44100\n",
        "      # (de quoi récupérer toute l'information nécessaire selon le critère de Shannon sur des sons audibles)\n",
        "      my_data.append(np.array([compositeur, x], dtype=object)) # to support indexing python regular list of lists with array\n",
        "  my_data = np.array(my_data)\n",
        "  return my_data"
      ],
      "metadata": {
        "id": "ykq3Emmf6ewV"
      },
      "execution_count": null,
      "outputs": []
    },
    {
      "cell_type": "code",
      "source": [
        "# Appelle la fonction et arrange un dataframe associé à nos données\n",
        "path = \"/content/drive/MyDrive/Colab Notebooks/Temps2/SAM/Projet/data/maps_composers\"\n",
        "my_data = read_files(path)\n",
        "df = pd.DataFrame(my_data)\n",
        "df.columns = [\"Compositeurs\", \"Signal numérique\"]\n",
        "df"
      ],
      "metadata": {
        "colab": {
          "base_uri": "https://localhost:8080/",
          "height": 419
        },
        "id": "m-rSe6VtMiWe",
        "outputId": "863d898a-7606-44b3-cb00-cc3b338bf446"
      },
      "execution_count": null,
      "outputs": [
        {
          "output_type": "execute_result",
          "data": {
            "text/html": [
              "\n",
              "  <div id=\"df-68898bcf-6995-486d-8a43-7b6867e899e6\">\n",
              "    <div class=\"colab-df-container\">\n",
              "      <div>\n",
              "<style scoped>\n",
              "    .dataframe tbody tr th:only-of-type {\n",
              "        vertical-align: middle;\n",
              "    }\n",
              "\n",
              "    .dataframe tbody tr th {\n",
              "        vertical-align: top;\n",
              "    }\n",
              "\n",
              "    .dataframe thead th {\n",
              "        text-align: right;\n",
              "    }\n",
              "</style>\n",
              "<table border=\"1\" class=\"dataframe\">\n",
              "  <thead>\n",
              "    <tr style=\"text-align: right;\">\n",
              "      <th></th>\n",
              "      <th>Compositeurs</th>\n",
              "      <th>Signal numérique</th>\n",
              "    </tr>\n",
              "  </thead>\n",
              "  <tbody>\n",
              "    <tr>\n",
              "      <th>0</th>\n",
              "      <td>chopin</td>\n",
              "      <td>[0.0, 0.0, 0.0, 0.0, 0.0, 0.0, 0.0, 0.0, 0.0, ...</td>\n",
              "    </tr>\n",
              "    <tr>\n",
              "      <th>1</th>\n",
              "      <td>chopin</td>\n",
              "      <td>[0.0, 0.0, 0.0, 0.0, 0.0, 0.0, 0.0, 0.0, 0.0, ...</td>\n",
              "    </tr>\n",
              "    <tr>\n",
              "      <th>2</th>\n",
              "      <td>chopin</td>\n",
              "      <td>[0.0, 0.0, 0.0, 0.0, 0.0, 0.0, 0.0, 0.0, 0.0, ...</td>\n",
              "    </tr>\n",
              "    <tr>\n",
              "      <th>3</th>\n",
              "      <td>chopin</td>\n",
              "      <td>[0.0, 0.0, 0.0, 0.0, 0.0, 0.0, 0.0, 0.0, 0.0, ...</td>\n",
              "    </tr>\n",
              "    <tr>\n",
              "      <th>4</th>\n",
              "      <td>chopin</td>\n",
              "      <td>[0.0, 0.0, 0.0, 0.0, 0.0, 0.0, 0.0, 0.0, 0.0, ...</td>\n",
              "    </tr>\n",
              "    <tr>\n",
              "      <th>...</th>\n",
              "      <td>...</td>\n",
              "      <td>...</td>\n",
              "    </tr>\n",
              "    <tr>\n",
              "      <th>115</th>\n",
              "      <td>beethoven</td>\n",
              "      <td>[0.0, 0.0, 0.0, 0.0, 0.0, 0.0, 0.0, 0.0, 0.0, ...</td>\n",
              "    </tr>\n",
              "    <tr>\n",
              "      <th>116</th>\n",
              "      <td>beethoven</td>\n",
              "      <td>[0.0, 0.0, 0.0, 0.0, 0.0, 0.0, 0.0, 0.0, 0.0, ...</td>\n",
              "    </tr>\n",
              "    <tr>\n",
              "      <th>117</th>\n",
              "      <td>beethoven</td>\n",
              "      <td>[0.0, 0.0, 0.0, 0.0, 0.0, 0.0, 0.0, 0.0, 0.0, ...</td>\n",
              "    </tr>\n",
              "    <tr>\n",
              "      <th>118</th>\n",
              "      <td>beethoven</td>\n",
              "      <td>[0.0, 0.0, 0.0, 0.0, 0.0, 0.0, 0.0, 0.0, 0.0, ...</td>\n",
              "    </tr>\n",
              "    <tr>\n",
              "      <th>119</th>\n",
              "      <td>beethoven</td>\n",
              "      <td>[0.0, 0.0, 0.0, 0.0, 0.0, 0.0, 0.0, 0.0, 0.0, ...</td>\n",
              "    </tr>\n",
              "  </tbody>\n",
              "</table>\n",
              "<p>120 rows × 2 columns</p>\n",
              "</div>\n",
              "      <button class=\"colab-df-convert\" onclick=\"convertToInteractive('df-68898bcf-6995-486d-8a43-7b6867e899e6')\"\n",
              "              title=\"Convert this dataframe to an interactive table.\"\n",
              "              style=\"display:none;\">\n",
              "        \n",
              "  <svg xmlns=\"http://www.w3.org/2000/svg\" height=\"24px\"viewBox=\"0 0 24 24\"\n",
              "       width=\"24px\">\n",
              "    <path d=\"M0 0h24v24H0V0z\" fill=\"none\"/>\n",
              "    <path d=\"M18.56 5.44l.94 2.06.94-2.06 2.06-.94-2.06-.94-.94-2.06-.94 2.06-2.06.94zm-11 1L8.5 8.5l.94-2.06 2.06-.94-2.06-.94L8.5 2.5l-.94 2.06-2.06.94zm10 10l.94 2.06.94-2.06 2.06-.94-2.06-.94-.94-2.06-.94 2.06-2.06.94z\"/><path d=\"M17.41 7.96l-1.37-1.37c-.4-.4-.92-.59-1.43-.59-.52 0-1.04.2-1.43.59L10.3 9.45l-7.72 7.72c-.78.78-.78 2.05 0 2.83L4 21.41c.39.39.9.59 1.41.59.51 0 1.02-.2 1.41-.59l7.78-7.78 2.81-2.81c.8-.78.8-2.07 0-2.86zM5.41 20L4 18.59l7.72-7.72 1.47 1.35L5.41 20z\"/>\n",
              "  </svg>\n",
              "      </button>\n",
              "      \n",
              "  <style>\n",
              "    .colab-df-container {\n",
              "      display:flex;\n",
              "      flex-wrap:wrap;\n",
              "      gap: 12px;\n",
              "    }\n",
              "\n",
              "    .colab-df-convert {\n",
              "      background-color: #E8F0FE;\n",
              "      border: none;\n",
              "      border-radius: 50%;\n",
              "      cursor: pointer;\n",
              "      display: none;\n",
              "      fill: #1967D2;\n",
              "      height: 32px;\n",
              "      padding: 0 0 0 0;\n",
              "      width: 32px;\n",
              "    }\n",
              "\n",
              "    .colab-df-convert:hover {\n",
              "      background-color: #E2EBFA;\n",
              "      box-shadow: 0px 1px 2px rgba(60, 64, 67, 0.3), 0px 1px 3px 1px rgba(60, 64, 67, 0.15);\n",
              "      fill: #174EA6;\n",
              "    }\n",
              "\n",
              "    [theme=dark] .colab-df-convert {\n",
              "      background-color: #3B4455;\n",
              "      fill: #D2E3FC;\n",
              "    }\n",
              "\n",
              "    [theme=dark] .colab-df-convert:hover {\n",
              "      background-color: #434B5C;\n",
              "      box-shadow: 0px 1px 3px 1px rgba(0, 0, 0, 0.15);\n",
              "      filter: drop-shadow(0px 1px 2px rgba(0, 0, 0, 0.3));\n",
              "      fill: #FFFFFF;\n",
              "    }\n",
              "  </style>\n",
              "\n",
              "      <script>\n",
              "        const buttonEl =\n",
              "          document.querySelector('#df-68898bcf-6995-486d-8a43-7b6867e899e6 button.colab-df-convert');\n",
              "        buttonEl.style.display =\n",
              "          google.colab.kernel.accessAllowed ? 'block' : 'none';\n",
              "\n",
              "        async function convertToInteractive(key) {\n",
              "          const element = document.querySelector('#df-68898bcf-6995-486d-8a43-7b6867e899e6');\n",
              "          const dataTable =\n",
              "            await google.colab.kernel.invokeFunction('convertToInteractive',\n",
              "                                                     [key], {});\n",
              "          if (!dataTable) return;\n",
              "\n",
              "          const docLinkHtml = 'Like what you see? Visit the ' +\n",
              "            '<a target=\"_blank\" href=https://colab.research.google.com/notebooks/data_table.ipynb>data table notebook</a>'\n",
              "            + ' to learn more about interactive tables.';\n",
              "          element.innerHTML = '';\n",
              "          dataTable['output_type'] = 'display_data';\n",
              "          await google.colab.output.renderOutput(dataTable, element);\n",
              "          const docLink = document.createElement('div');\n",
              "          docLink.innerHTML = docLinkHtml;\n",
              "          element.appendChild(docLink);\n",
              "        }\n",
              "      </script>\n",
              "    </div>\n",
              "  </div>\n",
              "  "
            ],
            "text/plain": [
              "    Compositeurs                                   Signal numérique\n",
              "0         chopin  [0.0, 0.0, 0.0, 0.0, 0.0, 0.0, 0.0, 0.0, 0.0, ...\n",
              "1         chopin  [0.0, 0.0, 0.0, 0.0, 0.0, 0.0, 0.0, 0.0, 0.0, ...\n",
              "2         chopin  [0.0, 0.0, 0.0, 0.0, 0.0, 0.0, 0.0, 0.0, 0.0, ...\n",
              "3         chopin  [0.0, 0.0, 0.0, 0.0, 0.0, 0.0, 0.0, 0.0, 0.0, ...\n",
              "4         chopin  [0.0, 0.0, 0.0, 0.0, 0.0, 0.0, 0.0, 0.0, 0.0, ...\n",
              "..           ...                                                ...\n",
              "115    beethoven  [0.0, 0.0, 0.0, 0.0, 0.0, 0.0, 0.0, 0.0, 0.0, ...\n",
              "116    beethoven  [0.0, 0.0, 0.0, 0.0, 0.0, 0.0, 0.0, 0.0, 0.0, ...\n",
              "117    beethoven  [0.0, 0.0, 0.0, 0.0, 0.0, 0.0, 0.0, 0.0, 0.0, ...\n",
              "118    beethoven  [0.0, 0.0, 0.0, 0.0, 0.0, 0.0, 0.0, 0.0, 0.0, ...\n",
              "119    beethoven  [0.0, 0.0, 0.0, 0.0, 0.0, 0.0, 0.0, 0.0, 0.0, ...\n",
              "\n",
              "[120 rows x 2 columns]"
            ]
          },
          "metadata": {},
          "execution_count": 3
        }
      ]
    },
    {
      "cell_type": "code",
      "source": [
        "# Prend les extraits des morceaux de 10 à 15s :\n",
        "fs = 44100\n",
        "for i,x in enumerate(df['Signal numérique']):\n",
        "  df['Signal numérique'][i] = x[10*fs:15*fs] # La 10ième seconde, c'est le (10 * fs)ième echantillons, etc.\n",
        "df"
      ],
      "metadata": {
        "colab": {
          "base_uri": "https://localhost:8080/",
          "height": 419
        },
        "id": "8OapMgUoH77L",
        "outputId": "0975dd15-10f9-40a3-f104-25d3fdf9c60e"
      },
      "execution_count": null,
      "outputs": [
        {
          "output_type": "execute_result",
          "data": {
            "text/html": [
              "\n",
              "  <div id=\"df-8f865fe2-bfd8-4e3e-9761-ed2f6ac49fce\">\n",
              "    <div class=\"colab-df-container\">\n",
              "      <div>\n",
              "<style scoped>\n",
              "    .dataframe tbody tr th:only-of-type {\n",
              "        vertical-align: middle;\n",
              "    }\n",
              "\n",
              "    .dataframe tbody tr th {\n",
              "        vertical-align: top;\n",
              "    }\n",
              "\n",
              "    .dataframe thead th {\n",
              "        text-align: right;\n",
              "    }\n",
              "</style>\n",
              "<table border=\"1\" class=\"dataframe\">\n",
              "  <thead>\n",
              "    <tr style=\"text-align: right;\">\n",
              "      <th></th>\n",
              "      <th>Compositeurs</th>\n",
              "      <th>Signal numérique</th>\n",
              "    </tr>\n",
              "  </thead>\n",
              "  <tbody>\n",
              "    <tr>\n",
              "      <th>0</th>\n",
              "      <td>chopin</td>\n",
              "      <td>[0.0533447265625, 0.050689697265625, 0.0474853...</td>\n",
              "    </tr>\n",
              "    <tr>\n",
              "      <th>1</th>\n",
              "      <td>chopin</td>\n",
              "      <td>[-0.051910400390625, -0.05487060546875, -0.057...</td>\n",
              "    </tr>\n",
              "    <tr>\n",
              "      <th>2</th>\n",
              "      <td>chopin</td>\n",
              "      <td>[0.0262451171875, 0.025848388671875, 0.0253601...</td>\n",
              "    </tr>\n",
              "    <tr>\n",
              "      <th>3</th>\n",
              "      <td>chopin</td>\n",
              "      <td>[0.020904541015625, 0.032623291015625, 0.04464...</td>\n",
              "    </tr>\n",
              "    <tr>\n",
              "      <th>4</th>\n",
              "      <td>chopin</td>\n",
              "      <td>[-0.003143310546875, -0.0030517578125, -0.0028...</td>\n",
              "    </tr>\n",
              "    <tr>\n",
              "      <th>...</th>\n",
              "      <td>...</td>\n",
              "      <td>...</td>\n",
              "    </tr>\n",
              "    <tr>\n",
              "      <th>115</th>\n",
              "      <td>beethoven</td>\n",
              "      <td>[0.001953125, 0.001953125, 0.00189208984375, 0...</td>\n",
              "    </tr>\n",
              "    <tr>\n",
              "      <th>116</th>\n",
              "      <td>beethoven</td>\n",
              "      <td>[-0.01007080078125, -0.01324462890625, -0.0163...</td>\n",
              "    </tr>\n",
              "    <tr>\n",
              "      <th>117</th>\n",
              "      <td>beethoven</td>\n",
              "      <td>[-0.009490966796875, -0.0093994140625, -0.0092...</td>\n",
              "    </tr>\n",
              "    <tr>\n",
              "      <th>118</th>\n",
              "      <td>beethoven</td>\n",
              "      <td>[-0.001220703125, -0.001434326171875, -0.00158...</td>\n",
              "    </tr>\n",
              "    <tr>\n",
              "      <th>119</th>\n",
              "      <td>beethoven</td>\n",
              "      <td>[-0.001495361328125, -0.003997802734375, -0.00...</td>\n",
              "    </tr>\n",
              "  </tbody>\n",
              "</table>\n",
              "<p>120 rows × 2 columns</p>\n",
              "</div>\n",
              "      <button class=\"colab-df-convert\" onclick=\"convertToInteractive('df-8f865fe2-bfd8-4e3e-9761-ed2f6ac49fce')\"\n",
              "              title=\"Convert this dataframe to an interactive table.\"\n",
              "              style=\"display:none;\">\n",
              "        \n",
              "  <svg xmlns=\"http://www.w3.org/2000/svg\" height=\"24px\"viewBox=\"0 0 24 24\"\n",
              "       width=\"24px\">\n",
              "    <path d=\"M0 0h24v24H0V0z\" fill=\"none\"/>\n",
              "    <path d=\"M18.56 5.44l.94 2.06.94-2.06 2.06-.94-2.06-.94-.94-2.06-.94 2.06-2.06.94zm-11 1L8.5 8.5l.94-2.06 2.06-.94-2.06-.94L8.5 2.5l-.94 2.06-2.06.94zm10 10l.94 2.06.94-2.06 2.06-.94-2.06-.94-.94-2.06-.94 2.06-2.06.94z\"/><path d=\"M17.41 7.96l-1.37-1.37c-.4-.4-.92-.59-1.43-.59-.52 0-1.04.2-1.43.59L10.3 9.45l-7.72 7.72c-.78.78-.78 2.05 0 2.83L4 21.41c.39.39.9.59 1.41.59.51 0 1.02-.2 1.41-.59l7.78-7.78 2.81-2.81c.8-.78.8-2.07 0-2.86zM5.41 20L4 18.59l7.72-7.72 1.47 1.35L5.41 20z\"/>\n",
              "  </svg>\n",
              "      </button>\n",
              "      \n",
              "  <style>\n",
              "    .colab-df-container {\n",
              "      display:flex;\n",
              "      flex-wrap:wrap;\n",
              "      gap: 12px;\n",
              "    }\n",
              "\n",
              "    .colab-df-convert {\n",
              "      background-color: #E8F0FE;\n",
              "      border: none;\n",
              "      border-radius: 50%;\n",
              "      cursor: pointer;\n",
              "      display: none;\n",
              "      fill: #1967D2;\n",
              "      height: 32px;\n",
              "      padding: 0 0 0 0;\n",
              "      width: 32px;\n",
              "    }\n",
              "\n",
              "    .colab-df-convert:hover {\n",
              "      background-color: #E2EBFA;\n",
              "      box-shadow: 0px 1px 2px rgba(60, 64, 67, 0.3), 0px 1px 3px 1px rgba(60, 64, 67, 0.15);\n",
              "      fill: #174EA6;\n",
              "    }\n",
              "\n",
              "    [theme=dark] .colab-df-convert {\n",
              "      background-color: #3B4455;\n",
              "      fill: #D2E3FC;\n",
              "    }\n",
              "\n",
              "    [theme=dark] .colab-df-convert:hover {\n",
              "      background-color: #434B5C;\n",
              "      box-shadow: 0px 1px 3px 1px rgba(0, 0, 0, 0.15);\n",
              "      filter: drop-shadow(0px 1px 2px rgba(0, 0, 0, 0.3));\n",
              "      fill: #FFFFFF;\n",
              "    }\n",
              "  </style>\n",
              "\n",
              "      <script>\n",
              "        const buttonEl =\n",
              "          document.querySelector('#df-8f865fe2-bfd8-4e3e-9761-ed2f6ac49fce button.colab-df-convert');\n",
              "        buttonEl.style.display =\n",
              "          google.colab.kernel.accessAllowed ? 'block' : 'none';\n",
              "\n",
              "        async function convertToInteractive(key) {\n",
              "          const element = document.querySelector('#df-8f865fe2-bfd8-4e3e-9761-ed2f6ac49fce');\n",
              "          const dataTable =\n",
              "            await google.colab.kernel.invokeFunction('convertToInteractive',\n",
              "                                                     [key], {});\n",
              "          if (!dataTable) return;\n",
              "\n",
              "          const docLinkHtml = 'Like what you see? Visit the ' +\n",
              "            '<a target=\"_blank\" href=https://colab.research.google.com/notebooks/data_table.ipynb>data table notebook</a>'\n",
              "            + ' to learn more about interactive tables.';\n",
              "          element.innerHTML = '';\n",
              "          dataTable['output_type'] = 'display_data';\n",
              "          await google.colab.output.renderOutput(dataTable, element);\n",
              "          const docLink = document.createElement('div');\n",
              "          docLink.innerHTML = docLinkHtml;\n",
              "          element.appendChild(docLink);\n",
              "        }\n",
              "      </script>\n",
              "    </div>\n",
              "  </div>\n",
              "  "
            ],
            "text/plain": [
              "    Compositeurs                                   Signal numérique\n",
              "0         chopin  [0.0533447265625, 0.050689697265625, 0.0474853...\n",
              "1         chopin  [-0.051910400390625, -0.05487060546875, -0.057...\n",
              "2         chopin  [0.0262451171875, 0.025848388671875, 0.0253601...\n",
              "3         chopin  [0.020904541015625, 0.032623291015625, 0.04464...\n",
              "4         chopin  [-0.003143310546875, -0.0030517578125, -0.0028...\n",
              "..           ...                                                ...\n",
              "115    beethoven  [0.001953125, 0.001953125, 0.00189208984375, 0...\n",
              "116    beethoven  [-0.01007080078125, -0.01324462890625, -0.0163...\n",
              "117    beethoven  [-0.009490966796875, -0.0093994140625, -0.0092...\n",
              "118    beethoven  [-0.001220703125, -0.001434326171875, -0.00158...\n",
              "119    beethoven  [-0.001495361328125, -0.003997802734375, -0.00...\n",
              "\n",
              "[120 rows x 2 columns]"
            ]
          },
          "metadata": {},
          "execution_count": 4
        }
      ]
    },
    {
      "cell_type": "code",
      "source": [
        "# Calcule le pas et la longueur de la fenêtre pour segmenter les sons (échantillonage régulier)\n",
        "# par trames de 100 ms environ et ajouter 50% de superposition\n",
        "long_trame = 0.1 # 100 ms = 0.1 s\n",
        "long_fene = int(fs*long_trame)\n",
        "pas = int(long_fene/2)\n",
        "\n",
        "# Calcule les descripteurs MFCC, ∆MFCC et ∆∆MFCC sur chaque trame\n",
        "MFCC = []\n",
        "delta_MFCC = []\n",
        "delta2_MFCC = []\n",
        "for x in df['Signal numérique']:\n",
        "  x_mfcc = mfcc(y=x, sr=fs, hop_length=pas, n_fft = long_fene)\n",
        "  mfcc_delta = delta(x_mfcc)\n",
        "  mfcc_delta2 = delta(x_mfcc, order=2)\n",
        "  MFCC.append(x_mfcc)\n",
        "  delta_MFCC.append(mfcc_delta)\n",
        "  delta2_MFCC.append(mfcc_delta2)"
      ],
      "metadata": {
        "id": "wPHv1FHRUX_P"
      },
      "execution_count": null,
      "outputs": []
    },
    {
      "cell_type": "code",
      "source": [
        "# Ajoute trois nouvelles colonne à notre dataframe des données\n",
        "df['MFCC'] = MFCC\n",
        "df['Delta MFCC'] = delta_MFCC\n",
        "df['Delta2 MFCC'] = delta2_MFCC\n",
        "df"
      ],
      "metadata": {
        "colab": {
          "base_uri": "https://localhost:8080/",
          "height": 633
        },
        "id": "JXgdQTK-fM8k",
        "outputId": "ee1b756b-3b1c-4624-c5de-a3c46b62574a"
      },
      "execution_count": null,
      "outputs": [
        {
          "output_type": "execute_result",
          "data": {
            "text/html": [
              "\n",
              "  <div id=\"df-0c0152dd-cc3c-408d-9cad-24736d8dba02\">\n",
              "    <div class=\"colab-df-container\">\n",
              "      <div>\n",
              "<style scoped>\n",
              "    .dataframe tbody tr th:only-of-type {\n",
              "        vertical-align: middle;\n",
              "    }\n",
              "\n",
              "    .dataframe tbody tr th {\n",
              "        vertical-align: top;\n",
              "    }\n",
              "\n",
              "    .dataframe thead th {\n",
              "        text-align: right;\n",
              "    }\n",
              "</style>\n",
              "<table border=\"1\" class=\"dataframe\">\n",
              "  <thead>\n",
              "    <tr style=\"text-align: right;\">\n",
              "      <th></th>\n",
              "      <th>Compositeurs</th>\n",
              "      <th>Signal numérique</th>\n",
              "      <th>MFCC</th>\n",
              "      <th>Delta MFCC</th>\n",
              "      <th>Delta2 MFCC</th>\n",
              "    </tr>\n",
              "  </thead>\n",
              "  <tbody>\n",
              "    <tr>\n",
              "      <th>0</th>\n",
              "      <td>chopin</td>\n",
              "      <td>[0.0533447265625, 0.050689697265625, 0.0474853...</td>\n",
              "      <td>[[-312.45836542709327, -335.35174710281143, -3...</td>\n",
              "      <td>[[-5.208176414613265, -5.208176414613265, -5.2...</td>\n",
              "      <td>[[7.342120188324413, 7.342120188324413, 7.3421...</td>\n",
              "    </tr>\n",
              "    <tr>\n",
              "      <th>1</th>\n",
              "      <td>chopin</td>\n",
              "      <td>[-0.051910400390625, -0.05487060546875, -0.057...</td>\n",
              "      <td>[[-314.71879604850164, -355.6567374810345, -36...</td>\n",
              "      <td>[[-3.5721087631905304, -3.5721087631905304, -3...</td>\n",
              "      <td>[[4.204460150627886, 4.204460150627886, 4.2044...</td>\n",
              "    </tr>\n",
              "    <tr>\n",
              "      <th>2</th>\n",
              "      <td>chopin</td>\n",
              "      <td>[0.0262451171875, 0.025848388671875, 0.0253601...</td>\n",
              "      <td>[[-454.77363406651415, -531.7426883560626, -53...</td>\n",
              "      <td>[[7.715278236473325, 7.715278236473325, 7.7152...</td>\n",
              "      <td>[[0.15417098189954306, 0.15417098189954306, 0....</td>\n",
              "    </tr>\n",
              "    <tr>\n",
              "      <th>3</th>\n",
              "      <td>chopin</td>\n",
              "      <td>[0.020904541015625, 0.032623291015625, 0.04464...</td>\n",
              "      <td>[[-238.57030824828675, -295.3045373706068, -28...</td>\n",
              "      <td>[[-3.6395510972983307, -3.6395510972983307, -3...</td>\n",
              "      <td>[[1.5240815909817902, 1.5240815909817902, 1.52...</td>\n",
              "    </tr>\n",
              "    <tr>\n",
              "      <th>4</th>\n",
              "      <td>chopin</td>\n",
              "      <td>[-0.003143310546875, -0.0030517578125, -0.0028...</td>\n",
              "      <td>[[-447.4002429810664, -467.3060022084104, -471...</td>\n",
              "      <td>[[-3.876535774779619, -3.876535774779619, -3.8...</td>\n",
              "      <td>[[1.7742695968054312, 1.7742695968054312, 1.77...</td>\n",
              "    </tr>\n",
              "    <tr>\n",
              "      <th>...</th>\n",
              "      <td>...</td>\n",
              "      <td>...</td>\n",
              "      <td>...</td>\n",
              "      <td>...</td>\n",
              "      <td>...</td>\n",
              "    </tr>\n",
              "    <tr>\n",
              "      <th>115</th>\n",
              "      <td>beethoven</td>\n",
              "      <td>[0.001953125, 0.001953125, 0.00189208984375, 0...</td>\n",
              "      <td>[[-619.5332876158313, -658.623698584141, -668....</td>\n",
              "      <td>[[-13.011103235917975, -13.011103235917975, -1...</td>\n",
              "      <td>[[1.8538293961178276, 1.8538293961178276, 1.85...</td>\n",
              "    </tr>\n",
              "    <tr>\n",
              "      <th>116</th>\n",
              "      <td>beethoven</td>\n",
              "      <td>[-0.01007080078125, -0.01324462890625, -0.0163...</td>\n",
              "      <td>[[-300.03756716075947, -347.46476156711594, -3...</td>\n",
              "      <td>[[-17.766107173116826, -17.766107173116826, -1...</td>\n",
              "      <td>[[0.7849762270468268, 0.7849762270468268, 0.78...</td>\n",
              "    </tr>\n",
              "    <tr>\n",
              "      <th>117</th>\n",
              "      <td>beethoven</td>\n",
              "      <td>[-0.009490966796875, -0.0093994140625, -0.0092...</td>\n",
              "      <td>[[-470.533732973774, -501.03628535809986, -507...</td>\n",
              "      <td>[[-8.59627716650855, -8.59627716650855, -8.596...</td>\n",
              "      <td>[[1.7545349805609, 1.7545349805609, 1.75453498...</td>\n",
              "    </tr>\n",
              "    <tr>\n",
              "      <th>118</th>\n",
              "      <td>beethoven</td>\n",
              "      <td>[-0.001220703125, -0.001434326171875, -0.00158...</td>\n",
              "      <td>[[-533.9599211815558, -574.976043514334, -591....</td>\n",
              "      <td>[[-18.31055228501227, -18.31055228501227, -18....</td>\n",
              "      <td>[[1.8854574819499592, 1.8854574819499592, 1.88...</td>\n",
              "    </tr>\n",
              "    <tr>\n",
              "      <th>119</th>\n",
              "      <td>beethoven</td>\n",
              "      <td>[-0.001495361328125, -0.003997802734375, -0.00...</td>\n",
              "      <td>[[-399.6339668386007, -466.41895924906765, -46...</td>\n",
              "      <td>[[-6.845904391997922, -6.845904391997922, -6.8...</td>\n",
              "      <td>[[3.0725153883385525, 3.0725153883385525, 3.07...</td>\n",
              "    </tr>\n",
              "  </tbody>\n",
              "</table>\n",
              "<p>120 rows × 5 columns</p>\n",
              "</div>\n",
              "      <button class=\"colab-df-convert\" onclick=\"convertToInteractive('df-0c0152dd-cc3c-408d-9cad-24736d8dba02')\"\n",
              "              title=\"Convert this dataframe to an interactive table.\"\n",
              "              style=\"display:none;\">\n",
              "        \n",
              "  <svg xmlns=\"http://www.w3.org/2000/svg\" height=\"24px\"viewBox=\"0 0 24 24\"\n",
              "       width=\"24px\">\n",
              "    <path d=\"M0 0h24v24H0V0z\" fill=\"none\"/>\n",
              "    <path d=\"M18.56 5.44l.94 2.06.94-2.06 2.06-.94-2.06-.94-.94-2.06-.94 2.06-2.06.94zm-11 1L8.5 8.5l.94-2.06 2.06-.94-2.06-.94L8.5 2.5l-.94 2.06-2.06.94zm10 10l.94 2.06.94-2.06 2.06-.94-2.06-.94-.94-2.06-.94 2.06-2.06.94z\"/><path d=\"M17.41 7.96l-1.37-1.37c-.4-.4-.92-.59-1.43-.59-.52 0-1.04.2-1.43.59L10.3 9.45l-7.72 7.72c-.78.78-.78 2.05 0 2.83L4 21.41c.39.39.9.59 1.41.59.51 0 1.02-.2 1.41-.59l7.78-7.78 2.81-2.81c.8-.78.8-2.07 0-2.86zM5.41 20L4 18.59l7.72-7.72 1.47 1.35L5.41 20z\"/>\n",
              "  </svg>\n",
              "      </button>\n",
              "      \n",
              "  <style>\n",
              "    .colab-df-container {\n",
              "      display:flex;\n",
              "      flex-wrap:wrap;\n",
              "      gap: 12px;\n",
              "    }\n",
              "\n",
              "    .colab-df-convert {\n",
              "      background-color: #E8F0FE;\n",
              "      border: none;\n",
              "      border-radius: 50%;\n",
              "      cursor: pointer;\n",
              "      display: none;\n",
              "      fill: #1967D2;\n",
              "      height: 32px;\n",
              "      padding: 0 0 0 0;\n",
              "      width: 32px;\n",
              "    }\n",
              "\n",
              "    .colab-df-convert:hover {\n",
              "      background-color: #E2EBFA;\n",
              "      box-shadow: 0px 1px 2px rgba(60, 64, 67, 0.3), 0px 1px 3px 1px rgba(60, 64, 67, 0.15);\n",
              "      fill: #174EA6;\n",
              "    }\n",
              "\n",
              "    [theme=dark] .colab-df-convert {\n",
              "      background-color: #3B4455;\n",
              "      fill: #D2E3FC;\n",
              "    }\n",
              "\n",
              "    [theme=dark] .colab-df-convert:hover {\n",
              "      background-color: #434B5C;\n",
              "      box-shadow: 0px 1px 3px 1px rgba(0, 0, 0, 0.15);\n",
              "      filter: drop-shadow(0px 1px 2px rgba(0, 0, 0, 0.3));\n",
              "      fill: #FFFFFF;\n",
              "    }\n",
              "  </style>\n",
              "\n",
              "      <script>\n",
              "        const buttonEl =\n",
              "          document.querySelector('#df-0c0152dd-cc3c-408d-9cad-24736d8dba02 button.colab-df-convert');\n",
              "        buttonEl.style.display =\n",
              "          google.colab.kernel.accessAllowed ? 'block' : 'none';\n",
              "\n",
              "        async function convertToInteractive(key) {\n",
              "          const element = document.querySelector('#df-0c0152dd-cc3c-408d-9cad-24736d8dba02');\n",
              "          const dataTable =\n",
              "            await google.colab.kernel.invokeFunction('convertToInteractive',\n",
              "                                                     [key], {});\n",
              "          if (!dataTable) return;\n",
              "\n",
              "          const docLinkHtml = 'Like what you see? Visit the ' +\n",
              "            '<a target=\"_blank\" href=https://colab.research.google.com/notebooks/data_table.ipynb>data table notebook</a>'\n",
              "            + ' to learn more about interactive tables.';\n",
              "          element.innerHTML = '';\n",
              "          dataTable['output_type'] = 'display_data';\n",
              "          await google.colab.output.renderOutput(dataTable, element);\n",
              "          const docLink = document.createElement('div');\n",
              "          docLink.innerHTML = docLinkHtml;\n",
              "          element.appendChild(docLink);\n",
              "        }\n",
              "      </script>\n",
              "    </div>\n",
              "  </div>\n",
              "  "
            ],
            "text/plain": [
              "    Compositeurs  ...                                        Delta2 MFCC\n",
              "0         chopin  ...  [[7.342120188324413, 7.342120188324413, 7.3421...\n",
              "1         chopin  ...  [[4.204460150627886, 4.204460150627886, 4.2044...\n",
              "2         chopin  ...  [[0.15417098189954306, 0.15417098189954306, 0....\n",
              "3         chopin  ...  [[1.5240815909817902, 1.5240815909817902, 1.52...\n",
              "4         chopin  ...  [[1.7742695968054312, 1.7742695968054312, 1.77...\n",
              "..           ...  ...                                                ...\n",
              "115    beethoven  ...  [[1.8538293961178276, 1.8538293961178276, 1.85...\n",
              "116    beethoven  ...  [[0.7849762270468268, 0.7849762270468268, 0.78...\n",
              "117    beethoven  ...  [[1.7545349805609, 1.7545349805609, 1.75453498...\n",
              "118    beethoven  ...  [[1.8854574819499592, 1.8854574819499592, 1.88...\n",
              "119    beethoven  ...  [[3.0725153883385525, 3.0725153883385525, 3.07...\n",
              "\n",
              "[120 rows x 5 columns]"
            ]
          },
          "metadata": {},
          "execution_count": 6
        }
      ]
    },
    {
      "cell_type": "code",
      "source": [
        "# Aggrège les features calculés dans chaque trame pour obtenir des features au niveau de l’extrait\n",
        "# par calcul de la moyenne des features sur toutes les trames\n",
        "## MFCC\n",
        "for i,mfcc in enumerate(df['MFCC']):\n",
        "  Mfcc_df = pd.DataFrame(mfcc)\n",
        "  mean = np.array(Mfcc_df.mean(axis =1))\n",
        "  df['MFCC'][i] = mean\n",
        "## Delta MFCC\n",
        "for i,d_mfcc in enumerate(df['Delta MFCC']):\n",
        "  Delta_mfcc_df = pd.DataFrame(d_mfcc)\n",
        "  mean = np.array(Delta_mfcc_df.mean(axis =1))\n",
        "  df['Delta MFCC'][i] = mean\n",
        "## Delta2 MFCC\n",
        "for i,d2_mfcc in enumerate(df['Delta2 MFCC']):\n",
        "  Delta2_mfcc_df = pd.DataFrame(d2_mfcc)\n",
        "  mean = np.array(Delta2_mfcc_df.mean(axis =1))\n",
        "  df['Delta2 MFCC'][i] = mean\n",
        "df"
      ],
      "metadata": {
        "colab": {
          "base_uri": "https://localhost:8080/",
          "height": 633
        },
        "id": "bMBEcWhohkx_",
        "outputId": "482b0f9a-90c0-43c3-a182-8faf58f0b595"
      },
      "execution_count": null,
      "outputs": [
        {
          "output_type": "execute_result",
          "data": {
            "text/html": [
              "\n",
              "  <div id=\"df-5f8fb94e-a9bf-4814-99b9-4586fe1f4d10\">\n",
              "    <div class=\"colab-df-container\">\n",
              "      <div>\n",
              "<style scoped>\n",
              "    .dataframe tbody tr th:only-of-type {\n",
              "        vertical-align: middle;\n",
              "    }\n",
              "\n",
              "    .dataframe tbody tr th {\n",
              "        vertical-align: top;\n",
              "    }\n",
              "\n",
              "    .dataframe thead th {\n",
              "        text-align: right;\n",
              "    }\n",
              "</style>\n",
              "<table border=\"1\" class=\"dataframe\">\n",
              "  <thead>\n",
              "    <tr style=\"text-align: right;\">\n",
              "      <th></th>\n",
              "      <th>Compositeurs</th>\n",
              "      <th>Signal numérique</th>\n",
              "      <th>MFCC</th>\n",
              "      <th>Delta MFCC</th>\n",
              "      <th>Delta2 MFCC</th>\n",
              "    </tr>\n",
              "  </thead>\n",
              "  <tbody>\n",
              "    <tr>\n",
              "      <th>0</th>\n",
              "      <td>chopin</td>\n",
              "      <td>[0.0533447265625, 0.050689697265625, 0.0474853...</td>\n",
              "      <td>[-429.02398859656785, 241.52708224165434, 37.9...</td>\n",
              "      <td>[-1.0500197458467988, -0.5204932719124417, 0.4...</td>\n",
              "      <td>[0.5212377113087039, 0.22007368469946914, -0.1...</td>\n",
              "    </tr>\n",
              "    <tr>\n",
              "      <th>1</th>\n",
              "      <td>chopin</td>\n",
              "      <td>[-0.051910400390625, -0.05487060546875, -0.057...</td>\n",
              "      <td>[-436.26527157426347, 214.0989497130857, 42.79...</td>\n",
              "      <td>[-0.3298793478308033, -0.32586071207906764, -0...</td>\n",
              "      <td>[0.2224063572094619, 0.07932160286433029, -0.0...</td>\n",
              "    </tr>\n",
              "    <tr>\n",
              "      <th>2</th>\n",
              "      <td>chopin</td>\n",
              "      <td>[0.0262451171875, 0.025848388671875, 0.0253601...</td>\n",
              "      <td>[-432.91258568866766, 217.98962395092815, 32.3...</td>\n",
              "      <td>[1.2064890355502633, 0.7456222719516481, -0.39...</td>\n",
              "      <td>[-0.22982810725219072, -0.09676664706200232, 0...</td>\n",
              "    </tr>\n",
              "    <tr>\n",
              "      <th>3</th>\n",
              "      <td>chopin</td>\n",
              "      <td>[0.020904541015625, 0.032623291015625, 0.04464...</td>\n",
              "      <td>[-290.54565671963945, 223.92957024114446, -55....</td>\n",
              "      <td>[0.21329924558032595, 0.27095914372530944, -0....</td>\n",
              "      <td>[0.1696417152675088, -0.013282489460822482, 0....</td>\n",
              "    </tr>\n",
              "    <tr>\n",
              "      <th>4</th>\n",
              "      <td>chopin</td>\n",
              "      <td>[-0.003143310546875, -0.0030517578125, -0.0028...</td>\n",
              "      <td>[-443.65176239931844, 218.13129969894524, 22.0...</td>\n",
              "      <td>[0.01639739643262425, 0.06158934763908509, -0....</td>\n",
              "      <td>[0.13924353738355388, 0.10531804657128528, -0....</td>\n",
              "    </tr>\n",
              "    <tr>\n",
              "      <th>...</th>\n",
              "      <td>...</td>\n",
              "      <td>...</td>\n",
              "      <td>...</td>\n",
              "      <td>...</td>\n",
              "      <td>...</td>\n",
              "    </tr>\n",
              "    <tr>\n",
              "      <th>115</th>\n",
              "      <td>beethoven</td>\n",
              "      <td>[0.001953125, 0.001953125, 0.00189208984375, 0...</td>\n",
              "      <td>[-670.8083287890472, 151.06517520695763, 65.88...</td>\n",
              "      <td>[0.028660147150013117, -0.058419536125255904, ...</td>\n",
              "      <td>[0.25566551174697033, 0.21566530439467832, -0....</td>\n",
              "    </tr>\n",
              "    <tr>\n",
              "      <th>116</th>\n",
              "      <td>beethoven</td>\n",
              "      <td>[-0.01007080078125, -0.01324462890625, -0.0163...</td>\n",
              "      <td>[-391.83390434541906, 225.43319088846647, 26.3...</td>\n",
              "      <td>[-0.6814999915978739, -0.39351404089727277, 0....</td>\n",
              "      <td>[0.40219355010106034, 0.30701887843393205, 0.0...</td>\n",
              "    </tr>\n",
              "    <tr>\n",
              "      <th>117</th>\n",
              "      <td>beethoven</td>\n",
              "      <td>[-0.009490966796875, -0.0093994140625, -0.0092...</td>\n",
              "      <td>[-533.1194049960129, 160.5362435907648, 28.570...</td>\n",
              "      <td>[-0.39512942578550647, -0.5442414357858829, -0...</td>\n",
              "      <td>[0.26984480403832845, 0.23318850717811948, 0.0...</td>\n",
              "    </tr>\n",
              "    <tr>\n",
              "      <th>118</th>\n",
              "      <td>beethoven</td>\n",
              "      <td>[-0.001220703125, -0.001434326171875, -0.00158...</td>\n",
              "      <td>[-583.7107616453997, 149.15271383319535, 77.62...</td>\n",
              "      <td>[-0.3257123284030883, -0.2909509618933606, 0.0...</td>\n",
              "      <td>[0.2890066269717792, 0.2857817548188808, 0.032...</td>\n",
              "    </tr>\n",
              "    <tr>\n",
              "      <th>119</th>\n",
              "      <td>beethoven</td>\n",
              "      <td>[-0.001495361328125, -0.003997802734375, -0.00...</td>\n",
              "      <td>[-481.70856990347323, 244.85864652368437, 72.2...</td>\n",
              "      <td>[-0.31759968308839265, -0.0008614074677970222,...</td>\n",
              "      <td>[0.15864571800062435, -0.1369626365055607, -0....</td>\n",
              "    </tr>\n",
              "  </tbody>\n",
              "</table>\n",
              "<p>120 rows × 5 columns</p>\n",
              "</div>\n",
              "      <button class=\"colab-df-convert\" onclick=\"convertToInteractive('df-5f8fb94e-a9bf-4814-99b9-4586fe1f4d10')\"\n",
              "              title=\"Convert this dataframe to an interactive table.\"\n",
              "              style=\"display:none;\">\n",
              "        \n",
              "  <svg xmlns=\"http://www.w3.org/2000/svg\" height=\"24px\"viewBox=\"0 0 24 24\"\n",
              "       width=\"24px\">\n",
              "    <path d=\"M0 0h24v24H0V0z\" fill=\"none\"/>\n",
              "    <path d=\"M18.56 5.44l.94 2.06.94-2.06 2.06-.94-2.06-.94-.94-2.06-.94 2.06-2.06.94zm-11 1L8.5 8.5l.94-2.06 2.06-.94-2.06-.94L8.5 2.5l-.94 2.06-2.06.94zm10 10l.94 2.06.94-2.06 2.06-.94-2.06-.94-.94-2.06-.94 2.06-2.06.94z\"/><path d=\"M17.41 7.96l-1.37-1.37c-.4-.4-.92-.59-1.43-.59-.52 0-1.04.2-1.43.59L10.3 9.45l-7.72 7.72c-.78.78-.78 2.05 0 2.83L4 21.41c.39.39.9.59 1.41.59.51 0 1.02-.2 1.41-.59l7.78-7.78 2.81-2.81c.8-.78.8-2.07 0-2.86zM5.41 20L4 18.59l7.72-7.72 1.47 1.35L5.41 20z\"/>\n",
              "  </svg>\n",
              "      </button>\n",
              "      \n",
              "  <style>\n",
              "    .colab-df-container {\n",
              "      display:flex;\n",
              "      flex-wrap:wrap;\n",
              "      gap: 12px;\n",
              "    }\n",
              "\n",
              "    .colab-df-convert {\n",
              "      background-color: #E8F0FE;\n",
              "      border: none;\n",
              "      border-radius: 50%;\n",
              "      cursor: pointer;\n",
              "      display: none;\n",
              "      fill: #1967D2;\n",
              "      height: 32px;\n",
              "      padding: 0 0 0 0;\n",
              "      width: 32px;\n",
              "    }\n",
              "\n",
              "    .colab-df-convert:hover {\n",
              "      background-color: #E2EBFA;\n",
              "      box-shadow: 0px 1px 2px rgba(60, 64, 67, 0.3), 0px 1px 3px 1px rgba(60, 64, 67, 0.15);\n",
              "      fill: #174EA6;\n",
              "    }\n",
              "\n",
              "    [theme=dark] .colab-df-convert {\n",
              "      background-color: #3B4455;\n",
              "      fill: #D2E3FC;\n",
              "    }\n",
              "\n",
              "    [theme=dark] .colab-df-convert:hover {\n",
              "      background-color: #434B5C;\n",
              "      box-shadow: 0px 1px 3px 1px rgba(0, 0, 0, 0.15);\n",
              "      filter: drop-shadow(0px 1px 2px rgba(0, 0, 0, 0.3));\n",
              "      fill: #FFFFFF;\n",
              "    }\n",
              "  </style>\n",
              "\n",
              "      <script>\n",
              "        const buttonEl =\n",
              "          document.querySelector('#df-5f8fb94e-a9bf-4814-99b9-4586fe1f4d10 button.colab-df-convert');\n",
              "        buttonEl.style.display =\n",
              "          google.colab.kernel.accessAllowed ? 'block' : 'none';\n",
              "\n",
              "        async function convertToInteractive(key) {\n",
              "          const element = document.querySelector('#df-5f8fb94e-a9bf-4814-99b9-4586fe1f4d10');\n",
              "          const dataTable =\n",
              "            await google.colab.kernel.invokeFunction('convertToInteractive',\n",
              "                                                     [key], {});\n",
              "          if (!dataTable) return;\n",
              "\n",
              "          const docLinkHtml = 'Like what you see? Visit the ' +\n",
              "            '<a target=\"_blank\" href=https://colab.research.google.com/notebooks/data_table.ipynb>data table notebook</a>'\n",
              "            + ' to learn more about interactive tables.';\n",
              "          element.innerHTML = '';\n",
              "          dataTable['output_type'] = 'display_data';\n",
              "          await google.colab.output.renderOutput(dataTable, element);\n",
              "          const docLink = document.createElement('div');\n",
              "          docLink.innerHTML = docLinkHtml;\n",
              "          element.appendChild(docLink);\n",
              "        }\n",
              "      </script>\n",
              "    </div>\n",
              "  </div>\n",
              "  "
            ],
            "text/plain": [
              "    Compositeurs  ...                                        Delta2 MFCC\n",
              "0         chopin  ...  [0.5212377113087039, 0.22007368469946914, -0.1...\n",
              "1         chopin  ...  [0.2224063572094619, 0.07932160286433029, -0.0...\n",
              "2         chopin  ...  [-0.22982810725219072, -0.09676664706200232, 0...\n",
              "3         chopin  ...  [0.1696417152675088, -0.013282489460822482, 0....\n",
              "4         chopin  ...  [0.13924353738355388, 0.10531804657128528, -0....\n",
              "..           ...  ...                                                ...\n",
              "115    beethoven  ...  [0.25566551174697033, 0.21566530439467832, -0....\n",
              "116    beethoven  ...  [0.40219355010106034, 0.30701887843393205, 0.0...\n",
              "117    beethoven  ...  [0.26984480403832845, 0.23318850717811948, 0.0...\n",
              "118    beethoven  ...  [0.2890066269717792, 0.2857817548188808, 0.032...\n",
              "119    beethoven  ...  [0.15864571800062435, -0.1369626365055607, -0....\n",
              "\n",
              "[120 rows x 5 columns]"
            ]
          },
          "metadata": {},
          "execution_count": 7
        }
      ]
    },
    {
      "cell_type": "code",
      "source": [
        "# Calcule le vecteur de descripteurs pour chaque exemple\n",
        "descripteurs = []\n",
        "for i,mfcc in enumerate(df['MFCC']):\n",
        "  delta_mfcc = df['Delta MFCC'][i]\n",
        "  delta2_mfcc = df['Delta2 MFCC'][i]\n",
        "  descripteur = np.concatenate((mfcc, delta_mfcc, delta2_mfcc), axis=None)\n",
        "  descripteurs.append(descripteur)\n",
        "df.insert(2, 'Descripteur', descripteurs)\n",
        "df"
      ],
      "metadata": {
        "colab": {
          "base_uri": "https://localhost:8080/",
          "height": 752
        },
        "id": "9gdD8S7h8X0e",
        "outputId": "f8116568-c01e-4c52-e573-39c79037409e"
      },
      "execution_count": null,
      "outputs": [
        {
          "output_type": "execute_result",
          "data": {
            "text/html": [
              "\n",
              "  <div id=\"df-c82378ad-10ba-4a93-b7ce-e46d62aeb37a\">\n",
              "    <div class=\"colab-df-container\">\n",
              "      <div>\n",
              "<style scoped>\n",
              "    .dataframe tbody tr th:only-of-type {\n",
              "        vertical-align: middle;\n",
              "    }\n",
              "\n",
              "    .dataframe tbody tr th {\n",
              "        vertical-align: top;\n",
              "    }\n",
              "\n",
              "    .dataframe thead th {\n",
              "        text-align: right;\n",
              "    }\n",
              "</style>\n",
              "<table border=\"1\" class=\"dataframe\">\n",
              "  <thead>\n",
              "    <tr style=\"text-align: right;\">\n",
              "      <th></th>\n",
              "      <th>Compositeurs</th>\n",
              "      <th>Signal numérique</th>\n",
              "      <th>Descripteur</th>\n",
              "      <th>MFCC</th>\n",
              "      <th>Delta MFCC</th>\n",
              "      <th>Delta2 MFCC</th>\n",
              "    </tr>\n",
              "  </thead>\n",
              "  <tbody>\n",
              "    <tr>\n",
              "      <th>0</th>\n",
              "      <td>chopin</td>\n",
              "      <td>[0.0533447265625, 0.050689697265625, 0.0474853...</td>\n",
              "      <td>[-429.02398859656785, 241.52708224165434, 37.9...</td>\n",
              "      <td>[-429.02398859656785, 241.52708224165434, 37.9...</td>\n",
              "      <td>[-1.0500197458467988, -0.5204932719124417, 0.4...</td>\n",
              "      <td>[0.5212377113087039, 0.22007368469946914, -0.1...</td>\n",
              "    </tr>\n",
              "    <tr>\n",
              "      <th>1</th>\n",
              "      <td>chopin</td>\n",
              "      <td>[-0.051910400390625, -0.05487060546875, -0.057...</td>\n",
              "      <td>[-436.26527157426347, 214.0989497130857, 42.79...</td>\n",
              "      <td>[-436.26527157426347, 214.0989497130857, 42.79...</td>\n",
              "      <td>[-0.3298793478308033, -0.32586071207906764, -0...</td>\n",
              "      <td>[0.2224063572094619, 0.07932160286433029, -0.0...</td>\n",
              "    </tr>\n",
              "    <tr>\n",
              "      <th>2</th>\n",
              "      <td>chopin</td>\n",
              "      <td>[0.0262451171875, 0.025848388671875, 0.0253601...</td>\n",
              "      <td>[-432.91258568866766, 217.98962395092815, 32.3...</td>\n",
              "      <td>[-432.91258568866766, 217.98962395092815, 32.3...</td>\n",
              "      <td>[1.2064890355502633, 0.7456222719516481, -0.39...</td>\n",
              "      <td>[-0.22982810725219072, -0.09676664706200232, 0...</td>\n",
              "    </tr>\n",
              "    <tr>\n",
              "      <th>3</th>\n",
              "      <td>chopin</td>\n",
              "      <td>[0.020904541015625, 0.032623291015625, 0.04464...</td>\n",
              "      <td>[-290.54565671963945, 223.92957024114446, -55....</td>\n",
              "      <td>[-290.54565671963945, 223.92957024114446, -55....</td>\n",
              "      <td>[0.21329924558032595, 0.27095914372530944, -0....</td>\n",
              "      <td>[0.1696417152675088, -0.013282489460822482, 0....</td>\n",
              "    </tr>\n",
              "    <tr>\n",
              "      <th>4</th>\n",
              "      <td>chopin</td>\n",
              "      <td>[-0.003143310546875, -0.0030517578125, -0.0028...</td>\n",
              "      <td>[-443.65176239931844, 218.13129969894524, 22.0...</td>\n",
              "      <td>[-443.65176239931844, 218.13129969894524, 22.0...</td>\n",
              "      <td>[0.01639739643262425, 0.06158934763908509, -0....</td>\n",
              "      <td>[0.13924353738355388, 0.10531804657128528, -0....</td>\n",
              "    </tr>\n",
              "    <tr>\n",
              "      <th>...</th>\n",
              "      <td>...</td>\n",
              "      <td>...</td>\n",
              "      <td>...</td>\n",
              "      <td>...</td>\n",
              "      <td>...</td>\n",
              "      <td>...</td>\n",
              "    </tr>\n",
              "    <tr>\n",
              "      <th>115</th>\n",
              "      <td>beethoven</td>\n",
              "      <td>[0.001953125, 0.001953125, 0.00189208984375, 0...</td>\n",
              "      <td>[-670.8083287890472, 151.06517520695763, 65.88...</td>\n",
              "      <td>[-670.8083287890472, 151.06517520695763, 65.88...</td>\n",
              "      <td>[0.028660147150013117, -0.058419536125255904, ...</td>\n",
              "      <td>[0.25566551174697033, 0.21566530439467832, -0....</td>\n",
              "    </tr>\n",
              "    <tr>\n",
              "      <th>116</th>\n",
              "      <td>beethoven</td>\n",
              "      <td>[-0.01007080078125, -0.01324462890625, -0.0163...</td>\n",
              "      <td>[-391.83390434541906, 225.43319088846647, 26.3...</td>\n",
              "      <td>[-391.83390434541906, 225.43319088846647, 26.3...</td>\n",
              "      <td>[-0.6814999915978739, -0.39351404089727277, 0....</td>\n",
              "      <td>[0.40219355010106034, 0.30701887843393205, 0.0...</td>\n",
              "    </tr>\n",
              "    <tr>\n",
              "      <th>117</th>\n",
              "      <td>beethoven</td>\n",
              "      <td>[-0.009490966796875, -0.0093994140625, -0.0092...</td>\n",
              "      <td>[-533.1194049960129, 160.5362435907648, 28.570...</td>\n",
              "      <td>[-533.1194049960129, 160.5362435907648, 28.570...</td>\n",
              "      <td>[-0.39512942578550647, -0.5442414357858829, -0...</td>\n",
              "      <td>[0.26984480403832845, 0.23318850717811948, 0.0...</td>\n",
              "    </tr>\n",
              "    <tr>\n",
              "      <th>118</th>\n",
              "      <td>beethoven</td>\n",
              "      <td>[-0.001220703125, -0.001434326171875, -0.00158...</td>\n",
              "      <td>[-583.7107616453997, 149.15271383319535, 77.62...</td>\n",
              "      <td>[-583.7107616453997, 149.15271383319535, 77.62...</td>\n",
              "      <td>[-0.3257123284030883, -0.2909509618933606, 0.0...</td>\n",
              "      <td>[0.2890066269717792, 0.2857817548188808, 0.032...</td>\n",
              "    </tr>\n",
              "    <tr>\n",
              "      <th>119</th>\n",
              "      <td>beethoven</td>\n",
              "      <td>[-0.001495361328125, -0.003997802734375, -0.00...</td>\n",
              "      <td>[-481.70856990347323, 244.85864652368437, 72.2...</td>\n",
              "      <td>[-481.70856990347323, 244.85864652368437, 72.2...</td>\n",
              "      <td>[-0.31759968308839265, -0.0008614074677970222,...</td>\n",
              "      <td>[0.15864571800062435, -0.1369626365055607, -0....</td>\n",
              "    </tr>\n",
              "  </tbody>\n",
              "</table>\n",
              "<p>120 rows × 6 columns</p>\n",
              "</div>\n",
              "      <button class=\"colab-df-convert\" onclick=\"convertToInteractive('df-c82378ad-10ba-4a93-b7ce-e46d62aeb37a')\"\n",
              "              title=\"Convert this dataframe to an interactive table.\"\n",
              "              style=\"display:none;\">\n",
              "        \n",
              "  <svg xmlns=\"http://www.w3.org/2000/svg\" height=\"24px\"viewBox=\"0 0 24 24\"\n",
              "       width=\"24px\">\n",
              "    <path d=\"M0 0h24v24H0V0z\" fill=\"none\"/>\n",
              "    <path d=\"M18.56 5.44l.94 2.06.94-2.06 2.06-.94-2.06-.94-.94-2.06-.94 2.06-2.06.94zm-11 1L8.5 8.5l.94-2.06 2.06-.94-2.06-.94L8.5 2.5l-.94 2.06-2.06.94zm10 10l.94 2.06.94-2.06 2.06-.94-2.06-.94-.94-2.06-.94 2.06-2.06.94z\"/><path d=\"M17.41 7.96l-1.37-1.37c-.4-.4-.92-.59-1.43-.59-.52 0-1.04.2-1.43.59L10.3 9.45l-7.72 7.72c-.78.78-.78 2.05 0 2.83L4 21.41c.39.39.9.59 1.41.59.51 0 1.02-.2 1.41-.59l7.78-7.78 2.81-2.81c.8-.78.8-2.07 0-2.86zM5.41 20L4 18.59l7.72-7.72 1.47 1.35L5.41 20z\"/>\n",
              "  </svg>\n",
              "      </button>\n",
              "      \n",
              "  <style>\n",
              "    .colab-df-container {\n",
              "      display:flex;\n",
              "      flex-wrap:wrap;\n",
              "      gap: 12px;\n",
              "    }\n",
              "\n",
              "    .colab-df-convert {\n",
              "      background-color: #E8F0FE;\n",
              "      border: none;\n",
              "      border-radius: 50%;\n",
              "      cursor: pointer;\n",
              "      display: none;\n",
              "      fill: #1967D2;\n",
              "      height: 32px;\n",
              "      padding: 0 0 0 0;\n",
              "      width: 32px;\n",
              "    }\n",
              "\n",
              "    .colab-df-convert:hover {\n",
              "      background-color: #E2EBFA;\n",
              "      box-shadow: 0px 1px 2px rgba(60, 64, 67, 0.3), 0px 1px 3px 1px rgba(60, 64, 67, 0.15);\n",
              "      fill: #174EA6;\n",
              "    }\n",
              "\n",
              "    [theme=dark] .colab-df-convert {\n",
              "      background-color: #3B4455;\n",
              "      fill: #D2E3FC;\n",
              "    }\n",
              "\n",
              "    [theme=dark] .colab-df-convert:hover {\n",
              "      background-color: #434B5C;\n",
              "      box-shadow: 0px 1px 3px 1px rgba(0, 0, 0, 0.15);\n",
              "      filter: drop-shadow(0px 1px 2px rgba(0, 0, 0, 0.3));\n",
              "      fill: #FFFFFF;\n",
              "    }\n",
              "  </style>\n",
              "\n",
              "      <script>\n",
              "        const buttonEl =\n",
              "          document.querySelector('#df-c82378ad-10ba-4a93-b7ce-e46d62aeb37a button.colab-df-convert');\n",
              "        buttonEl.style.display =\n",
              "          google.colab.kernel.accessAllowed ? 'block' : 'none';\n",
              "\n",
              "        async function convertToInteractive(key) {\n",
              "          const element = document.querySelector('#df-c82378ad-10ba-4a93-b7ce-e46d62aeb37a');\n",
              "          const dataTable =\n",
              "            await google.colab.kernel.invokeFunction('convertToInteractive',\n",
              "                                                     [key], {});\n",
              "          if (!dataTable) return;\n",
              "\n",
              "          const docLinkHtml = 'Like what you see? Visit the ' +\n",
              "            '<a target=\"_blank\" href=https://colab.research.google.com/notebooks/data_table.ipynb>data table notebook</a>'\n",
              "            + ' to learn more about interactive tables.';\n",
              "          element.innerHTML = '';\n",
              "          dataTable['output_type'] = 'display_data';\n",
              "          await google.colab.output.renderOutput(dataTable, element);\n",
              "          const docLink = document.createElement('div');\n",
              "          docLink.innerHTML = docLinkHtml;\n",
              "          element.appendChild(docLink);\n",
              "        }\n",
              "      </script>\n",
              "    </div>\n",
              "  </div>\n",
              "  "
            ],
            "text/plain": [
              "    Compositeurs  ...                                        Delta2 MFCC\n",
              "0         chopin  ...  [0.5212377113087039, 0.22007368469946914, -0.1...\n",
              "1         chopin  ...  [0.2224063572094619, 0.07932160286433029, -0.0...\n",
              "2         chopin  ...  [-0.22982810725219072, -0.09676664706200232, 0...\n",
              "3         chopin  ...  [0.1696417152675088, -0.013282489460822482, 0....\n",
              "4         chopin  ...  [0.13924353738355388, 0.10531804657128528, -0....\n",
              "..           ...  ...                                                ...\n",
              "115    beethoven  ...  [0.25566551174697033, 0.21566530439467832, -0....\n",
              "116    beethoven  ...  [0.40219355010106034, 0.30701887843393205, 0.0...\n",
              "117    beethoven  ...  [0.26984480403832845, 0.23318850717811948, 0.0...\n",
              "118    beethoven  ...  [0.2890066269717792, 0.2857817548188808, 0.032...\n",
              "119    beethoven  ...  [0.15864571800062435, -0.1369626365055607, -0....\n",
              "\n",
              "[120 rows x 6 columns]"
            ]
          },
          "metadata": {},
          "execution_count": 8
        }
      ]
    },
    {
      "cell_type": "code",
      "source": [
        "# Stocke le vecteur dans un fichier contenant la matrice n × d des features de taille d pour les n exemples\n",
        "matrice = []\n",
        "for row in df['Descripteur']:\n",
        "  matrice.append(row)\n",
        "matrice = np.array(matrice)\n",
        "\n",
        "matrice_df = pd.DataFrame(matrice)\n",
        "matrice_df.to_csv('descipteurs.csv', index=False)"
      ],
      "metadata": {
        "id": "1awlaHopV5A2"
      },
      "execution_count": null,
      "outputs": []
    },
    {
      "cell_type": "markdown",
      "source": [
        "##### Construction d'un classifieur qui prédit le compositeur"
      ],
      "metadata": {
        "id": "yOgv4ynL2fq9"
      }
    },
    {
      "cell_type": "code",
      "source": [
        "# Division en données d'apprentissage et de test\n",
        "## Descipteurs\n",
        "descripteurs = pd.read_csv(\"descipteurs.csv\")\n",
        "X = descripteurs.to_numpy()\n",
        "## Labels\n",
        "labels = df['Compositeurs'].to_numpy()\n",
        "labelEncoder = LabelEncoder()\n",
        "labelEncoder.fit(labels)\n",
        "y = labelEncoder.transform(labels)\n",
        "\n",
        "X_train, X_test, y_train, y_test = train_test_split(X, y, test_size=0.20, random_state=42)"
      ],
      "metadata": {
        "id": "UjK_Oyqp5cn4"
      },
      "execution_count": null,
      "outputs": []
    },
    {
      "cell_type": "code",
      "source": [
        "# Normalisation des vecteurs descripteurs\n",
        "scaler = StandardScaler(copy=False)\n",
        "X_train_scaled = scaler.fit_transform(X_train)\n",
        "X_test_scaled = scaler.transform(X_test)"
      ],
      "metadata": {
        "id": "k0m7ocjaMTH5"
      },
      "execution_count": null,
      "outputs": []
    },
    {
      "cell_type": "code",
      "source": [
        "# Création du modèle avec le classifieur \"LogisticRegression\" de scikit-learn\n",
        "clf = LogisticRegression()\n",
        "# Entraînement du modèle\n",
        "clf.fit(X_train_scaled, y_train)"
      ],
      "metadata": {
        "colab": {
          "base_uri": "https://localhost:8080/"
        },
        "id": "LlnHPcJcPasn",
        "outputId": "9b41e19a-d201-4107-9362-923cfd7715d0"
      },
      "execution_count": null,
      "outputs": [
        {
          "output_type": "execute_result",
          "data": {
            "text/plain": [
              "LogisticRegression()"
            ]
          },
          "metadata": {},
          "execution_count": 12
        }
      ]
    },
    {
      "cell_type": "markdown",
      "source": [
        "##### Évaluation des performances du classifieurs"
      ],
      "metadata": {
        "id": "zC2KXl8N2huz"
      }
    },
    {
      "cell_type": "code",
      "source": [
        "# Prédictions sur les donnés de test\n",
        "predictions = clf.predict(X_test_scaled)\n",
        "predictions"
      ],
      "metadata": {
        "id": "0BhOxSQ_6f5N",
        "colab": {
          "base_uri": "https://localhost:8080/"
        },
        "outputId": "bbc5d80d-07e8-46f2-8304-70ef6cad9a53"
      },
      "execution_count": null,
      "outputs": [
        {
          "output_type": "execute_result",
          "data": {
            "text/plain": [
              "array([1, 0, 1, 1, 1, 0, 1, 1, 1, 0, 0, 1, 3, 1, 2, 1, 1, 1, 2, 3, 3, 1,\n",
              "       1, 3])"
            ]
          },
          "metadata": {},
          "execution_count": 13
        }
      ]
    },
    {
      "cell_type": "code",
      "source": [
        "# Donne la precision du modele\n",
        "accuracy = clf.score(X_test, y_test)\n",
        "print(\"La performance du modèle est de : \", 100*accuracy, \" %\")"
      ],
      "metadata": {
        "colab": {
          "base_uri": "https://localhost:8080/"
        },
        "id": "S2rVIQ6cR_UZ",
        "outputId": "79297b79-5836-4b46-e248-f56d8bf73903"
      },
      "execution_count": null,
      "outputs": [
        {
          "output_type": "stream",
          "name": "stdout",
          "text": [
            "La performance du modèle est de :  62.5  %\n"
          ]
        }
      ]
    },
    {
      "cell_type": "markdown",
      "source": [
        "##### Exemples mal classés"
      ],
      "metadata": {
        "id": "fJVVVih529-8"
      }
    },
    {
      "cell_type": "markdown",
      "source": [
        "###### Exhibition"
      ],
      "metadata": {
        "id": "bR7Y-fCR3uPd"
      }
    },
    {
      "cell_type": "code",
      "source": [
        "# Affiche les différences entre prédiction et vrai labels\n",
        "named_predictions = labelEncoder.inverse_transform(predictions)\n",
        "named_true_labels = labelEncoder.inverse_transform(y_test)\n",
        "print(\"Les prédictions sont : \\n-------------------------- \\n\", named_predictions, \"\\n\\n\")\n",
        "print(\"Les réels labels étaient : \\n-------------------------- \\n\", named_true_labels)"
      ],
      "metadata": {
        "colab": {
          "base_uri": "https://localhost:8080/"
        },
        "id": "8kbFDhuDT8Ox",
        "outputId": "e8491e88-1258-40ad-f950-875d69a4ab0f"
      },
      "execution_count": null,
      "outputs": [
        {
          "output_type": "stream",
          "name": "stdout",
          "text": [
            "Les prédictions sont : \n",
            "-------------------------- \n",
            " ['chopin' 'beethoven' 'chopin' 'chopin' 'chopin' 'beethoven' 'chopin'\n",
            " 'chopin' 'chopin' 'beethoven' 'beethoven' 'chopin' 'mozart' 'chopin'\n",
            " 'liszt' 'chopin' 'chopin' 'chopin' 'liszt' 'mozart' 'mozart' 'chopin'\n",
            " 'chopin' 'mozart'] \n",
            "\n",
            "\n",
            "Les réels labels étaient : \n",
            "-------------------------- \n",
            " ['chopin' 'chopin' 'chopin' 'chopin' 'chopin' 'mozart' 'mozart' 'chopin'\n",
            " 'chopin' 'beethoven' 'chopin' 'mozart' 'chopin' 'chopin' 'liszt' 'liszt'\n",
            " 'beethoven' 'chopin' 'liszt' 'beethoven' 'mozart' 'chopin' 'chopin'\n",
            " 'mozart']\n"
          ]
        }
      ]
    },
    {
      "cell_type": "code",
      "source": [
        "# Affiche les exemples mals classés\n",
        "print(\"Les exemples mal-classés dans les données test sont les exemples suivants :\")\n",
        "difference = np.subtract(predictions, y_test)\n",
        "liste = []\n",
        "for i,label in enumerate(difference):\n",
        "  if label != 0:\n",
        "    liste.append(i+1)\n",
        "print(liste)"
      ],
      "metadata": {
        "colab": {
          "base_uri": "https://localhost:8080/"
        },
        "id": "73PZdQPSUdIm",
        "outputId": "4a5e3156-f825-47f6-9f8d-8ab2dcadeb9b"
      },
      "execution_count": null,
      "outputs": [
        {
          "output_type": "stream",
          "name": "stdout",
          "text": [
            "Les exemples mal-classés dans les données test sont les exemples suivants :\n",
            "[2, 6, 7, 11, 12, 13, 16, 17, 20]\n"
          ]
        }
      ]
    },
    {
      "cell_type": "markdown",
      "source": [
        "###### Interprétation"
      ],
      "metadata": {
        "id": "0qukNepU3Jdk"
      }
    },
    {
      "cell_type": "code",
      "source": [
        "# TODO"
      ],
      "metadata": {
        "id": "AZEKjNFvUgcT"
      },
      "execution_count": null,
      "outputs": []
    },
    {
      "cell_type": "markdown",
      "source": [
        "### Jeu de mfccs pour la classification de genre (single-label) : MSD-I\n",
        "Données : 30 712 morceaux de musique </br>\n",
        "Labels : 15 genres différents (Metal, Rock, etc.)"
      ],
      "metadata": {
        "id": "caJmG8ec4D6Y"
      }
    },
    {
      "cell_type": "code",
      "source": [
        "# Commande spécifique\n",
        "%cd /content/drive/MyDrive/Colab Notebooks/Temps2/SAM/Projet/data/msdi"
      ],
      "metadata": {
        "colab": {
          "base_uri": "https://localhost:8080/"
        },
        "id": "X2V4gnxBr5rB",
        "outputId": "12d33c68-247a-4529-ce5f-6ee78fa09195"
      },
      "execution_count": null,
      "outputs": [
        {
          "output_type": "stream",
          "name": "stdout",
          "text": [
            "/content/drive/MyDrive/Colab Notebooks/Temps2/SAM/Projet/data/msdi\n"
          ]
        }
      ]
    },
    {
      "cell_type": "markdown",
      "source": [
        "#### Descripteurs standards"
      ],
      "metadata": {
        "id": "T9XMlgcD0Nqo"
      }
    },
    {
      "cell_type": "markdown",
      "source": [
        "##### 1. Régression Logistique"
      ],
      "metadata": {
        "id": "wY0QJUT2zCRb"
      }
    },
    {
      "cell_type": "markdown",
      "source": [
        "###### Extraction des descipteurs"
      ],
      "metadata": {
        "id": "FCQSn1IrVBU5"
      }
    },
    {
      "cell_type": "code",
      "source": [
        "# Fonction qui charge une matrice de MFCC (n (trames) x d (dimension du descripteur MFCC))\n",
        "# à partir d'une ligne (entry) du fichier principal : msdi_mapping.csv\n",
        "def load_mfcc(entry, msdi_path):\n",
        "    x = np.load(Path(msdi_path) / entry['mfcc'])\n",
        "    mfcc_matrix = x[entry['msd_track_id']]\n",
        "    return mfcc_matrix"
      ],
      "metadata": {
        "id": "Z53V3AY8XOfM"
      },
      "execution_count": null,
      "outputs": []
    },
    {
      "cell_type": "code",
      "source": [
        "# Fonction qui ajoute les ∆MFCC et ∆∆MFCC\n",
        "def add_deltas(mfcc_matrix):\n",
        "  trame_number = mfcc_matrix.shape[0]\n",
        "  descriptor_size = mfcc_matrix.shape[1]\n",
        "  descriptors_matrix = []\n",
        "  for mfcc in mfcc_matrix:\n",
        "    mfcc_delta = delta(mfcc)\n",
        "    mfcc_delta2 = delta(mfcc, order=2)\n",
        "    descriptor = np.concatenate((mfcc,mfcc_delta,mfcc_delta2))\n",
        "    descriptors_matrix.append(descriptor)\n",
        "  descriptors_matrix = np.array(descriptors_matrix)\n",
        "  return descriptors_matrix"
      ],
      "metadata": {
        "id": "uiBWsz_HnrNu"
      },
      "execution_count": null,
      "outputs": []
    },
    {
      "cell_type": "code",
      "source": [
        "# Fonction qui aggrège les caractéristiques calculées dans chaque trame\n",
        "def aggregate_features(descriptors_matrix):\n",
        "  sample_descriptor = np.mean(descriptors_matrix, axis=0)\n",
        "  return sample_descriptor"
      ],
      "metadata": {
        "id": "zBiPJRPYvGHC"
      },
      "execution_count": null,
      "outputs": []
    },
    {
      "cell_type": "code",
      "source": [
        "# Fonction qui lit chaque fichier son\n",
        "\n",
        "# TODO : mettre à jour cette fonction pour avoir un train equilibré\n",
        "\n",
        "def read_files(msdi_path, my_set, samples_number):\n",
        "  my_data = []\n",
        "  i = 0\n",
        "  filter = (mapping_df['set'] == my_set)\n",
        "  df = mapping_df[filter]\n",
        "  for index, entry in df.iterrows():\n",
        "    if i < samples_number:\n",
        "      genre = entry['genre']\n",
        "      train_test_set = entry['set']\n",
        "      mfcc_matrix = load_mfcc(entry, msdi_path)\n",
        "      descriptors_matrix = add_deltas(mfcc_matrix)\n",
        "      sample_descriptor = aggregate_features(descriptors_matrix)\n",
        "      my_data.append(np.array([genre, train_test_set, sample_descriptor], dtype=object))\n",
        "      i += 1\n",
        "      if i % 25 == 0:\n",
        "        print(\"We finished treating the \" + str(i) + \"th sample !\")\n",
        "        print(\"...\")\n",
        "  print(\"DONE\")\n",
        "  my_data = np.array(my_data)\n",
        "  return my_data"
      ],
      "metadata": {
        "id": "OvLnPflycSS6"
      },
      "execution_count": null,
      "outputs": []
    },
    {
      "cell_type": "code",
      "source": [
        "# Crée un dataframe du mapping associé à nos données\n",
        "msdi_mapping_path = '/content/drive/MyDrive/Colab Notebooks/Temps2/SAM/Projet/data/msdi/msdi_mapping.csv'\n",
        "mapping_df = pd.read_csv(msdi_mapping_path)\n",
        "mapping_df.rename(columns={'Unnamed: 0':'Index'}, inplace=True)\n",
        "mapping_df = mapping_df.set_index('Index')\n",
        "mapping_df"
      ],
      "metadata": {
        "colab": {
          "base_uri": "https://localhost:8080/",
          "height": 684
        },
        "id": "VVFUtXjWYuAD",
        "outputId": "cb49fc89-ba38-434c-b593-4eef3593f30a"
      },
      "execution_count": null,
      "outputs": [
        {
          "output_type": "execute_result",
          "data": {
            "text/html": [
              "\n",
              "  <div id=\"df-302d337e-e530-4f43-90f6-605bd409aab9\">\n",
              "    <div class=\"colab-df-container\">\n",
              "      <div>\n",
              "<style scoped>\n",
              "    .dataframe tbody tr th:only-of-type {\n",
              "        vertical-align: middle;\n",
              "    }\n",
              "\n",
              "    .dataframe tbody tr th {\n",
              "        vertical-align: top;\n",
              "    }\n",
              "\n",
              "    .dataframe thead th {\n",
              "        text-align: right;\n",
              "    }\n",
              "</style>\n",
              "<table border=\"1\" class=\"dataframe\">\n",
              "  <thead>\n",
              "    <tr style=\"text-align: right;\">\n",
              "      <th></th>\n",
              "      <th>msd_track_id</th>\n",
              "      <th>genre</th>\n",
              "      <th>album_index</th>\n",
              "      <th>set</th>\n",
              "      <th>msd_artist_id</th>\n",
              "      <th>image_url</th>\n",
              "      <th>img</th>\n",
              "      <th>mfcc</th>\n",
              "      <th>deep_features</th>\n",
              "    </tr>\n",
              "    <tr>\n",
              "      <th>Index</th>\n",
              "      <th></th>\n",
              "      <th></th>\n",
              "      <th></th>\n",
              "      <th></th>\n",
              "      <th></th>\n",
              "      <th></th>\n",
              "      <th></th>\n",
              "      <th></th>\n",
              "      <th></th>\n",
              "    </tr>\n",
              "  </thead>\n",
              "  <tbody>\n",
              "    <tr>\n",
              "      <th>0</th>\n",
              "      <td>TRABKJU128F422A7FE</td>\n",
              "      <td>Metal</td>\n",
              "      <td>0</td>\n",
              "      <td>train</td>\n",
              "      <td>ARBD4QW1187FB42153</td>\n",
              "      <td>http://artwork-cdn.7static.com/static/img/slee...</td>\n",
              "      <td>img/0000848744_200.jpg</td>\n",
              "      <td>mfcc/mfcc_A.npz</td>\n",
              "      <td>0</td>\n",
              "    </tr>\n",
              "    <tr>\n",
              "      <th>1</th>\n",
              "      <td>TRBLDQQ128F92E58B4</td>\n",
              "      <td>Rock</td>\n",
              "      <td>1</td>\n",
              "      <td>train</td>\n",
              "      <td>AR3RK011187FB3CE3B</td>\n",
              "      <td>http://artwork-cdn.7static.com/static/img/slee...</td>\n",
              "      <td>img/0000476534_200.jpg</td>\n",
              "      <td>mfcc/mfcc_B.npz</td>\n",
              "      <td>1</td>\n",
              "    </tr>\n",
              "    <tr>\n",
              "      <th>2</th>\n",
              "      <td>TRDMMDE128F14A9052</td>\n",
              "      <td>Rock</td>\n",
              "      <td>2</td>\n",
              "      <td>train</td>\n",
              "      <td>ARJVTRE1187B9959C0</td>\n",
              "      <td>http://artwork-cdn.7static.com/static/img/slee...</td>\n",
              "      <td>img/0000062345_200.jpg</td>\n",
              "      <td>mfcc/mfcc_D.npz</td>\n",
              "      <td>2</td>\n",
              "    </tr>\n",
              "    <tr>\n",
              "      <th>3</th>\n",
              "      <td>TRJOPZB128F4250E02</td>\n",
              "      <td>Rock</td>\n",
              "      <td>4</td>\n",
              "      <td>train</td>\n",
              "      <td>AR62BB21187B9AC83D</td>\n",
              "      <td>http://artwork-cdn.7static.com/static/img/slee...</td>\n",
              "      <td>img/0000144785_200.jpg</td>\n",
              "      <td>mfcc/mfcc_J.npz</td>\n",
              "      <td>3</td>\n",
              "    </tr>\n",
              "    <tr>\n",
              "      <th>4</th>\n",
              "      <td>TRJKBVL128F935567B</td>\n",
              "      <td>Rock</td>\n",
              "      <td>5</td>\n",
              "      <td>train</td>\n",
              "      <td>AR7GVOV1187B9B5FF1</td>\n",
              "      <td>http://artwork-cdn.7static.com/static/img/slee...</td>\n",
              "      <td>img/0000520513_200.jpg</td>\n",
              "      <td>mfcc/mfcc_J.npz</td>\n",
              "      <td>4</td>\n",
              "    </tr>\n",
              "    <tr>\n",
              "      <th>...</th>\n",
              "      <td>...</td>\n",
              "      <td>...</td>\n",
              "      <td>...</td>\n",
              "      <td>...</td>\n",
              "      <td>...</td>\n",
              "      <td>...</td>\n",
              "      <td>...</td>\n",
              "      <td>...</td>\n",
              "      <td>...</td>\n",
              "    </tr>\n",
              "    <tr>\n",
              "      <th>30708</th>\n",
              "      <td>TRJRMVM128F4259C12</td>\n",
              "      <td>Punk</td>\n",
              "      <td>12066</td>\n",
              "      <td>test</td>\n",
              "      <td>ARC1SV21187FB4CF26</td>\n",
              "      <td>http://artwork-cdn.7static.com/static/img/slee...</td>\n",
              "      <td>img/0000250669_200.jpg</td>\n",
              "      <td>mfcc/mfcc_J.npz</td>\n",
              "      <td>4644</td>\n",
              "    </tr>\n",
              "    <tr>\n",
              "      <th>30709</th>\n",
              "      <td>TRJUGOK128F4243DA6</td>\n",
              "      <td>Pop</td>\n",
              "      <td>22364</td>\n",
              "      <td>test</td>\n",
              "      <td>AR5MK521187B98E0B8</td>\n",
              "      <td>http://artwork-cdn.7static.com/static/img/slee...</td>\n",
              "      <td>img/0000139188_200.jpg</td>\n",
              "      <td>mfcc/mfcc_J.npz</td>\n",
              "      <td>4645</td>\n",
              "    </tr>\n",
              "    <tr>\n",
              "      <th>30710</th>\n",
              "      <td>TRTMWUS128F425D9AF</td>\n",
              "      <td>Pop</td>\n",
              "      <td>8309</td>\n",
              "      <td>test</td>\n",
              "      <td>ARY2W5X1187FB3CB7A</td>\n",
              "      <td>http://artwork-cdn.7static.com/static/img/slee...</td>\n",
              "      <td>img/0000150164_200.jpg</td>\n",
              "      <td>mfcc/mfcc_T.npz</td>\n",
              "      <td>4646</td>\n",
              "    </tr>\n",
              "    <tr>\n",
              "      <th>30711</th>\n",
              "      <td>TRSBAKM128F931C033</td>\n",
              "      <td>Rap</td>\n",
              "      <td>16326</td>\n",
              "      <td>test</td>\n",
              "      <td>ARY47DB1187B9A801C</td>\n",
              "      <td>http://artwork-cdn.7static.com/static/img/slee...</td>\n",
              "      <td>img/0001059105_200.jpg</td>\n",
              "      <td>mfcc/mfcc_S.npz</td>\n",
              "      <td>4647</td>\n",
              "    </tr>\n",
              "    <tr>\n",
              "      <th>30712</th>\n",
              "      <td>TRUEMYW128F1469730</td>\n",
              "      <td>Pop</td>\n",
              "      <td>17257</td>\n",
              "      <td>test</td>\n",
              "      <td>ARWDMIN1187FB3FE13</td>\n",
              "      <td>http://artwork-cdn.7static.com/static/img/slee...</td>\n",
              "      <td>img/0000028823_200.jpg</td>\n",
              "      <td>mfcc/mfcc_U.npz</td>\n",
              "      <td>4648</td>\n",
              "    </tr>\n",
              "  </tbody>\n",
              "</table>\n",
              "<p>30712 rows × 9 columns</p>\n",
              "</div>\n",
              "      <button class=\"colab-df-convert\" onclick=\"convertToInteractive('df-302d337e-e530-4f43-90f6-605bd409aab9')\"\n",
              "              title=\"Convert this dataframe to an interactive table.\"\n",
              "              style=\"display:none;\">\n",
              "        \n",
              "  <svg xmlns=\"http://www.w3.org/2000/svg\" height=\"24px\"viewBox=\"0 0 24 24\"\n",
              "       width=\"24px\">\n",
              "    <path d=\"M0 0h24v24H0V0z\" fill=\"none\"/>\n",
              "    <path d=\"M18.56 5.44l.94 2.06.94-2.06 2.06-.94-2.06-.94-.94-2.06-.94 2.06-2.06.94zm-11 1L8.5 8.5l.94-2.06 2.06-.94-2.06-.94L8.5 2.5l-.94 2.06-2.06.94zm10 10l.94 2.06.94-2.06 2.06-.94-2.06-.94-.94-2.06-.94 2.06-2.06.94z\"/><path d=\"M17.41 7.96l-1.37-1.37c-.4-.4-.92-.59-1.43-.59-.52 0-1.04.2-1.43.59L10.3 9.45l-7.72 7.72c-.78.78-.78 2.05 0 2.83L4 21.41c.39.39.9.59 1.41.59.51 0 1.02-.2 1.41-.59l7.78-7.78 2.81-2.81c.8-.78.8-2.07 0-2.86zM5.41 20L4 18.59l7.72-7.72 1.47 1.35L5.41 20z\"/>\n",
              "  </svg>\n",
              "      </button>\n",
              "      \n",
              "  <style>\n",
              "    .colab-df-container {\n",
              "      display:flex;\n",
              "      flex-wrap:wrap;\n",
              "      gap: 12px;\n",
              "    }\n",
              "\n",
              "    .colab-df-convert {\n",
              "      background-color: #E8F0FE;\n",
              "      border: none;\n",
              "      border-radius: 50%;\n",
              "      cursor: pointer;\n",
              "      display: none;\n",
              "      fill: #1967D2;\n",
              "      height: 32px;\n",
              "      padding: 0 0 0 0;\n",
              "      width: 32px;\n",
              "    }\n",
              "\n",
              "    .colab-df-convert:hover {\n",
              "      background-color: #E2EBFA;\n",
              "      box-shadow: 0px 1px 2px rgba(60, 64, 67, 0.3), 0px 1px 3px 1px rgba(60, 64, 67, 0.15);\n",
              "      fill: #174EA6;\n",
              "    }\n",
              "\n",
              "    [theme=dark] .colab-df-convert {\n",
              "      background-color: #3B4455;\n",
              "      fill: #D2E3FC;\n",
              "    }\n",
              "\n",
              "    [theme=dark] .colab-df-convert:hover {\n",
              "      background-color: #434B5C;\n",
              "      box-shadow: 0px 1px 3px 1px rgba(0, 0, 0, 0.15);\n",
              "      filter: drop-shadow(0px 1px 2px rgba(0, 0, 0, 0.3));\n",
              "      fill: #FFFFFF;\n",
              "    }\n",
              "  </style>\n",
              "\n",
              "      <script>\n",
              "        const buttonEl =\n",
              "          document.querySelector('#df-302d337e-e530-4f43-90f6-605bd409aab9 button.colab-df-convert');\n",
              "        buttonEl.style.display =\n",
              "          google.colab.kernel.accessAllowed ? 'block' : 'none';\n",
              "\n",
              "        async function convertToInteractive(key) {\n",
              "          const element = document.querySelector('#df-302d337e-e530-4f43-90f6-605bd409aab9');\n",
              "          const dataTable =\n",
              "            await google.colab.kernel.invokeFunction('convertToInteractive',\n",
              "                                                     [key], {});\n",
              "          if (!dataTable) return;\n",
              "\n",
              "          const docLinkHtml = 'Like what you see? Visit the ' +\n",
              "            '<a target=\"_blank\" href=https://colab.research.google.com/notebooks/data_table.ipynb>data table notebook</a>'\n",
              "            + ' to learn more about interactive tables.';\n",
              "          element.innerHTML = '';\n",
              "          dataTable['output_type'] = 'display_data';\n",
              "          await google.colab.output.renderOutput(dataTable, element);\n",
              "          const docLink = document.createElement('div');\n",
              "          docLink.innerHTML = docLinkHtml;\n",
              "          element.appendChild(docLink);\n",
              "        }\n",
              "      </script>\n",
              "    </div>\n",
              "  </div>\n",
              "  "
            ],
            "text/plain": [
              "             msd_track_id  genre  ...             mfcc deep_features\n",
              "Index                             ...                               \n",
              "0      TRABKJU128F422A7FE  Metal  ...  mfcc/mfcc_A.npz             0\n",
              "1      TRBLDQQ128F92E58B4   Rock  ...  mfcc/mfcc_B.npz             1\n",
              "2      TRDMMDE128F14A9052   Rock  ...  mfcc/mfcc_D.npz             2\n",
              "3      TRJOPZB128F4250E02   Rock  ...  mfcc/mfcc_J.npz             3\n",
              "4      TRJKBVL128F935567B   Rock  ...  mfcc/mfcc_J.npz             4\n",
              "...                   ...    ...  ...              ...           ...\n",
              "30708  TRJRMVM128F4259C12   Punk  ...  mfcc/mfcc_J.npz          4644\n",
              "30709  TRJUGOK128F4243DA6    Pop  ...  mfcc/mfcc_J.npz          4645\n",
              "30710  TRTMWUS128F425D9AF    Pop  ...  mfcc/mfcc_T.npz          4646\n",
              "30711  TRSBAKM128F931C033    Rap  ...  mfcc/mfcc_S.npz          4647\n",
              "30712  TRUEMYW128F1469730    Pop  ...  mfcc/mfcc_U.npz          4648\n",
              "\n",
              "[30712 rows x 9 columns]"
            ]
          },
          "metadata": {},
          "execution_count": 119
        }
      ]
    },
    {
      "cell_type": "markdown",
      "source": [
        "###### Création des données d'entraînements et de test\n",
        "Données d'entraînements : 21 383 morceaux </br>\n",
        "Données de test : 4649 morceaux"
      ],
      "metadata": {
        "id": "feuGRdWd0HR0"
      }
    },
    {
      "cell_type": "code",
      "source": [
        "# Fonction qui arrange un dataframe associé à nos données d'entraînement\n",
        "def create_set_dataframe(my_data):\n",
        "  df_set = pd.DataFrame(my_data)\n",
        "  df_set.columns = [\"Genre\", \"Set\", \"Descripteur\"]\n",
        "  return df_set"
      ],
      "metadata": {
        "id": "M1DTlNzo9LPC"
      },
      "execution_count": null,
      "outputs": []
    },
    {
      "cell_type": "code",
      "source": [
        "# Fonction qui stocke les vecteurs descripteurs des données d'entraînement et de test\n",
        "# dans un fichier contenant la matrice m × d des caractéristiques de taille d pour les m morceaux\n",
        "\n",
        "# TODO : mettre à jour cette fonction pour avoir un stocker au bon endroit\n",
        "\n",
        "def stock_descriptors(df_set):\n",
        "  set_name = df_set['Set'][0]\n",
        "  matrice = []\n",
        "  for row in df_set['Descripteur']:\n",
        "    matrice.append(row)\n",
        "  matrice = np.array(matrice)\n",
        "  matrice_df = pd.DataFrame(matrice)\n",
        "  name = 'descripteurs_audio_' + set_name + '.csv'\n",
        "  matrice_df.to_csv(name, index=False)"
      ],
      "metadata": {
        "id": "ET1a5THx9srd"
      },
      "execution_count": null,
      "outputs": []
    },
    {
      "cell_type": "code",
      "source": [
        "################ NE RELANCER QUE POUR AUGMENTER LE NOMBRE D'EXEMPLES ################\n",
        "\n",
        "msdi_path = '/content/drive/MyDrive/Colab Notebooks/Temps2/SAM/Projet/data/msdi/'\n",
        "\n",
        "# Créer le dataframe de train et le stocke\n",
        "samples_number_train = 100\n",
        "train_set = 'train'\n",
        "my_data_train = read_files(msdi_path, train_set, samples_number_train)\n",
        "df_train = create_set_dataframe(my_data_train)\n",
        "stock_descriptors(df_train)\n",
        "\n",
        "# Créer le dataframe de test et le stocke\n",
        "samples_number_test = 10\n",
        "test_set = 'test'\n",
        "my_data_test = read_files(msdi_path, test_set, samples_number_test)\n",
        "df_test = create_set_dataframe(my_data_test)\n",
        "stock_descriptors(df_test)"
      ],
      "metadata": {
        "colab": {
          "base_uri": "https://localhost:8080/",
          "height": 375
        },
        "id": "s-pTL6h_c_1b",
        "outputId": "c01bb5b1-34af-47de-f4a0-f09a323aba15"
      },
      "execution_count": null,
      "outputs": [
        {
          "output_type": "error",
          "ename": "KeyboardInterrupt",
          "evalue": "ignored",
          "traceback": [
            "\u001b[0;31m---------------------------------------------------------------------------\u001b[0m",
            "\u001b[0;31mKeyboardInterrupt\u001b[0m                         Traceback (most recent call last)",
            "\u001b[0;32m<ipython-input-15-eda508c13675>\u001b[0m in \u001b[0;36m<module>\u001b[0;34m()\u001b[0m\n\u001b[1;32m      6\u001b[0m \u001b[0msamples_number_train\u001b[0m \u001b[0;34m=\u001b[0m \u001b[0;36m100\u001b[0m\u001b[0;34m\u001b[0m\u001b[0;34m\u001b[0m\u001b[0m\n\u001b[1;32m      7\u001b[0m \u001b[0mtrain_set\u001b[0m \u001b[0;34m=\u001b[0m \u001b[0;34m'train'\u001b[0m\u001b[0;34m\u001b[0m\u001b[0;34m\u001b[0m\u001b[0m\n\u001b[0;32m----> 8\u001b[0;31m \u001b[0mmy_data_train\u001b[0m \u001b[0;34m=\u001b[0m \u001b[0mread_files\u001b[0m\u001b[0;34m(\u001b[0m\u001b[0mmsdi_path\u001b[0m\u001b[0;34m,\u001b[0m \u001b[0mtrain_set\u001b[0m\u001b[0;34m,\u001b[0m \u001b[0msamples_number_train\u001b[0m\u001b[0;34m)\u001b[0m\u001b[0;34m\u001b[0m\u001b[0;34m\u001b[0m\u001b[0m\n\u001b[0m\u001b[1;32m      9\u001b[0m \u001b[0mdf_train\u001b[0m \u001b[0;34m=\u001b[0m \u001b[0mcreate_set_dataframe\u001b[0m\u001b[0;34m(\u001b[0m\u001b[0mmy_data_train\u001b[0m\u001b[0;34m)\u001b[0m\u001b[0;34m\u001b[0m\u001b[0;34m\u001b[0m\u001b[0m\n\u001b[1;32m     10\u001b[0m \u001b[0mstock_descriptors\u001b[0m\u001b[0;34m(\u001b[0m\u001b[0mdf_train\u001b[0m\u001b[0;34m)\u001b[0m\u001b[0;34m\u001b[0m\u001b[0;34m\u001b[0m\u001b[0m\n",
            "\u001b[0;32m<ipython-input-11-2bac8fc8fe65>\u001b[0m in \u001b[0;36mread_files\u001b[0;34m(msdi_path, my_set, samples_number)\u001b[0m\n\u001b[1;32m      9\u001b[0m       \u001b[0mgenre\u001b[0m \u001b[0;34m=\u001b[0m \u001b[0mentry\u001b[0m\u001b[0;34m[\u001b[0m\u001b[0;34m'genre'\u001b[0m\u001b[0;34m]\u001b[0m\u001b[0;34m\u001b[0m\u001b[0;34m\u001b[0m\u001b[0m\n\u001b[1;32m     10\u001b[0m       \u001b[0mtrain_test_set\u001b[0m \u001b[0;34m=\u001b[0m \u001b[0mentry\u001b[0m\u001b[0;34m[\u001b[0m\u001b[0;34m'set'\u001b[0m\u001b[0;34m]\u001b[0m\u001b[0;34m\u001b[0m\u001b[0;34m\u001b[0m\u001b[0m\n\u001b[0;32m---> 11\u001b[0;31m       \u001b[0mmfcc_matrix\u001b[0m \u001b[0;34m=\u001b[0m \u001b[0mload_mfcc\u001b[0m\u001b[0;34m(\u001b[0m\u001b[0mentry\u001b[0m\u001b[0;34m,\u001b[0m \u001b[0mmsdi_path\u001b[0m\u001b[0;34m)\u001b[0m\u001b[0;34m\u001b[0m\u001b[0;34m\u001b[0m\u001b[0m\n\u001b[0m\u001b[1;32m     12\u001b[0m       \u001b[0mdescriptors_matrix\u001b[0m \u001b[0;34m=\u001b[0m \u001b[0madd_deltas\u001b[0m\u001b[0;34m(\u001b[0m\u001b[0mmfcc_matrix\u001b[0m\u001b[0;34m)\u001b[0m\u001b[0;34m\u001b[0m\u001b[0;34m\u001b[0m\u001b[0m\n\u001b[1;32m     13\u001b[0m       \u001b[0msample_descriptor\u001b[0m \u001b[0;34m=\u001b[0m \u001b[0maggregate_features\u001b[0m\u001b[0;34m(\u001b[0m\u001b[0mdescriptors_matrix\u001b[0m\u001b[0;34m)\u001b[0m\u001b[0;34m\u001b[0m\u001b[0;34m\u001b[0m\u001b[0m\n",
            "\u001b[0;32m<ipython-input-8-10a396659998>\u001b[0m in \u001b[0;36mload_mfcc\u001b[0;34m(entry, msdi_path)\u001b[0m\n\u001b[1;32m      2\u001b[0m \u001b[0;31m# à partir d'une ligne (entry) du fichier principal : msdi_mapping.csv\u001b[0m\u001b[0;34m\u001b[0m\u001b[0;34m\u001b[0m\u001b[0;34m\u001b[0m\u001b[0m\n\u001b[1;32m      3\u001b[0m \u001b[0;32mdef\u001b[0m \u001b[0mload_mfcc\u001b[0m\u001b[0;34m(\u001b[0m\u001b[0mentry\u001b[0m\u001b[0;34m,\u001b[0m \u001b[0mmsdi_path\u001b[0m\u001b[0;34m)\u001b[0m\u001b[0;34m:\u001b[0m\u001b[0;34m\u001b[0m\u001b[0;34m\u001b[0m\u001b[0m\n\u001b[0;32m----> 4\u001b[0;31m     \u001b[0mx\u001b[0m \u001b[0;34m=\u001b[0m \u001b[0mnp\u001b[0m\u001b[0;34m.\u001b[0m\u001b[0mload\u001b[0m\u001b[0;34m(\u001b[0m\u001b[0mPath\u001b[0m\u001b[0;34m(\u001b[0m\u001b[0mmsdi_path\u001b[0m\u001b[0;34m)\u001b[0m \u001b[0;34m/\u001b[0m \u001b[0mentry\u001b[0m\u001b[0;34m[\u001b[0m\u001b[0;34m'mfcc'\u001b[0m\u001b[0;34m]\u001b[0m\u001b[0;34m)\u001b[0m\u001b[0;34m\u001b[0m\u001b[0;34m\u001b[0m\u001b[0m\n\u001b[0m\u001b[1;32m      5\u001b[0m     \u001b[0mmfcc_matrix\u001b[0m \u001b[0;34m=\u001b[0m \u001b[0mx\u001b[0m\u001b[0;34m[\u001b[0m\u001b[0mentry\u001b[0m\u001b[0;34m[\u001b[0m\u001b[0;34m'msd_track_id'\u001b[0m\u001b[0;34m]\u001b[0m\u001b[0;34m]\u001b[0m\u001b[0;34m\u001b[0m\u001b[0;34m\u001b[0m\u001b[0m\n\u001b[1;32m      6\u001b[0m     \u001b[0;32mreturn\u001b[0m \u001b[0mmfcc_matrix\u001b[0m\u001b[0;34m\u001b[0m\u001b[0;34m\u001b[0m\u001b[0m\n",
            "\u001b[0;32m/usr/local/lib/python3.7/dist-packages/numpy/lib/npyio.py\u001b[0m in \u001b[0;36mload\u001b[0;34m(file, mmap_mode, allow_pickle, fix_imports, encoding)\u001b[0m\n\u001b[1;32m    430\u001b[0m             \u001b[0mstack\u001b[0m\u001b[0;34m.\u001b[0m\u001b[0mpop_all\u001b[0m\u001b[0;34m(\u001b[0m\u001b[0;34m)\u001b[0m\u001b[0;34m\u001b[0m\u001b[0;34m\u001b[0m\u001b[0m\n\u001b[1;32m    431\u001b[0m             ret = NpzFile(fid, own_fid=own_fid, allow_pickle=allow_pickle,\n\u001b[0;32m--> 432\u001b[0;31m                           pickle_kwargs=pickle_kwargs)\n\u001b[0m\u001b[1;32m    433\u001b[0m             \u001b[0;32mreturn\u001b[0m \u001b[0mret\u001b[0m\u001b[0;34m\u001b[0m\u001b[0;34m\u001b[0m\u001b[0m\n\u001b[1;32m    434\u001b[0m         \u001b[0;32melif\u001b[0m \u001b[0mmagic\u001b[0m \u001b[0;34m==\u001b[0m \u001b[0mformat\u001b[0m\u001b[0;34m.\u001b[0m\u001b[0mMAGIC_PREFIX\u001b[0m\u001b[0;34m:\u001b[0m\u001b[0;34m\u001b[0m\u001b[0;34m\u001b[0m\u001b[0m\n",
            "\u001b[0;32m/usr/local/lib/python3.7/dist-packages/numpy/lib/npyio.py\u001b[0m in \u001b[0;36m__init__\u001b[0;34m(self, fid, own_fid, allow_pickle, pickle_kwargs)\u001b[0m\n\u001b[1;32m    184\u001b[0m         \u001b[0;31m# Import is postponed to here since zipfile depends on gzip, an\u001b[0m\u001b[0;34m\u001b[0m\u001b[0;34m\u001b[0m\u001b[0;34m\u001b[0m\u001b[0m\n\u001b[1;32m    185\u001b[0m         \u001b[0;31m# optional component of the so-called standard library.\u001b[0m\u001b[0;34m\u001b[0m\u001b[0;34m\u001b[0m\u001b[0;34m\u001b[0m\u001b[0m\n\u001b[0;32m--> 186\u001b[0;31m         \u001b[0m_zip\u001b[0m \u001b[0;34m=\u001b[0m \u001b[0mzipfile_factory\u001b[0m\u001b[0;34m(\u001b[0m\u001b[0mfid\u001b[0m\u001b[0;34m)\u001b[0m\u001b[0;34m\u001b[0m\u001b[0;34m\u001b[0m\u001b[0m\n\u001b[0m\u001b[1;32m    187\u001b[0m         \u001b[0mself\u001b[0m\u001b[0;34m.\u001b[0m\u001b[0m_files\u001b[0m \u001b[0;34m=\u001b[0m \u001b[0m_zip\u001b[0m\u001b[0;34m.\u001b[0m\u001b[0mnamelist\u001b[0m\u001b[0;34m(\u001b[0m\u001b[0;34m)\u001b[0m\u001b[0;34m\u001b[0m\u001b[0;34m\u001b[0m\u001b[0m\n\u001b[1;32m    188\u001b[0m         \u001b[0mself\u001b[0m\u001b[0;34m.\u001b[0m\u001b[0mfiles\u001b[0m \u001b[0;34m=\u001b[0m \u001b[0;34m[\u001b[0m\u001b[0;34m]\u001b[0m\u001b[0;34m\u001b[0m\u001b[0;34m\u001b[0m\u001b[0m\n",
            "\u001b[0;32m/usr/local/lib/python3.7/dist-packages/numpy/lib/npyio.py\u001b[0m in \u001b[0;36mzipfile_factory\u001b[0;34m(file, *args, **kwargs)\u001b[0m\n\u001b[1;32m    110\u001b[0m     \u001b[0;32mimport\u001b[0m \u001b[0mzipfile\u001b[0m\u001b[0;34m\u001b[0m\u001b[0;34m\u001b[0m\u001b[0m\n\u001b[1;32m    111\u001b[0m     \u001b[0mkwargs\u001b[0m\u001b[0;34m[\u001b[0m\u001b[0;34m'allowZip64'\u001b[0m\u001b[0;34m]\u001b[0m \u001b[0;34m=\u001b[0m \u001b[0;32mTrue\u001b[0m\u001b[0;34m\u001b[0m\u001b[0;34m\u001b[0m\u001b[0m\n\u001b[0;32m--> 112\u001b[0;31m     \u001b[0;32mreturn\u001b[0m \u001b[0mzipfile\u001b[0m\u001b[0;34m.\u001b[0m\u001b[0mZipFile\u001b[0m\u001b[0;34m(\u001b[0m\u001b[0mfile\u001b[0m\u001b[0;34m,\u001b[0m \u001b[0;34m*\u001b[0m\u001b[0margs\u001b[0m\u001b[0;34m,\u001b[0m \u001b[0;34m**\u001b[0m\u001b[0mkwargs\u001b[0m\u001b[0;34m)\u001b[0m\u001b[0;34m\u001b[0m\u001b[0;34m\u001b[0m\u001b[0m\n\u001b[0m\u001b[1;32m    113\u001b[0m \u001b[0;34m\u001b[0m\u001b[0m\n\u001b[1;32m    114\u001b[0m \u001b[0;34m\u001b[0m\u001b[0m\n",
            "\u001b[0;32m/usr/lib/python3.7/zipfile.py\u001b[0m in \u001b[0;36m__init__\u001b[0;34m(self, file, mode, compression, allowZip64, compresslevel)\u001b[0m\n\u001b[1;32m   1256\u001b[0m         \u001b[0;32mtry\u001b[0m\u001b[0;34m:\u001b[0m\u001b[0;34m\u001b[0m\u001b[0;34m\u001b[0m\u001b[0m\n\u001b[1;32m   1257\u001b[0m             \u001b[0;32mif\u001b[0m \u001b[0mmode\u001b[0m \u001b[0;34m==\u001b[0m \u001b[0;34m'r'\u001b[0m\u001b[0;34m:\u001b[0m\u001b[0;34m\u001b[0m\u001b[0;34m\u001b[0m\u001b[0m\n\u001b[0;32m-> 1258\u001b[0;31m                 \u001b[0mself\u001b[0m\u001b[0;34m.\u001b[0m\u001b[0m_RealGetContents\u001b[0m\u001b[0;34m(\u001b[0m\u001b[0;34m)\u001b[0m\u001b[0;34m\u001b[0m\u001b[0;34m\u001b[0m\u001b[0m\n\u001b[0m\u001b[1;32m   1259\u001b[0m             \u001b[0;32melif\u001b[0m \u001b[0mmode\u001b[0m \u001b[0;32min\u001b[0m \u001b[0;34m(\u001b[0m\u001b[0;34m'w'\u001b[0m\u001b[0;34m,\u001b[0m \u001b[0;34m'x'\u001b[0m\u001b[0;34m)\u001b[0m\u001b[0;34m:\u001b[0m\u001b[0;34m\u001b[0m\u001b[0;34m\u001b[0m\u001b[0m\n\u001b[1;32m   1260\u001b[0m                 \u001b[0;31m# set the modified flag so central directory gets written\u001b[0m\u001b[0;34m\u001b[0m\u001b[0;34m\u001b[0m\u001b[0;34m\u001b[0m\u001b[0m\n",
            "\u001b[0;32m/usr/lib/python3.7/zipfile.py\u001b[0m in \u001b[0;36m_RealGetContents\u001b[0;34m(self)\u001b[0m\n\u001b[1;32m   1319\u001b[0m         \u001b[0mfp\u001b[0m \u001b[0;34m=\u001b[0m \u001b[0mself\u001b[0m\u001b[0;34m.\u001b[0m\u001b[0mfp\u001b[0m\u001b[0;34m\u001b[0m\u001b[0;34m\u001b[0m\u001b[0m\n\u001b[1;32m   1320\u001b[0m         \u001b[0;32mtry\u001b[0m\u001b[0;34m:\u001b[0m\u001b[0;34m\u001b[0m\u001b[0;34m\u001b[0m\u001b[0m\n\u001b[0;32m-> 1321\u001b[0;31m             \u001b[0mendrec\u001b[0m \u001b[0;34m=\u001b[0m \u001b[0m_EndRecData\u001b[0m\u001b[0;34m(\u001b[0m\u001b[0mfp\u001b[0m\u001b[0;34m)\u001b[0m\u001b[0;34m\u001b[0m\u001b[0;34m\u001b[0m\u001b[0m\n\u001b[0m\u001b[1;32m   1322\u001b[0m         \u001b[0;32mexcept\u001b[0m \u001b[0mOSError\u001b[0m\u001b[0;34m:\u001b[0m\u001b[0;34m\u001b[0m\u001b[0;34m\u001b[0m\u001b[0m\n\u001b[1;32m   1323\u001b[0m             \u001b[0;32mraise\u001b[0m \u001b[0mBadZipFile\u001b[0m\u001b[0;34m(\u001b[0m\u001b[0;34m\"File is not a zip file\"\u001b[0m\u001b[0;34m)\u001b[0m\u001b[0;34m\u001b[0m\u001b[0;34m\u001b[0m\u001b[0m\n",
            "\u001b[0;32m/usr/lib/python3.7/zipfile.py\u001b[0m in \u001b[0;36m_EndRecData\u001b[0;34m(fpin)\u001b[0m\n\u001b[1;32m    267\u001b[0m     \u001b[0;32mexcept\u001b[0m \u001b[0mOSError\u001b[0m\u001b[0;34m:\u001b[0m\u001b[0;34m\u001b[0m\u001b[0;34m\u001b[0m\u001b[0m\n\u001b[1;32m    268\u001b[0m         \u001b[0;32mreturn\u001b[0m \u001b[0;32mNone\u001b[0m\u001b[0;34m\u001b[0m\u001b[0;34m\u001b[0m\u001b[0m\n\u001b[0;32m--> 269\u001b[0;31m     \u001b[0mdata\u001b[0m \u001b[0;34m=\u001b[0m \u001b[0mfpin\u001b[0m\u001b[0;34m.\u001b[0m\u001b[0mread\u001b[0m\u001b[0;34m(\u001b[0m\u001b[0;34m)\u001b[0m\u001b[0;34m\u001b[0m\u001b[0;34m\u001b[0m\u001b[0m\n\u001b[0m\u001b[1;32m    270\u001b[0m     if (len(data) == sizeEndCentDir and\n\u001b[1;32m    271\u001b[0m         \u001b[0mdata\u001b[0m\u001b[0;34m[\u001b[0m\u001b[0;36m0\u001b[0m\u001b[0;34m:\u001b[0m\u001b[0;36m4\u001b[0m\u001b[0;34m]\u001b[0m \u001b[0;34m==\u001b[0m \u001b[0mstringEndArchive\u001b[0m \u001b[0;32mand\u001b[0m\u001b[0;34m\u001b[0m\u001b[0;34m\u001b[0m\u001b[0m\n",
            "\u001b[0;31mKeyboardInterrupt\u001b[0m: "
          ]
        }
      ]
    },
    {
      "cell_type": "markdown",
      "source": [
        "###### Construction d'un classifieur qui prédit le genre"
      ],
      "metadata": {
        "id": "Mluj6MHYVEN5"
      }
    },
    {
      "cell_type": "code",
      "source": [
        "# Chargement des données d'apprentissage et de test\n",
        "## Descripteurs\n",
        "descripteurs_train = pd.read_csv(\"descripteurs_audio_train.csv\")\n",
        "X_train = descripteurs_train.to_numpy()\n",
        "\n",
        "descripteurs_test = pd.read_csv(\"descripteurs_audio_test.csv\")\n",
        "X_test = descripteurs_test.to_numpy()\n",
        "\n",
        "## Labels\n",
        "labels_train = df_train['Genre'].iloc[:1000].to_numpy()\n",
        "labels_test = df_test['Genre'].iloc[:100].to_numpy()\n",
        "labelEncoder = LabelEncoder()\n",
        "y_train = labelEncoder.fit_transform(labels_train)\n",
        "y_test = labelEncoder.transform(labels_test)"
      ],
      "metadata": {
        "id": "7jnziIskVHZ8"
      },
      "execution_count": null,
      "outputs": []
    },
    {
      "cell_type": "code",
      "source": [
        "# Normalisation des vecteurs descripteurs\n",
        "scaler = StandardScaler(copy=False)\n",
        "X_train_scaled = scaler.fit_transform(X_train)\n",
        "X_test_scaled = scaler.transform(X_test)"
      ],
      "metadata": {
        "id": "gAvgtC_puWpm"
      },
      "execution_count": null,
      "outputs": []
    },
    {
      "cell_type": "code",
      "source": [
        "# Création du modèle avec le classifieur \"LogisticRegression\" de scikit-learn\n",
        "clf = LogisticRegression(max_iter=500)\n",
        "# Entraînement du modèle\n",
        "clf.fit(X_train_scaled, y_train)"
      ],
      "metadata": {
        "colab": {
          "base_uri": "https://localhost:8080/"
        },
        "id": "Dqk3s2M9vku9",
        "outputId": "86a0d142-11c5-4ade-a5b4-880ed0375eb9"
      },
      "execution_count": null,
      "outputs": [
        {
          "output_type": "execute_result",
          "data": {
            "text/plain": [
              "LogisticRegression(max_iter=500)"
            ]
          },
          "metadata": {},
          "execution_count": 45
        }
      ]
    },
    {
      "cell_type": "markdown",
      "source": [
        "###### Évaluation des performances du classifieurs"
      ],
      "metadata": {
        "id": "qAEd5Fr3VEgW"
      }
    },
    {
      "cell_type": "code",
      "source": [
        "# Prédictions sur les donnés de test\n",
        "predictions = clf.predict(X_test_scaled)\n",
        "predictions"
      ],
      "metadata": {
        "id": "LJondc-HVOQB",
        "colab": {
          "base_uri": "https://localhost:8080/"
        },
        "outputId": "7e48c383-1c86-4f4a-e8cf-b429d224f179"
      },
      "execution_count": null,
      "outputs": [
        {
          "output_type": "execute_result",
          "data": {
            "text/plain": [
              "array([12, 12,  2,  1,  6,  4, 12, 12, 12, 12,  2, 12, 12, 12,  6, 12, 12,\n",
              "       12,  6,  7, 12, 12, 12, 12, 12, 12,  2, 12, 12, 10,  7,  6,  9,  6,\n",
              "        9, 12, 12, 12, 12, 12, 12,  4, 12, 12, 12, 12, 12, 12, 12, 12, 12,\n",
              "       12, 12, 12,  7, 12, 12, 12, 12, 12, 12, 12, 10, 12, 12, 12, 12, 12,\n",
              "       12, 12, 12, 12, 12, 12, 12, 12, 12, 12, 12, 12, 12, 10, 12, 12,  4,\n",
              "       12, 12, 12, 12, 10,  0,  9, 12, 12, 12, 12, 12,  6, 12, 10])"
            ]
          },
          "metadata": {},
          "execution_count": 46
        }
      ]
    },
    {
      "cell_type": "code",
      "source": [
        "# Donne la precision du modele\n",
        "accuracy = clf.score(X_test, y_test)\n",
        "print(\"La performance du modèle est de : \", 100*accuracy, \" %\")"
      ],
      "metadata": {
        "colab": {
          "base_uri": "https://localhost:8080/"
        },
        "id": "NOvfxCmav5n5",
        "outputId": "cd721b35-e23c-4c93-cef2-0c8b5cf2cc1d"
      },
      "execution_count": null,
      "outputs": [
        {
          "output_type": "stream",
          "name": "stdout",
          "text": [
            "La performance du modèle est de :  55.00000000000001  %\n"
          ]
        }
      ]
    },
    {
      "cell_type": "markdown",
      "source": [
        "###### Exemples mal classés"
      ],
      "metadata": {
        "id": "rmT1qPmaVOk4"
      }
    },
    {
      "cell_type": "markdown",
      "source": [
        "*Exhibition*"
      ],
      "metadata": {
        "id": "zKFXIdLa2A2R"
      }
    },
    {
      "cell_type": "code",
      "source": [
        "# Affiche les différences entre prédiction et vrai labels\n",
        "named_predictions = labelEncoder.inverse_transform(predictions)\n",
        "named_true_labels = labelEncoder.inverse_transform(y_test)\n",
        "print(\"Les prédictions sont : \\n-------------------------- \\n\", named_predictions, \"\\n\\n\")\n",
        "print(\"Les réels labels étaient : \\n-------------------------- \\n\", named_true_labels)"
      ],
      "metadata": {
        "id": "dBQnk2XpVRfZ",
        "colab": {
          "base_uri": "https://localhost:8080/"
        },
        "outputId": "20ecf8ab-adb2-42cc-c5b4-2cacd55b3e05"
      },
      "execution_count": null,
      "outputs": [
        {
          "output_type": "stream",
          "name": "stdout",
          "text": [
            "Les prédictions sont : \n",
            "-------------------------- \n",
            " ['Rock' 'Rock' 'Electronic' 'Country' 'Metal' 'Jazz' 'Rock' 'Rock' 'Rock'\n",
            " 'Rock' 'Electronic' 'Rock' 'Rock' 'Rock' 'Metal' 'Rock' 'Rock' 'Rock'\n",
            " 'Metal' 'Pop' 'Rock' 'Rock' 'Rock' 'Rock' 'Rock' 'Rock' 'Electronic'\n",
            " 'Rock' 'Rock' 'Reggae' 'Pop' 'Metal' 'Rap' 'Metal' 'Rap' 'Rock' 'Rock'\n",
            " 'Rock' 'Rock' 'Rock' 'Rock' 'Jazz' 'Rock' 'Rock' 'Rock' 'Rock' 'Rock'\n",
            " 'Rock' 'Rock' 'Rock' 'Rock' 'Rock' 'Rock' 'Rock' 'Pop' 'Rock' 'Rock'\n",
            " 'Rock' 'Rock' 'Rock' 'Rock' 'Rock' 'Reggae' 'Rock' 'Rock' 'Rock' 'Rock'\n",
            " 'Rock' 'Rock' 'Rock' 'Rock' 'Rock' 'Rock' 'Rock' 'Rock' 'Rock' 'Rock'\n",
            " 'Rock' 'Rock' 'Rock' 'Rock' 'Reggae' 'Rock' 'Rock' 'Jazz' 'Rock' 'Rock'\n",
            " 'Rock' 'Rock' 'Reggae' 'Blues' 'Rap' 'Rock' 'Rock' 'Rock' 'Rock' 'Rock'\n",
            " 'Metal' 'Rock' 'Reggae'] \n",
            "\n",
            "\n",
            "Les réels labels étaient : \n",
            "-------------------------- \n",
            " ['Electronic' 'Pop' 'Electronic' 'Latin' 'Rock' 'Pop' 'Rock' 'Rock' 'Rock'\n",
            " 'Rock' 'Electronic' 'Rock' 'Rock' 'Rock' 'Metal' 'Blues' 'Rock' 'Rock'\n",
            " 'Rock' 'Electronic' 'Rock' 'Rock' 'RnB' 'Rock' 'Country' 'Rock' 'Jazz'\n",
            " 'Rock' 'Rock' 'Reggae' 'Pop' 'Metal' 'Rap' 'Metal' 'Electronic' 'Rock'\n",
            " 'Country' 'RnB' 'Pop' 'Electronic' 'Punk' 'Electronic' 'Rock' 'Rock'\n",
            " 'Electronic' 'Rock' 'RnB' 'Rock' 'Rock' 'Pop' 'World' 'Rock' 'Rock'\n",
            " 'Rock' 'Rock' 'Rock' 'Rock' 'Rock' 'Jazz' 'Rock' 'Folk' 'Rock' 'Rap'\n",
            " 'Folk' 'Rock' 'Rock' 'Rock' 'Rock' 'Rock' 'Electronic' 'Pop' 'Country'\n",
            " 'Rock' 'Rock' 'Jazz' 'Folk' 'Rock' 'Pop' 'Reggae' 'World' 'RnB' 'Blues'\n",
            " 'Rock' 'Blues' 'Electronic' 'Rock' 'Rock' 'Rock' 'Rock' 'Rap' 'Pop'\n",
            " 'Rock' 'Rock' 'Rock' 'Rock' 'Metal' 'Rock' 'Rock' 'Rock' 'RnB']\n"
          ]
        }
      ]
    },
    {
      "cell_type": "code",
      "source": [
        "# Affiche les exemples mals classés\n",
        "print(\"Les exemples mal-classés dans les données test sont les exemples suivants :\")\n",
        "difference = np.subtract(predictions, y_test)\n",
        "liste = []\n",
        "for i,label in enumerate(difference):\n",
        "  if label != 0:\n",
        "    liste.append(i+1)\n",
        "print(liste)"
      ],
      "metadata": {
        "colab": {
          "base_uri": "https://localhost:8080/"
        },
        "id": "66yqFi0v1gSb",
        "outputId": "734b2266-d1cc-4790-c14a-a1bd3ef7d570"
      },
      "execution_count": null,
      "outputs": [
        {
          "output_type": "stream",
          "name": "stdout",
          "text": [
            "Les exemples mal-classés dans les données test sont les exemples suivants :\n",
            "[1, 2, 4, 5, 6, 16, 19, 20, 23, 25, 27, 35, 37, 38, 39, 40, 41, 42, 45, 47, 50, 51, 55, 59, 61, 63, 64, 70, 71, 72, 75, 76, 78, 79, 80, 81, 82, 84, 85, 90, 91, 92, 96, 98, 100]\n"
          ]
        }
      ]
    },
    {
      "cell_type": "markdown",
      "source": [
        "*Interprétation* </br>\n",
        "En regardant de plus près, on constate que la plupart des exemples mal classés ont été prédits du genre \"rock\" à tort. Cela vient d'un déséquilibre présent dans les données d'entraînement. Nous verrons plus tard si l'apprentissage multimodal permet de résoudre ce problème ou bien si nous devrons trouver une autre solution."
      ],
      "metadata": {
        "id": "MRn-oJW61yt4"
      }
    },
    {
      "cell_type": "markdown",
      "source": [
        "##### 2. Système deep & CNN"
      ],
      "metadata": {
        "id": "SGidllljzYvD"
      }
    },
    {
      "cell_type": "markdown",
      "source": [
        "###### Enregistrement des matrices de descripteurs"
      ],
      "metadata": {
        "id": "BAl23XQloeUR"
      }
    },
    {
      "cell_type": "markdown",
      "source": [
        "**Résultat empirique** </br>\n",
        "Dans le jeu de données d'entraînement fourni, il y a un déséquilibre des classes qui influe sur l'entraînement. La classe la plus présente est la classe rock et la moins présente est présente en 329 exemplaires (cf. histogramme sur le notebook relatif aux pochettes d'album). On construit donc un nouveau jeu de données d'entraînement qui prend en compte ces informations."
      ],
      "metadata": {
        "id": "BRSIZfuV_W0Y"
      }
    },
    {
      "cell_type": "code",
      "source": [
        "# Fonction qui lit le fichier mapping pour le set donné et stocke pour un certain nombre de morceaux (samples_number)\n",
        "# la matrice (n * d) des descripteur de taille d sur les n trame en s'assurant qu'il y en ai le même nombre par genre (class_samples_max_number)\n",
        "def read_files_deep(msdi_path, my_set, samples_number, class_samples_max_number):\n",
        "  labels = []\n",
        "  matrices = []\n",
        "  i = 0\n",
        "  N_0 = 500\n",
        "  class_number = 15\n",
        "  filter = (mapping_df['set'] == my_set)\n",
        "  df = mapping_df[filter]\n",
        "  counts = np.zeros(class_number)\n",
        "  for index, entry in df.iterrows():\n",
        "    genre = entry['genre']\n",
        "    labelId = labelEncoder.transform([genre])[0]\n",
        "    # Vérifie l'équilibre des classes et la taille du jeu de donnée\n",
        "    if i < samples_number:\n",
        "      if counts[labelId] != class_samples_max_number:\n",
        "        mfcc_matrix = load_mfcc(entry, msdi_path)\n",
        "        # Tronque à 500 trames\n",
        "        if mfcc_matrix.shape[0] > 500:\n",
        "          to_delete = mfcc_matrix.shape[0] - N_0\n",
        "          mfcc_matrix = mfcc_matrix[:-to_delete, :]\n",
        "          descriptors_matrix = add_deltas(mfcc_matrix)\n",
        "          stock_descriptors(entry, descriptors_matrix)\n",
        "          labels.append(genre)\n",
        "          matrices.append(descriptors_matrix)\n",
        "          i += 1\n",
        "          counts[labelId] += 1\n",
        "          if i % 25 == 0:\n",
        "            print(\"We finished treating the \" + str(i) + \"th sample !\")\n",
        "            print(\"...\")\n",
        "  print(\"DONE\")\n",
        "  labels = np.array(labels)\n",
        "  matrices = np.array(matrices)\n",
        "  return labels, matrices"
      ],
      "metadata": {
        "id": "Z3OSm4sf4Qyn"
      },
      "execution_count": null,
      "outputs": []
    },
    {
      "cell_type": "code",
      "source": [
        "# Fonction qui stocke la matrices des descripteurs de chaque trame pour un exemple\n",
        "# dans un fichier portant le même nom\n",
        "def stock_descriptors(entry, descriptors_matrix):\n",
        "  set_name = entry['set'] + '_'\n",
        "  id = entry['msd_track_id']\n",
        "  matrice_df = pd.DataFrame(descriptors_matrix)\n",
        "  if entry['set'] == 'train':\n",
        "    directory_path = 'out_audio/out_train/'\n",
        "  elif entry['set'] == 'test':\n",
        "    directory_path = 'out_audio/out_test/'\n",
        "  name = directory_path + 'descripteurs_audio_CNN_' + set_name + id + '.csv'\n",
        "  matrice_df.to_csv(name, index=False)"
      ],
      "metadata": {
        "id": "9zJVHQuf5Ya1"
      },
      "execution_count": null,
      "outputs": []
    },
    {
      "cell_type": "code",
      "source": [
        "# Encode les étiquettes\n",
        "genres = []\n",
        "df_genres = pd.read_csv('labels.csv', header=None)\n",
        "for index, genre in df_genres.iterrows():\n",
        "  genres.append(genre[0])\n",
        "\n",
        "labelEncoder = LabelEncoder()\n",
        "genres = labelEncoder.fit_transform(genres)"
      ],
      "metadata": {
        "id": "qlWUiD5zP-sF"
      },
      "execution_count": null,
      "outputs": []
    },
    {
      "cell_type": "code",
      "source": [
        "################ NE RELANCER QUE POUR AUGMENTER LE NOMBRE D'EXEMPLES ################\n",
        "# Créer les arrays des étiquettes et matrices d'apprentissage et les stocke\n",
        "msdi_path = '/content/drive/MyDrive/Colab Notebooks/Temps2/SAM/Projet/data/msdi/'\n",
        "samples_number_train = 4875 # le max qu'on puisse mettre est 329 * 15 = 4 935\n",
        "train_set = 'train'\n",
        "class_samples_max_number = 325 # le max qu'on puisse mettre est 329\n",
        "etiquettes_train, matrices_train = read_files_deep(msdi_path, train_set, samples_number_train, class_samples_max_number)"
      ],
      "metadata": {
        "colab": {
          "base_uri": "https://localhost:8080/"
        },
        "id": "V-6UMrxkJnJ2",
        "outputId": "503f3190-976a-4abc-b207-302ef767c819"
      },
      "execution_count": null,
      "outputs": [
        {
          "output_type": "stream",
          "name": "stdout",
          "text": [
            "We finished treating the 25th sample !\n",
            "...\n",
            "We finished treating the 50th sample !\n",
            "...\n",
            "We finished treating the 75th sample !\n",
            "...\n",
            "We finished treating the 100th sample !\n",
            "...\n",
            "We finished treating the 125th sample !\n",
            "...\n",
            "We finished treating the 150th sample !\n",
            "...\n",
            "We finished treating the 175th sample !\n",
            "...\n",
            "We finished treating the 200th sample !\n",
            "...\n",
            "We finished treating the 225th sample !\n",
            "...\n",
            "We finished treating the 250th sample !\n",
            "...\n",
            "We finished treating the 275th sample !\n",
            "...\n",
            "We finished treating the 300th sample !\n",
            "...\n",
            "We finished treating the 325th sample !\n",
            "...\n",
            "We finished treating the 350th sample !\n",
            "...\n",
            "We finished treating the 375th sample !\n",
            "...\n",
            "We finished treating the 400th sample !\n",
            "...\n",
            "We finished treating the 425th sample !\n",
            "...\n",
            "We finished treating the 450th sample !\n",
            "...\n",
            "We finished treating the 475th sample !\n",
            "...\n",
            "We finished treating the 500th sample !\n",
            "...\n",
            "We finished treating the 525th sample !\n",
            "...\n",
            "We finished treating the 550th sample !\n",
            "...\n",
            "We finished treating the 575th sample !\n",
            "...\n",
            "We finished treating the 600th sample !\n",
            "...\n",
            "We finished treating the 625th sample !\n",
            "...\n",
            "We finished treating the 650th sample !\n",
            "...\n",
            "We finished treating the 675th sample !\n",
            "...\n",
            "We finished treating the 700th sample !\n",
            "...\n",
            "We finished treating the 725th sample !\n",
            "...\n",
            "We finished treating the 750th sample !\n",
            "...\n",
            "We finished treating the 775th sample !\n",
            "...\n",
            "We finished treating the 800th sample !\n",
            "...\n",
            "We finished treating the 825th sample !\n",
            "...\n",
            "We finished treating the 850th sample !\n",
            "...\n",
            "We finished treating the 875th sample !\n",
            "...\n",
            "We finished treating the 900th sample !\n",
            "...\n",
            "We finished treating the 925th sample !\n",
            "...\n",
            "We finished treating the 950th sample !\n",
            "...\n",
            "We finished treating the 975th sample !\n",
            "...\n",
            "We finished treating the 1000th sample !\n",
            "...\n",
            "We finished treating the 1025th sample !\n",
            "...\n",
            "We finished treating the 1050th sample !\n",
            "...\n",
            "We finished treating the 1075th sample !\n",
            "...\n",
            "We finished treating the 1100th sample !\n",
            "...\n",
            "We finished treating the 1125th sample !\n",
            "...\n",
            "We finished treating the 1150th sample !\n",
            "...\n",
            "We finished treating the 1175th sample !\n",
            "...\n",
            "We finished treating the 1200th sample !\n",
            "...\n",
            "We finished treating the 1225th sample !\n",
            "...\n",
            "We finished treating the 1250th sample !\n",
            "...\n",
            "We finished treating the 1275th sample !\n",
            "...\n",
            "We finished treating the 1300th sample !\n",
            "...\n",
            "We finished treating the 1325th sample !\n",
            "...\n",
            "We finished treating the 1350th sample !\n",
            "...\n",
            "We finished treating the 1375th sample !\n",
            "...\n",
            "We finished treating the 1400th sample !\n",
            "...\n",
            "We finished treating the 1425th sample !\n",
            "...\n",
            "We finished treating the 1450th sample !\n",
            "...\n",
            "We finished treating the 1475th sample !\n",
            "...\n",
            "We finished treating the 1500th sample !\n",
            "...\n",
            "We finished treating the 1525th sample !\n",
            "...\n",
            "We finished treating the 1550th sample !\n",
            "...\n",
            "We finished treating the 1575th sample !\n",
            "...\n",
            "We finished treating the 1600th sample !\n",
            "...\n",
            "We finished treating the 1625th sample !\n",
            "...\n",
            "We finished treating the 1650th sample !\n",
            "...\n",
            "We finished treating the 1675th sample !\n",
            "...\n",
            "We finished treating the 1700th sample !\n",
            "...\n",
            "We finished treating the 1725th sample !\n",
            "...\n",
            "We finished treating the 1750th sample !\n",
            "...\n",
            "We finished treating the 1775th sample !\n",
            "...\n",
            "We finished treating the 1800th sample !\n",
            "...\n",
            "We finished treating the 1825th sample !\n",
            "...\n",
            "We finished treating the 1850th sample !\n",
            "...\n",
            "We finished treating the 1875th sample !\n",
            "...\n",
            "We finished treating the 1900th sample !\n",
            "...\n",
            "We finished treating the 1925th sample !\n",
            "...\n",
            "We finished treating the 1950th sample !\n",
            "...\n",
            "We finished treating the 1975th sample !\n",
            "...\n",
            "We finished treating the 2000th sample !\n",
            "...\n",
            "We finished treating the 2025th sample !\n",
            "...\n",
            "We finished treating the 2050th sample !\n",
            "...\n",
            "We finished treating the 2075th sample !\n",
            "...\n",
            "We finished treating the 2100th sample !\n",
            "...\n",
            "We finished treating the 2125th sample !\n",
            "...\n",
            "We finished treating the 2150th sample !\n",
            "...\n",
            "We finished treating the 2175th sample !\n",
            "...\n",
            "We finished treating the 2200th sample !\n",
            "...\n",
            "We finished treating the 2225th sample !\n",
            "...\n",
            "We finished treating the 2250th sample !\n",
            "...\n",
            "We finished treating the 2275th sample !\n",
            "...\n",
            "We finished treating the 2300th sample !\n",
            "...\n",
            "We finished treating the 2325th sample !\n",
            "...\n",
            "We finished treating the 2350th sample !\n",
            "...\n",
            "We finished treating the 2375th sample !\n",
            "...\n",
            "We finished treating the 2400th sample !\n",
            "...\n",
            "We finished treating the 2425th sample !\n",
            "...\n",
            "We finished treating the 2450th sample !\n",
            "...\n",
            "We finished treating the 2475th sample !\n",
            "...\n",
            "We finished treating the 2500th sample !\n",
            "...\n",
            "We finished treating the 2525th sample !\n",
            "...\n",
            "We finished treating the 2550th sample !\n",
            "...\n",
            "We finished treating the 2575th sample !\n",
            "...\n",
            "We finished treating the 2600th sample !\n",
            "...\n",
            "We finished treating the 2625th sample !\n",
            "...\n",
            "We finished treating the 2650th sample !\n",
            "...\n",
            "We finished treating the 2675th sample !\n",
            "...\n",
            "We finished treating the 2700th sample !\n",
            "...\n",
            "We finished treating the 2725th sample !\n",
            "...\n",
            "We finished treating the 2750th sample !\n",
            "...\n",
            "We finished treating the 2775th sample !\n",
            "...\n",
            "We finished treating the 2800th sample !\n",
            "...\n",
            "We finished treating the 2825th sample !\n",
            "...\n",
            "We finished treating the 2850th sample !\n",
            "...\n",
            "We finished treating the 2875th sample !\n",
            "...\n",
            "We finished treating the 2900th sample !\n",
            "...\n",
            "We finished treating the 2925th sample !\n",
            "...\n",
            "We finished treating the 2950th sample !\n",
            "...\n",
            "We finished treating the 2975th sample !\n",
            "...\n",
            "We finished treating the 3000th sample !\n",
            "...\n",
            "We finished treating the 3025th sample !\n",
            "...\n",
            "We finished treating the 3050th sample !\n",
            "...\n",
            "We finished treating the 3075th sample !\n",
            "...\n",
            "We finished treating the 3100th sample !\n",
            "...\n",
            "We finished treating the 3125th sample !\n",
            "...\n",
            "We finished treating the 3150th sample !\n",
            "...\n",
            "We finished treating the 3175th sample !\n",
            "...\n",
            "We finished treating the 3200th sample !\n",
            "...\n",
            "We finished treating the 3225th sample !\n",
            "...\n",
            "We finished treating the 3250th sample !\n",
            "...\n",
            "We finished treating the 3275th sample !\n",
            "...\n",
            "We finished treating the 3300th sample !\n",
            "...\n",
            "We finished treating the 3325th sample !\n",
            "...\n",
            "We finished treating the 3350th sample !\n",
            "...\n",
            "We finished treating the 3375th sample !\n",
            "...\n",
            "We finished treating the 3400th sample !\n",
            "...\n",
            "We finished treating the 3425th sample !\n",
            "...\n",
            "We finished treating the 3450th sample !\n",
            "...\n",
            "We finished treating the 3475th sample !\n",
            "...\n",
            "We finished treating the 3500th sample !\n",
            "...\n",
            "We finished treating the 3525th sample !\n",
            "...\n",
            "We finished treating the 3550th sample !\n",
            "...\n",
            "We finished treating the 3575th sample !\n",
            "...\n",
            "We finished treating the 3600th sample !\n",
            "...\n",
            "We finished treating the 3625th sample !\n",
            "...\n",
            "We finished treating the 3650th sample !\n",
            "...\n",
            "We finished treating the 3675th sample !\n",
            "...\n",
            "We finished treating the 3700th sample !\n",
            "...\n",
            "We finished treating the 3725th sample !\n",
            "...\n",
            "We finished treating the 3750th sample !\n",
            "...\n",
            "We finished treating the 3775th sample !\n",
            "...\n",
            "We finished treating the 3800th sample !\n",
            "...\n",
            "We finished treating the 3825th sample !\n",
            "...\n",
            "We finished treating the 3850th sample !\n",
            "...\n",
            "We finished treating the 3875th sample !\n",
            "...\n",
            "We finished treating the 3900th sample !\n",
            "...\n",
            "We finished treating the 3925th sample !\n",
            "...\n",
            "We finished treating the 3950th sample !\n",
            "...\n",
            "We finished treating the 3975th sample !\n",
            "...\n",
            "We finished treating the 4000th sample !\n",
            "...\n",
            "We finished treating the 4025th sample !\n",
            "...\n",
            "We finished treating the 4050th sample !\n",
            "...\n",
            "We finished treating the 4075th sample !\n",
            "...\n",
            "We finished treating the 4100th sample !\n",
            "...\n",
            "We finished treating the 4125th sample !\n",
            "...\n",
            "We finished treating the 4150th sample !\n",
            "...\n",
            "We finished treating the 4175th sample !\n",
            "...\n",
            "We finished treating the 4200th sample !\n",
            "...\n",
            "We finished treating the 4225th sample !\n",
            "...\n",
            "We finished treating the 4250th sample !\n",
            "...\n",
            "We finished treating the 4275th sample !\n",
            "...\n",
            "We finished treating the 4300th sample !\n",
            "...\n",
            "We finished treating the 4325th sample !\n",
            "...\n",
            "We finished treating the 4350th sample !\n",
            "...\n",
            "We finished treating the 4375th sample !\n",
            "...\n",
            "We finished treating the 4400th sample !\n",
            "...\n",
            "We finished treating the 4425th sample !\n",
            "...\n",
            "We finished treating the 4450th sample !\n",
            "...\n",
            "We finished treating the 4475th sample !\n",
            "...\n",
            "We finished treating the 4500th sample !\n",
            "...\n",
            "We finished treating the 4525th sample !\n",
            "...\n",
            "We finished treating the 4550th sample !\n",
            "...\n",
            "We finished treating the 4575th sample !\n",
            "...\n",
            "We finished treating the 4600th sample !\n",
            "...\n",
            "DONE\n"
          ]
        }
      ]
    },
    {
      "cell_type": "code",
      "source": [
        "################ NE RELANCER QUE POUR AUGMENTER LE NOMBRE D'EXEMPLES ################\n",
        "# Créer les arrays des étiquettes et matrices de test et les stocke\n",
        "msdi_path = '/content/drive/MyDrive/Colab Notebooks/Temps2/SAM/Projet/data/msdi/'\n",
        "samples_number_test = 675 # le max qu'on puisse mettre est 45 * 15 = 675\n",
        "test_set = 'test'\n",
        "class_samples_max_number = 45 # le max qu'on puisse mettre est 45\n",
        "etiquettes_test, matrices_test = read_files_deep(msdi_path, test_set, samples_number_test, class_samples_max_number)"
      ],
      "metadata": {
        "colab": {
          "base_uri": "https://localhost:8080/"
        },
        "id": "rc2AKaZYLibX",
        "outputId": "e1c5db07-55c0-4ac2-879b-457511e2a1ad"
      },
      "execution_count": null,
      "outputs": [
        {
          "output_type": "stream",
          "name": "stdout",
          "text": [
            "We finished treating the 25th sample !\n",
            "...\n",
            "We finished treating the 50th sample !\n",
            "...\n",
            "We finished treating the 75th sample !\n",
            "...\n",
            "We finished treating the 100th sample !\n",
            "...\n",
            "We finished treating the 125th sample !\n",
            "...\n",
            "We finished treating the 150th sample !\n",
            "...\n",
            "We finished treating the 175th sample !\n",
            "...\n",
            "We finished treating the 200th sample !\n",
            "...\n",
            "We finished treating the 225th sample !\n",
            "...\n",
            "We finished treating the 250th sample !\n",
            "...\n",
            "We finished treating the 275th sample !\n",
            "...\n",
            "We finished treating the 300th sample !\n",
            "...\n",
            "We finished treating the 325th sample !\n",
            "...\n",
            "We finished treating the 350th sample !\n",
            "...\n",
            "We finished treating the 375th sample !\n",
            "...\n",
            "We finished treating the 400th sample !\n",
            "...\n",
            "We finished treating the 425th sample !\n",
            "...\n",
            "We finished treating the 450th sample !\n",
            "...\n",
            "We finished treating the 475th sample !\n",
            "...\n",
            "We finished treating the 500th sample !\n",
            "...\n",
            "We finished treating the 525th sample !\n",
            "...\n",
            "We finished treating the 550th sample !\n",
            "...\n",
            "We finished treating the 575th sample !\n",
            "...\n",
            "We finished treating the 600th sample !\n",
            "...\n",
            "We finished treating the 625th sample !\n",
            "...\n",
            "We finished treating the 650th sample !\n",
            "...\n",
            "DONE\n"
          ]
        }
      ]
    },
    {
      "cell_type": "code",
      "source": [
        "# Utilise glob pour obtenir tous les fichiers csv du dossier\n",
        "def recupere_matrice(chemin):\n",
        "  fichiers_csv = glob.glob(os.path.join(chemin, \"*.csv\"))\n",
        "  matrices = []\n",
        "  # Boucle sur la liste des fichiers csv\n",
        "  for fichier in fichiers_csv:\n",
        "    # Note la matrice de descripteurs par trame du csv dans une matrice numpy\n",
        "    matrice = np.loadtxt(my_path, delimiter=\",\",  skiprows=1)\n",
        "    matrices.append(matrice)\n",
        "  matrices = np.array(matrices)\n",
        "  return(matrices)"
      ],
      "metadata": {
        "id": "E20sTYMc5Fzd"
      },
      "execution_count": null,
      "outputs": []
    },
    {
      "cell_type": "code",
      "source": [
        "chemin_train = '/content/drive/MyDrive/Colab Notebooks/Temps2/SAM/Projet/data/msdi/out_audio/out_train/'\n",
        "matrices_train = recupere_matrice(chemin_train) #1 minute 40 secondes"
      ],
      "metadata": {
        "id": "78iKt2Te74Fn"
      },
      "execution_count": null,
      "outputs": []
    },
    {
      "cell_type": "code",
      "source": [
        "chemin_test = '/content/drive/MyDrive/Colab Notebooks/Temps2/SAM/Projet/data/msdi/out_audio/out_test/'\n",
        "matrices_test = recupere_matrice(chemin_test) # 15 secondes"
      ],
      "metadata": {
        "id": "gHcCTvUbMXZN"
      },
      "execution_count": null,
      "outputs": []
    },
    {
      "cell_type": "code",
      "source": [
        "N_0, dimension_descriptors = 500, 36 # Taille des \"images\"\n",
        "nombre_genres = 15\n",
        "nombre_exemples_appr = len(matrices_train)\n",
        "nombre_exemples_test = len(matrices_test)\n",
        "\n",
        "# Reforme en (nombre_exemple_set, 500, 36, 1)\n",
        "x_train = matrices.reshape(matrices.shape[0], N_0, dimension_descriptors, 1)\n",
        "x_test = matrices_test.reshape(matrices_test.shape[0], N_0, dimension_descriptors, 1)\n",
        "\n",
        "# Révise le type des éléments\n",
        "x_train = x_train.astype('float32')\n",
        "x_test = x_test.astype('float32')"
      ],
      "metadata": {
        "id": "YvO3xXXko_Ph"
      },
      "execution_count": null,
      "outputs": []
    },
    {
      "cell_type": "code",
      "source": [
        "# Encodage sous forme d'entiers pour les étiquettes\n",
        "y_train = labelEncoder.transform(etiquettes_train)\n",
        "y_test = labelEncoder.transform(etiquettes_test)\n",
        "\n",
        "# Encodage d'entier à one-hot\n",
        "y_train = keras.utils.np_utils.to_categorical(y_train, nombre_genres)\n",
        "y_test = keras.utils.np_utils.to_categorical(y_test, nombre_genres)"
      ],
      "metadata": {
        "id": "Uv7N0AWsqeKg"
      },
      "execution_count": null,
      "outputs": []
    },
    {
      "cell_type": "markdown",
      "source": [
        "###### CNN"
      ],
      "metadata": {
        "id": "9KFjXhfBo0HD"
      }
    },
    {
      "cell_type": "code",
      "source": [
        "# Création du réseau de neurone convolutionnel (CNN)\n",
        "dimension_entree = (N_0, dimension_descriptors, 1)\n",
        "\n",
        "CCNmodel = Sequential()\n",
        "CCNmodel.add(Conv2D(32, (4, 3), activation='relu', strides=(1, 1), padding='same', input_shape=dimension_entree))\n",
        "CCNmodel.add(MaxPooling2D((4, 2)))\n",
        "CCNmodel.add(Conv2D(64, (4, 3), activation='relu', strides=(1, 1), padding='same', input_shape=dimension_entree))\n",
        "CCNmodel.add(MaxPooling2D((4, 2)))\n",
        "CCNmodel.add(Conv2D(64, (4, 3), activation='relu', strides=(1, 1), padding='same', input_shape=dimension_entree))\n",
        "CCNmodel.add(MaxPooling2D((4, 1)))\n",
        "CCNmodel.add(Conv2D(32, (1, 1), activation='relu', strides=(1, 1), padding='same', input_shape=dimension_entree))\n",
        "CCNmodel.add(MaxPooling2D((4, 3)))\n",
        "CCNmodel.add(Flatten())\n",
        "CCNmodel.add(Dense(nombre_genres, activation='sigmoid'))"
      ],
      "metadata": {
        "id": "raIH0c0KDJ48"
      },
      "execution_count": null,
      "outputs": []
    },
    {
      "cell_type": "code",
      "source": [
        "# Hyperparamètres\n",
        "batch_size = 32\n",
        "epochs = 100\n",
        "loss = 'categorical_crossentropy'\n",
        "optimizer='adam'\n",
        "metrics='accuracy'"
      ],
      "metadata": {
        "id": "tmK9wbvHHKrz"
      },
      "execution_count": null,
      "outputs": []
    },
    {
      "cell_type": "code",
      "source": [
        "CCNmodel.compile(loss=loss, optimizer=optimizer, metrics=metrics)\n",
        "CCNmodel.summary()"
      ],
      "metadata": {
        "colab": {
          "base_uri": "https://localhost:8080/"
        },
        "id": "jBqWz3OiHO-A",
        "outputId": "0e1f59a2-e6bd-4e59-fa61-33f4d8a778e4"
      },
      "execution_count": null,
      "outputs": [
        {
          "output_type": "stream",
          "name": "stdout",
          "text": [
            "Model: \"sequential_3\"\n",
            "_________________________________________________________________\n",
            " Layer (type)                Output Shape              Param #   \n",
            "=================================================================\n",
            " conv2d_12 (Conv2D)          (None, 500, 36, 32)       416       \n",
            "                                                                 \n",
            " max_pooling2d_12 (MaxPoolin  (None, 125, 18, 32)      0         \n",
            " g2D)                                                            \n",
            "                                                                 \n",
            " conv2d_13 (Conv2D)          (None, 125, 18, 64)       24640     \n",
            "                                                                 \n",
            " max_pooling2d_13 (MaxPoolin  (None, 31, 9, 64)        0         \n",
            " g2D)                                                            \n",
            "                                                                 \n",
            " conv2d_14 (Conv2D)          (None, 31, 9, 64)         49216     \n",
            "                                                                 \n",
            " max_pooling2d_14 (MaxPoolin  (None, 7, 9, 64)         0         \n",
            " g2D)                                                            \n",
            "                                                                 \n",
            " conv2d_15 (Conv2D)          (None, 7, 9, 32)          2080      \n",
            "                                                                 \n",
            " max_pooling2d_15 (MaxPoolin  (None, 1, 3, 32)         0         \n",
            " g2D)                                                            \n",
            "                                                                 \n",
            " flatten_3 (Flatten)         (None, 96)                0         \n",
            "                                                                 \n",
            " dense_3 (Dense)             (None, 15)                1455      \n",
            "                                                                 \n",
            "=================================================================\n",
            "Total params: 77,807\n",
            "Trainable params: 77,807\n",
            "Non-trainable params: 0\n",
            "_________________________________________________________________\n"
          ]
        }
      ]
    },
    {
      "cell_type": "code",
      "source": [
        "CNNclf = CCNmodel.fit(x_train, y_train, batch_size=batch_size, epochs=epochs)"
      ],
      "metadata": {
        "id": "C959HgXfIeLS",
        "colab": {
          "base_uri": "https://localhost:8080/"
        },
        "outputId": "14ed22d0-af27-4fb6-bc48-64e7df4af478"
      },
      "execution_count": null,
      "outputs": [
        {
          "output_type": "stream",
          "name": "stdout",
          "text": [
            "Epoch 1/100\n",
            "1/1 [==============================] - 1s 1s/step - loss: 10.9896 - accuracy: 0.0667\n",
            "Epoch 2/100\n",
            "1/1 [==============================] - 0s 284ms/step - loss: 5.4608 - accuracy: 0.0667\n",
            "Epoch 3/100\n",
            "1/1 [==============================] - 0s 311ms/step - loss: 4.6488 - accuracy: 0.0667\n",
            "Epoch 4/100\n",
            "1/1 [==============================] - 0s 281ms/step - loss: 3.5716 - accuracy: 0.0667\n",
            "Epoch 5/100\n",
            "1/1 [==============================] - 0s 282ms/step - loss: 3.4422 - accuracy: 0.0667\n",
            "Epoch 6/100\n",
            "1/1 [==============================] - 0s 277ms/step - loss: 3.4351 - accuracy: 0.0667\n",
            "Epoch 7/100\n",
            "1/1 [==============================] - 0s 287ms/step - loss: 3.0627 - accuracy: 0.0667\n",
            "Epoch 8/100\n",
            "1/1 [==============================] - 0s 280ms/step - loss: 3.0750 - accuracy: 0.0667\n",
            "Epoch 9/100\n",
            "1/1 [==============================] - 0s 283ms/step - loss: 2.9593 - accuracy: 0.0667\n",
            "Epoch 10/100\n",
            "1/1 [==============================] - 0s 293ms/step - loss: 3.0203 - accuracy: 0.0667\n",
            "Epoch 11/100\n",
            "1/1 [==============================] - 0s 277ms/step - loss: 2.8758 - accuracy: 0.0667\n",
            "Epoch 12/100\n",
            "1/1 [==============================] - 0s 274ms/step - loss: 2.8355 - accuracy: 0.0667\n",
            "Epoch 13/100\n",
            "1/1 [==============================] - 0s 274ms/step - loss: 2.8677 - accuracy: 0.0667\n",
            "Epoch 14/100\n",
            "1/1 [==============================] - 0s 284ms/step - loss: 2.8179 - accuracy: 0.0667\n",
            "Epoch 15/100\n",
            "1/1 [==============================] - 0s 280ms/step - loss: 2.7566 - accuracy: 0.0667\n",
            "Epoch 16/100\n",
            "1/1 [==============================] - 0s 278ms/step - loss: 2.7593 - accuracy: 0.0667\n",
            "Epoch 17/100\n",
            "1/1 [==============================] - 0s 282ms/step - loss: 2.7794 - accuracy: 0.0667\n",
            "Epoch 18/100\n",
            "1/1 [==============================] - 0s 282ms/step - loss: 2.7514 - accuracy: 0.0667\n",
            "Epoch 19/100\n",
            "1/1 [==============================] - 0s 278ms/step - loss: 2.7355 - accuracy: 0.0667\n",
            "Epoch 20/100\n",
            "1/1 [==============================] - 0s 274ms/step - loss: 2.7517 - accuracy: 0.0667\n",
            "Epoch 21/100\n",
            "1/1 [==============================] - 0s 289ms/step - loss: 2.7524 - accuracy: 0.0667\n",
            "Epoch 22/100\n",
            "1/1 [==============================] - 0s 275ms/step - loss: 2.7384 - accuracy: 0.0667\n",
            "Epoch 23/100\n",
            "1/1 [==============================] - 0s 274ms/step - loss: 2.7295 - accuracy: 0.0667\n",
            "Epoch 24/100\n",
            "1/1 [==============================] - 0s 277ms/step - loss: 2.7413 - accuracy: 0.0667\n",
            "Epoch 25/100\n",
            "1/1 [==============================] - 0s 284ms/step - loss: 2.7320 - accuracy: 0.0667\n",
            "Epoch 26/100\n",
            "1/1 [==============================] - 0s 278ms/step - loss: 2.7203 - accuracy: 0.0667\n",
            "Epoch 27/100\n",
            "1/1 [==============================] - 0s 272ms/step - loss: 2.7167 - accuracy: 0.0667\n",
            "Epoch 28/100\n",
            "1/1 [==============================] - 0s 287ms/step - loss: 2.7247 - accuracy: 0.0667\n",
            "Epoch 29/100\n",
            "1/1 [==============================] - 0s 278ms/step - loss: 2.7220 - accuracy: 0.0667\n",
            "Epoch 30/100\n",
            "1/1 [==============================] - 0s 275ms/step - loss: 2.7153 - accuracy: 0.0667\n",
            "Epoch 31/100\n",
            "1/1 [==============================] - 0s 278ms/step - loss: 2.7184 - accuracy: 0.0667\n",
            "Epoch 32/100\n",
            "1/1 [==============================] - 0s 288ms/step - loss: 2.7205 - accuracy: 0.0667\n",
            "Epoch 33/100\n",
            "1/1 [==============================] - 0s 276ms/step - loss: 2.7200 - accuracy: 0.0667\n",
            "Epoch 34/100\n",
            "1/1 [==============================] - 0s 281ms/step - loss: 2.7153 - accuracy: 0.0667\n",
            "Epoch 35/100\n",
            "1/1 [==============================] - 0s 289ms/step - loss: 2.7135 - accuracy: 0.0667\n",
            "Epoch 36/100\n",
            "1/1 [==============================] - 0s 272ms/step - loss: 2.7158 - accuracy: 0.0667\n",
            "Epoch 37/100\n",
            "1/1 [==============================] - 0s 286ms/step - loss: 2.7152 - accuracy: 0.0667\n",
            "Epoch 38/100\n",
            "1/1 [==============================] - 0s 271ms/step - loss: 2.7109 - accuracy: 0.0667\n",
            "Epoch 39/100\n",
            "1/1 [==============================] - 0s 305ms/step - loss: 2.7109 - accuracy: 0.0667\n",
            "Epoch 40/100\n",
            "1/1 [==============================] - 0s 275ms/step - loss: 2.7130 - accuracy: 0.0667\n",
            "Epoch 41/100\n",
            "1/1 [==============================] - 0s 279ms/step - loss: 2.7115 - accuracy: 0.0667\n",
            "Epoch 42/100\n",
            "1/1 [==============================] - 0s 277ms/step - loss: 2.7113 - accuracy: 0.0667\n",
            "Epoch 43/100\n",
            "1/1 [==============================] - 0s 286ms/step - loss: 2.7109 - accuracy: 0.0667\n",
            "Epoch 44/100\n",
            "1/1 [==============================] - 0s 277ms/step - loss: 2.7115 - accuracy: 0.0667\n",
            "Epoch 45/100\n",
            "1/1 [==============================] - 0s 279ms/step - loss: 2.7117 - accuracy: 0.0667\n",
            "Epoch 46/100\n",
            "1/1 [==============================] - 0s 294ms/step - loss: 2.7094 - accuracy: 0.0667\n",
            "Epoch 47/100\n",
            "1/1 [==============================] - 0s 275ms/step - loss: 2.7092 - accuracy: 0.0667\n",
            "Epoch 48/100\n",
            "1/1 [==============================] - 0s 276ms/step - loss: 2.7103 - accuracy: 0.0667\n",
            "Epoch 49/100\n",
            "1/1 [==============================] - 0s 274ms/step - loss: 2.7098 - accuracy: 0.0667\n",
            "Epoch 50/100\n",
            "1/1 [==============================] - 0s 286ms/step - loss: 2.7091 - accuracy: 0.0667\n",
            "Epoch 51/100\n",
            "1/1 [==============================] - 0s 277ms/step - loss: 2.7094 - accuracy: 0.0667\n",
            "Epoch 52/100\n",
            "1/1 [==============================] - 0s 278ms/step - loss: 2.7094 - accuracy: 0.0667\n",
            "Epoch 53/100\n",
            "1/1 [==============================] - 0s 285ms/step - loss: 2.7094 - accuracy: 0.0667\n",
            "Epoch 54/100\n",
            "1/1 [==============================] - 0s 271ms/step - loss: 2.7089 - accuracy: 0.0667\n",
            "Epoch 55/100\n",
            "1/1 [==============================] - 0s 270ms/step - loss: 2.7087 - accuracy: 0.0667\n",
            "Epoch 56/100\n",
            "1/1 [==============================] - 0s 275ms/step - loss: 2.7091 - accuracy: 0.0667\n",
            "Epoch 57/100\n",
            "1/1 [==============================] - 0s 281ms/step - loss: 2.7086 - accuracy: 0.0667\n",
            "Epoch 58/100\n",
            "1/1 [==============================] - 0s 273ms/step - loss: 2.7085 - accuracy: 0.0667\n",
            "Epoch 59/100\n",
            "1/1 [==============================] - 0s 276ms/step - loss: 2.7086 - accuracy: 0.0667\n",
            "Epoch 60/100\n",
            "1/1 [==============================] - 0s 278ms/step - loss: 2.7087 - accuracy: 0.0667\n",
            "Epoch 61/100\n",
            "1/1 [==============================] - 0s 288ms/step - loss: 2.7087 - accuracy: 0.0667\n",
            "Epoch 62/100\n",
            "1/1 [==============================] - 0s 276ms/step - loss: 2.7083 - accuracy: 0.0667\n",
            "Epoch 63/100\n",
            "1/1 [==============================] - 0s 278ms/step - loss: 2.7085 - accuracy: 0.0667\n",
            "Epoch 64/100\n",
            "1/1 [==============================] - 0s 287ms/step - loss: 2.7085 - accuracy: 0.0667\n",
            "Epoch 65/100\n",
            "1/1 [==============================] - 0s 279ms/step - loss: 2.7083 - accuracy: 0.0667\n",
            "Epoch 66/100\n",
            "1/1 [==============================] - 0s 276ms/step - loss: 2.7082 - accuracy: 0.0667\n",
            "Epoch 67/100\n",
            "1/1 [==============================] - 0s 277ms/step - loss: 2.7083 - accuracy: 0.0667\n",
            "Epoch 68/100\n",
            "1/1 [==============================] - 0s 286ms/step - loss: 2.7083 - accuracy: 0.0667\n",
            "Epoch 69/100\n",
            "1/1 [==============================] - 0s 300ms/step - loss: 2.7082 - accuracy: 0.0667\n",
            "Epoch 70/100\n",
            "1/1 [==============================] - 0s 275ms/step - loss: 2.7083 - accuracy: 0.0667\n",
            "Epoch 71/100\n",
            "1/1 [==============================] - 0s 284ms/step - loss: 2.7083 - accuracy: 0.0667\n",
            "Epoch 72/100\n",
            "1/1 [==============================] - 0s 277ms/step - loss: 2.7082 - accuracy: 0.0667\n",
            "Epoch 73/100\n",
            "1/1 [==============================] - 0s 273ms/step - loss: 2.7082 - accuracy: 0.0667\n",
            "Epoch 74/100\n",
            "1/1 [==============================] - 0s 277ms/step - loss: 2.7082 - accuracy: 0.0667\n",
            "Epoch 75/100\n",
            "1/1 [==============================] - 0s 292ms/step - loss: 2.7082 - accuracy: 0.0667\n",
            "Epoch 76/100\n",
            "1/1 [==============================] - 0s 296ms/step - loss: 2.7081 - accuracy: 0.0667\n",
            "Epoch 77/100\n",
            "1/1 [==============================] - 0s 275ms/step - loss: 2.7081 - accuracy: 0.0667\n",
            "Epoch 78/100\n",
            "1/1 [==============================] - 0s 276ms/step - loss: 2.7082 - accuracy: 0.0667\n",
            "Epoch 79/100\n",
            "1/1 [==============================] - 0s 284ms/step - loss: 2.7081 - accuracy: 0.0667\n",
            "Epoch 80/100\n",
            "1/1 [==============================] - 0s 284ms/step - loss: 2.7081 - accuracy: 0.0667\n",
            "Epoch 81/100\n",
            "1/1 [==============================] - 0s 276ms/step - loss: 2.7081 - accuracy: 0.0667\n",
            "Epoch 82/100\n",
            "1/1 [==============================] - 0s 284ms/step - loss: 2.7081 - accuracy: 0.0667\n",
            "Epoch 83/100\n",
            "1/1 [==============================] - 0s 275ms/step - loss: 2.7081 - accuracy: 0.0667\n",
            "Epoch 84/100\n",
            "1/1 [==============================] - 0s 280ms/step - loss: 2.7081 - accuracy: 0.0667\n",
            "Epoch 85/100\n",
            "1/1 [==============================] - 0s 280ms/step - loss: 2.7081 - accuracy: 0.0667\n",
            "Epoch 86/100\n",
            "1/1 [==============================] - 0s 283ms/step - loss: 2.7081 - accuracy: 0.0667\n",
            "Epoch 87/100\n",
            "1/1 [==============================] - 0s 278ms/step - loss: 2.7081 - accuracy: 0.0667\n",
            "Epoch 88/100\n",
            "1/1 [==============================] - 0s 274ms/step - loss: 2.7081 - accuracy: 0.0667\n",
            "Epoch 89/100\n",
            "1/1 [==============================] - 0s 281ms/step - loss: 2.7081 - accuracy: 0.0667\n",
            "Epoch 90/100\n",
            "1/1 [==============================] - 0s 278ms/step - loss: 2.7081 - accuracy: 0.0667\n",
            "Epoch 91/100\n",
            "1/1 [==============================] - 0s 278ms/step - loss: 2.7081 - accuracy: 0.0667\n",
            "Epoch 92/100\n",
            "1/1 [==============================] - 0s 282ms/step - loss: 2.7081 - accuracy: 0.0667\n",
            "Epoch 93/100\n",
            "1/1 [==============================] - 0s 279ms/step - loss: 2.7081 - accuracy: 0.0667\n",
            "Epoch 94/100\n",
            "1/1 [==============================] - 0s 277ms/step - loss: 2.7081 - accuracy: 0.0667\n",
            "Epoch 95/100\n",
            "1/1 [==============================] - 0s 277ms/step - loss: 2.7081 - accuracy: 0.0667\n",
            "Epoch 96/100\n",
            "1/1 [==============================] - 0s 277ms/step - loss: 2.7081 - accuracy: 0.0667\n",
            "Epoch 97/100\n",
            "1/1 [==============================] - 0s 287ms/step - loss: 2.7081 - accuracy: 0.0667\n",
            "Epoch 98/100\n",
            "1/1 [==============================] - 0s 278ms/step - loss: 2.7081 - accuracy: 0.0667\n",
            "Epoch 99/100\n",
            "1/1 [==============================] - 0s 276ms/step - loss: 2.7081 - accuracy: 0.0667\n",
            "Epoch 100/100\n",
            "1/1 [==============================] - 0s 284ms/step - loss: 2.7081 - accuracy: 0.0667\n"
          ]
        }
      ]
    },
    {
      "cell_type": "code",
      "source": [
        "def evaluate(x_test, y_test):\n",
        "  y_pred = CCNmodel.predict(x_test)\n",
        "  labels = genres\n",
        "  ## ATTENTION peut être faut-il ici prendre le softmax de y_pred pour le comparer au y_test\n",
        "  my_roc_score = roc_auc_score(y_test, y_pred, labels=labels)\n",
        "  return my_roc_score, y_pred"
      ],
      "metadata": {
        "id": "62HOfjOdyuNl"
      },
      "execution_count": null,
      "outputs": []
    },
    {
      "cell_type": "code",
      "source": [
        "score, y_pred = evaluate(x_test, y_test)\n",
        "y_pred[0]"
      ],
      "metadata": {
        "colab": {
          "base_uri": "https://localhost:8080/"
        },
        "id": "Sbp9T-w5QZLW",
        "outputId": "b676bf49-d1c3-4611-b756-02ef957cafdf"
      },
      "execution_count": null,
      "outputs": [
        {
          "output_type": "execute_result",
          "data": {
            "text/plain": [
              "array([0.5842107 , 0.5868314 , 0.5868381 , 0.58522034, 0.58656937,\n",
              "       0.5875752 , 0.58475876, 0.5862318 , 0.5856259 , 0.58638096,\n",
              "       0.58798033, 0.5860157 , 0.58721155, 0.5854015 , 0.5868663 ],\n",
              "      dtype=float32)"
            ]
          },
          "metadata": {},
          "execution_count": 112
        }
      ]
    },
    {
      "cell_type": "markdown",
      "source": [
        "#### Apprentissage de représentations"
      ],
      "metadata": {
        "id": "jqI6LGOu3Nzx"
      }
    },
    {
      "cell_type": "markdown",
      "source": [
        "##### Chargement des représentations"
      ],
      "metadata": {
        "id": "ODPGRBYBClxp"
      }
    },
    {
      "cell_type": "code",
      "source": [
        "# Fonction pour charger la liste des labels de genre\n",
        "def get_label_list(msdi_path):\n",
        "    df = pd.read_csv(Path(msdi_path) / 'labels.csv', header=None)\n",
        "    return list(df.iloc[:, 0])"
      ],
      "metadata": {
        "id": "SbOTOnHo7EHo"
      },
      "execution_count": null,
      "outputs": []
    },
    {
      "cell_type": "code",
      "source": [
        "msdi_path = '/content/drive/MyDrive/Colab Notebooks/Temps2/SAM/Projet/data/msdi/'\n",
        "\n",
        "# Encode les genres\n",
        "labels = get_label_list(msdi_path)\n",
        "\n",
        "labelEncoder = LabelEncoder()\n",
        "labels = labelEncoder.fit_transform(labels)"
      ],
      "metadata": {
        "id": "aNkGklFYAVoT"
      },
      "execution_count": null,
      "outputs": []
    },
    {
      "cell_type": "code",
      "source": [
        "msdi_mapping_path = msdi_path + 'msdi_mapping.csv'\n",
        "\n",
        "# Crée un dataframe du mapping associé à nos données\n",
        "mapping_df = pd.read_csv(msdi_mapping_path)\n",
        "mapping_df.rename(columns={'Unnamed: 0':'Index'}, inplace=True)\n",
        "mapping_df = mapping_df.set_index('Index')\n",
        "mapping_df.head(5)"
      ],
      "metadata": {
        "colab": {
          "base_uri": "https://localhost:8080/",
          "height": 384
        },
        "id": "Nz4tUWIi7fn8",
        "outputId": "8885c82b-42ca-41fa-bf44-4b42bb2ada4d"
      },
      "execution_count": null,
      "outputs": [
        {
          "output_type": "execute_result",
          "data": {
            "text/html": [
              "\n",
              "  <div id=\"df-35a420d1-68b6-4997-aa3c-c0bb2355f65f\">\n",
              "    <div class=\"colab-df-container\">\n",
              "      <div>\n",
              "<style scoped>\n",
              "    .dataframe tbody tr th:only-of-type {\n",
              "        vertical-align: middle;\n",
              "    }\n",
              "\n",
              "    .dataframe tbody tr th {\n",
              "        vertical-align: top;\n",
              "    }\n",
              "\n",
              "    .dataframe thead th {\n",
              "        text-align: right;\n",
              "    }\n",
              "</style>\n",
              "<table border=\"1\" class=\"dataframe\">\n",
              "  <thead>\n",
              "    <tr style=\"text-align: right;\">\n",
              "      <th></th>\n",
              "      <th>msd_track_id</th>\n",
              "      <th>genre</th>\n",
              "      <th>album_index</th>\n",
              "      <th>set</th>\n",
              "      <th>msd_artist_id</th>\n",
              "      <th>image_url</th>\n",
              "      <th>img</th>\n",
              "      <th>mfcc</th>\n",
              "      <th>deep_features</th>\n",
              "    </tr>\n",
              "    <tr>\n",
              "      <th>Index</th>\n",
              "      <th></th>\n",
              "      <th></th>\n",
              "      <th></th>\n",
              "      <th></th>\n",
              "      <th></th>\n",
              "      <th></th>\n",
              "      <th></th>\n",
              "      <th></th>\n",
              "      <th></th>\n",
              "    </tr>\n",
              "  </thead>\n",
              "  <tbody>\n",
              "    <tr>\n",
              "      <th>0</th>\n",
              "      <td>TRABKJU128F422A7FE</td>\n",
              "      <td>Metal</td>\n",
              "      <td>0</td>\n",
              "      <td>train</td>\n",
              "      <td>ARBD4QW1187FB42153</td>\n",
              "      <td>http://artwork-cdn.7static.com/static/img/slee...</td>\n",
              "      <td>img/0000848744_200.jpg</td>\n",
              "      <td>mfcc/mfcc_A.npz</td>\n",
              "      <td>0</td>\n",
              "    </tr>\n",
              "    <tr>\n",
              "      <th>1</th>\n",
              "      <td>TRBLDQQ128F92E58B4</td>\n",
              "      <td>Rock</td>\n",
              "      <td>1</td>\n",
              "      <td>train</td>\n",
              "      <td>AR3RK011187FB3CE3B</td>\n",
              "      <td>http://artwork-cdn.7static.com/static/img/slee...</td>\n",
              "      <td>img/0000476534_200.jpg</td>\n",
              "      <td>mfcc/mfcc_B.npz</td>\n",
              "      <td>1</td>\n",
              "    </tr>\n",
              "    <tr>\n",
              "      <th>2</th>\n",
              "      <td>TRDMMDE128F14A9052</td>\n",
              "      <td>Rock</td>\n",
              "      <td>2</td>\n",
              "      <td>train</td>\n",
              "      <td>ARJVTRE1187B9959C0</td>\n",
              "      <td>http://artwork-cdn.7static.com/static/img/slee...</td>\n",
              "      <td>img/0000062345_200.jpg</td>\n",
              "      <td>mfcc/mfcc_D.npz</td>\n",
              "      <td>2</td>\n",
              "    </tr>\n",
              "    <tr>\n",
              "      <th>3</th>\n",
              "      <td>TRJOPZB128F4250E02</td>\n",
              "      <td>Rock</td>\n",
              "      <td>4</td>\n",
              "      <td>train</td>\n",
              "      <td>AR62BB21187B9AC83D</td>\n",
              "      <td>http://artwork-cdn.7static.com/static/img/slee...</td>\n",
              "      <td>img/0000144785_200.jpg</td>\n",
              "      <td>mfcc/mfcc_J.npz</td>\n",
              "      <td>3</td>\n",
              "    </tr>\n",
              "    <tr>\n",
              "      <th>4</th>\n",
              "      <td>TRJKBVL128F935567B</td>\n",
              "      <td>Rock</td>\n",
              "      <td>5</td>\n",
              "      <td>train</td>\n",
              "      <td>AR7GVOV1187B9B5FF1</td>\n",
              "      <td>http://artwork-cdn.7static.com/static/img/slee...</td>\n",
              "      <td>img/0000520513_200.jpg</td>\n",
              "      <td>mfcc/mfcc_J.npz</td>\n",
              "      <td>4</td>\n",
              "    </tr>\n",
              "  </tbody>\n",
              "</table>\n",
              "</div>\n",
              "      <button class=\"colab-df-convert\" onclick=\"convertToInteractive('df-35a420d1-68b6-4997-aa3c-c0bb2355f65f')\"\n",
              "              title=\"Convert this dataframe to an interactive table.\"\n",
              "              style=\"display:none;\">\n",
              "        \n",
              "  <svg xmlns=\"http://www.w3.org/2000/svg\" height=\"24px\"viewBox=\"0 0 24 24\"\n",
              "       width=\"24px\">\n",
              "    <path d=\"M0 0h24v24H0V0z\" fill=\"none\"/>\n",
              "    <path d=\"M18.56 5.44l.94 2.06.94-2.06 2.06-.94-2.06-.94-.94-2.06-.94 2.06-2.06.94zm-11 1L8.5 8.5l.94-2.06 2.06-.94-2.06-.94L8.5 2.5l-.94 2.06-2.06.94zm10 10l.94 2.06.94-2.06 2.06-.94-2.06-.94-.94-2.06-.94 2.06-2.06.94z\"/><path d=\"M17.41 7.96l-1.37-1.37c-.4-.4-.92-.59-1.43-.59-.52 0-1.04.2-1.43.59L10.3 9.45l-7.72 7.72c-.78.78-.78 2.05 0 2.83L4 21.41c.39.39.9.59 1.41.59.51 0 1.02-.2 1.41-.59l7.78-7.78 2.81-2.81c.8-.78.8-2.07 0-2.86zM5.41 20L4 18.59l7.72-7.72 1.47 1.35L5.41 20z\"/>\n",
              "  </svg>\n",
              "      </button>\n",
              "      \n",
              "  <style>\n",
              "    .colab-df-container {\n",
              "      display:flex;\n",
              "      flex-wrap:wrap;\n",
              "      gap: 12px;\n",
              "    }\n",
              "\n",
              "    .colab-df-convert {\n",
              "      background-color: #E8F0FE;\n",
              "      border: none;\n",
              "      border-radius: 50%;\n",
              "      cursor: pointer;\n",
              "      display: none;\n",
              "      fill: #1967D2;\n",
              "      height: 32px;\n",
              "      padding: 0 0 0 0;\n",
              "      width: 32px;\n",
              "    }\n",
              "\n",
              "    .colab-df-convert:hover {\n",
              "      background-color: #E2EBFA;\n",
              "      box-shadow: 0px 1px 2px rgba(60, 64, 67, 0.3), 0px 1px 3px 1px rgba(60, 64, 67, 0.15);\n",
              "      fill: #174EA6;\n",
              "    }\n",
              "\n",
              "    [theme=dark] .colab-df-convert {\n",
              "      background-color: #3B4455;\n",
              "      fill: #D2E3FC;\n",
              "    }\n",
              "\n",
              "    [theme=dark] .colab-df-convert:hover {\n",
              "      background-color: #434B5C;\n",
              "      box-shadow: 0px 1px 3px 1px rgba(0, 0, 0, 0.15);\n",
              "      filter: drop-shadow(0px 1px 2px rgba(0, 0, 0, 0.3));\n",
              "      fill: #FFFFFF;\n",
              "    }\n",
              "  </style>\n",
              "\n",
              "      <script>\n",
              "        const buttonEl =\n",
              "          document.querySelector('#df-35a420d1-68b6-4997-aa3c-c0bb2355f65f button.colab-df-convert');\n",
              "        buttonEl.style.display =\n",
              "          google.colab.kernel.accessAllowed ? 'block' : 'none';\n",
              "\n",
              "        async function convertToInteractive(key) {\n",
              "          const element = document.querySelector('#df-35a420d1-68b6-4997-aa3c-c0bb2355f65f');\n",
              "          const dataTable =\n",
              "            await google.colab.kernel.invokeFunction('convertToInteractive',\n",
              "                                                     [key], {});\n",
              "          if (!dataTable) return;\n",
              "\n",
              "          const docLinkHtml = 'Like what you see? Visit the ' +\n",
              "            '<a target=\"_blank\" href=https://colab.research.google.com/notebooks/data_table.ipynb>data table notebook</a>'\n",
              "            + ' to learn more about interactive tables.';\n",
              "          element.innerHTML = '';\n",
              "          dataTable['output_type'] = 'display_data';\n",
              "          await google.colab.output.renderOutput(dataTable, element);\n",
              "          const docLink = document.createElement('div');\n",
              "          docLink.innerHTML = docLinkHtml;\n",
              "          element.appendChild(docLink);\n",
              "        }\n",
              "      </script>\n",
              "    </div>\n",
              "  </div>\n",
              "  "
            ],
            "text/plain": [
              "             msd_track_id  genre  ...             mfcc deep_features\n",
              "Index                             ...                               \n",
              "0      TRABKJU128F422A7FE  Metal  ...  mfcc/mfcc_A.npz             0\n",
              "1      TRBLDQQ128F92E58B4   Rock  ...  mfcc/mfcc_B.npz             1\n",
              "2      TRDMMDE128F14A9052   Rock  ...  mfcc/mfcc_D.npz             2\n",
              "3      TRJOPZB128F4250E02   Rock  ...  mfcc/mfcc_J.npz             3\n",
              "4      TRJKBVL128F935567B   Rock  ...  mfcc/mfcc_J.npz             4\n",
              "\n",
              "[5 rows x 9 columns]"
            ]
          },
          "metadata": {},
          "execution_count": 5
        }
      ]
    },
    {
      "cell_type": "code",
      "source": [
        "# Crée un dataframe associé aux données d'entraînement\n",
        "train_filter = (mapping_df['set'] == 'train')\n",
        "train_df = mapping_df[train_filter]\n",
        "\n",
        "# Crée un dataframe associé aux données de test\n",
        "test_filter = (mapping_df['set'] == 'test')\n",
        "test_df = mapping_df[test_filter]\n",
        "test_df = test_df.reset_index()"
      ],
      "metadata": {
        "id": "PhoaIHnU4F7L"
      },
      "execution_count": null,
      "outputs": []
    },
    {
      "cell_type": "code",
      "source": [
        "train_df.groupby(['genre']).count()['msd_track_id'].mean()"
      ],
      "metadata": {
        "colab": {
          "base_uri": "https://localhost:8080/"
        },
        "id": "mTxldCe3LLiE",
        "outputId": "fbeafb6d-24db-4523-b42a-a7bc885465bb"
      },
      "execution_count": null,
      "outputs": [
        {
          "output_type": "execute_result",
          "data": {
            "text/plain": [
              "1425.5333333333333"
            ]
          },
          "metadata": {},
          "execution_count": 7
        }
      ]
    },
    {
      "cell_type": "markdown",
      "source": [
        "Le jeu de données d'entraînement est désequilibré, il contient, pour certains genres comme le *'Rock'* plus de 3000 morceaux contre 156 exemples pour le *'New Age'*. On souhaite le ré-ajuster. On pourrait choisir de ne garder qu'un même nombre de morceau par genre, mais cela rendrait le jeu d'entraînement trop petit, c'est pourquoi quitte à conserver un certain désequilibre, on préfère l'étoffer et garder une limite à **1425** morceaux par genre. (C'est le nombre moyen de morceau par genre, tous genres confondus !)"
      ],
      "metadata": {
        "id": "CoMle5j0BNrC"
      }
    },
    {
      "cell_type": "code",
      "source": [
        "# Fonction qui réajuste le jeu de donnnées d'entraînement\n",
        "def reajust_train(train_df):\n",
        "  class_number = 15\n",
        "  class_samples_max_number = 1425\n",
        "  counts = np.zeros(class_number)\n",
        "  for i in train_df.index:\n",
        "    label = train_df['genre'][i]\n",
        "    labelId = labelEncoder.transform([label])[0]\n",
        "    if counts[labelId] >= class_samples_max_number:\n",
        "      train_df = train_df.drop(i)\n",
        "    else :\n",
        "      counts[labelId] +=1\n",
        "  return train_df"
      ],
      "metadata": {
        "id": "DCL-WQdq56Gu"
      },
      "execution_count": null,
      "outputs": []
    },
    {
      "cell_type": "code",
      "source": [
        "reajusted_train_df = reajust_train(train_df)\n",
        "reajusted_train_df = reajusted_train_df.reset_index()\n",
        "reajusted_train_df.head(5)"
      ],
      "metadata": {
        "colab": {
          "base_uri": "https://localhost:8080/",
          "height": 353
        },
        "id": "EpX7NpYQ_-WY",
        "outputId": "69ae37fd-f0ef-4169-dcb0-8a1e0522f156"
      },
      "execution_count": null,
      "outputs": [
        {
          "output_type": "execute_result",
          "data": {
            "text/html": [
              "\n",
              "  <div id=\"df-ba6ecc03-caad-4c6c-8b2e-3ad9a77c9ee8\">\n",
              "    <div class=\"colab-df-container\">\n",
              "      <div>\n",
              "<style scoped>\n",
              "    .dataframe tbody tr th:only-of-type {\n",
              "        vertical-align: middle;\n",
              "    }\n",
              "\n",
              "    .dataframe tbody tr th {\n",
              "        vertical-align: top;\n",
              "    }\n",
              "\n",
              "    .dataframe thead th {\n",
              "        text-align: right;\n",
              "    }\n",
              "</style>\n",
              "<table border=\"1\" class=\"dataframe\">\n",
              "  <thead>\n",
              "    <tr style=\"text-align: right;\">\n",
              "      <th></th>\n",
              "      <th>Index</th>\n",
              "      <th>msd_track_id</th>\n",
              "      <th>genre</th>\n",
              "      <th>album_index</th>\n",
              "      <th>set</th>\n",
              "      <th>msd_artist_id</th>\n",
              "      <th>image_url</th>\n",
              "      <th>img</th>\n",
              "      <th>mfcc</th>\n",
              "      <th>deep_features</th>\n",
              "    </tr>\n",
              "  </thead>\n",
              "  <tbody>\n",
              "    <tr>\n",
              "      <th>0</th>\n",
              "      <td>0</td>\n",
              "      <td>TRABKJU128F422A7FE</td>\n",
              "      <td>Metal</td>\n",
              "      <td>0</td>\n",
              "      <td>train</td>\n",
              "      <td>ARBD4QW1187FB42153</td>\n",
              "      <td>http://artwork-cdn.7static.com/static/img/slee...</td>\n",
              "      <td>img/0000848744_200.jpg</td>\n",
              "      <td>mfcc/mfcc_A.npz</td>\n",
              "      <td>0</td>\n",
              "    </tr>\n",
              "    <tr>\n",
              "      <th>1</th>\n",
              "      <td>1</td>\n",
              "      <td>TRBLDQQ128F92E58B4</td>\n",
              "      <td>Rock</td>\n",
              "      <td>1</td>\n",
              "      <td>train</td>\n",
              "      <td>AR3RK011187FB3CE3B</td>\n",
              "      <td>http://artwork-cdn.7static.com/static/img/slee...</td>\n",
              "      <td>img/0000476534_200.jpg</td>\n",
              "      <td>mfcc/mfcc_B.npz</td>\n",
              "      <td>1</td>\n",
              "    </tr>\n",
              "    <tr>\n",
              "      <th>2</th>\n",
              "      <td>2</td>\n",
              "      <td>TRDMMDE128F14A9052</td>\n",
              "      <td>Rock</td>\n",
              "      <td>2</td>\n",
              "      <td>train</td>\n",
              "      <td>ARJVTRE1187B9959C0</td>\n",
              "      <td>http://artwork-cdn.7static.com/static/img/slee...</td>\n",
              "      <td>img/0000062345_200.jpg</td>\n",
              "      <td>mfcc/mfcc_D.npz</td>\n",
              "      <td>2</td>\n",
              "    </tr>\n",
              "    <tr>\n",
              "      <th>3</th>\n",
              "      <td>3</td>\n",
              "      <td>TRJOPZB128F4250E02</td>\n",
              "      <td>Rock</td>\n",
              "      <td>4</td>\n",
              "      <td>train</td>\n",
              "      <td>AR62BB21187B9AC83D</td>\n",
              "      <td>http://artwork-cdn.7static.com/static/img/slee...</td>\n",
              "      <td>img/0000144785_200.jpg</td>\n",
              "      <td>mfcc/mfcc_J.npz</td>\n",
              "      <td>3</td>\n",
              "    </tr>\n",
              "    <tr>\n",
              "      <th>4</th>\n",
              "      <td>4</td>\n",
              "      <td>TRJKBVL128F935567B</td>\n",
              "      <td>Rock</td>\n",
              "      <td>5</td>\n",
              "      <td>train</td>\n",
              "      <td>AR7GVOV1187B9B5FF1</td>\n",
              "      <td>http://artwork-cdn.7static.com/static/img/slee...</td>\n",
              "      <td>img/0000520513_200.jpg</td>\n",
              "      <td>mfcc/mfcc_J.npz</td>\n",
              "      <td>4</td>\n",
              "    </tr>\n",
              "  </tbody>\n",
              "</table>\n",
              "</div>\n",
              "      <button class=\"colab-df-convert\" onclick=\"convertToInteractive('df-ba6ecc03-caad-4c6c-8b2e-3ad9a77c9ee8')\"\n",
              "              title=\"Convert this dataframe to an interactive table.\"\n",
              "              style=\"display:none;\">\n",
              "        \n",
              "  <svg xmlns=\"http://www.w3.org/2000/svg\" height=\"24px\"viewBox=\"0 0 24 24\"\n",
              "       width=\"24px\">\n",
              "    <path d=\"M0 0h24v24H0V0z\" fill=\"none\"/>\n",
              "    <path d=\"M18.56 5.44l.94 2.06.94-2.06 2.06-.94-2.06-.94-.94-2.06-.94 2.06-2.06.94zm-11 1L8.5 8.5l.94-2.06 2.06-.94-2.06-.94L8.5 2.5l-.94 2.06-2.06.94zm10 10l.94 2.06.94-2.06 2.06-.94-2.06-.94-.94-2.06-.94 2.06-2.06.94z\"/><path d=\"M17.41 7.96l-1.37-1.37c-.4-.4-.92-.59-1.43-.59-.52 0-1.04.2-1.43.59L10.3 9.45l-7.72 7.72c-.78.78-.78 2.05 0 2.83L4 21.41c.39.39.9.59 1.41.59.51 0 1.02-.2 1.41-.59l7.78-7.78 2.81-2.81c.8-.78.8-2.07 0-2.86zM5.41 20L4 18.59l7.72-7.72 1.47 1.35L5.41 20z\"/>\n",
              "  </svg>\n",
              "      </button>\n",
              "      \n",
              "  <style>\n",
              "    .colab-df-container {\n",
              "      display:flex;\n",
              "      flex-wrap:wrap;\n",
              "      gap: 12px;\n",
              "    }\n",
              "\n",
              "    .colab-df-convert {\n",
              "      background-color: #E8F0FE;\n",
              "      border: none;\n",
              "      border-radius: 50%;\n",
              "      cursor: pointer;\n",
              "      display: none;\n",
              "      fill: #1967D2;\n",
              "      height: 32px;\n",
              "      padding: 0 0 0 0;\n",
              "      width: 32px;\n",
              "    }\n",
              "\n",
              "    .colab-df-convert:hover {\n",
              "      background-color: #E2EBFA;\n",
              "      box-shadow: 0px 1px 2px rgba(60, 64, 67, 0.3), 0px 1px 3px 1px rgba(60, 64, 67, 0.15);\n",
              "      fill: #174EA6;\n",
              "    }\n",
              "\n",
              "    [theme=dark] .colab-df-convert {\n",
              "      background-color: #3B4455;\n",
              "      fill: #D2E3FC;\n",
              "    }\n",
              "\n",
              "    [theme=dark] .colab-df-convert:hover {\n",
              "      background-color: #434B5C;\n",
              "      box-shadow: 0px 1px 3px 1px rgba(0, 0, 0, 0.15);\n",
              "      filter: drop-shadow(0px 1px 2px rgba(0, 0, 0, 0.3));\n",
              "      fill: #FFFFFF;\n",
              "    }\n",
              "  </style>\n",
              "\n",
              "      <script>\n",
              "        const buttonEl =\n",
              "          document.querySelector('#df-ba6ecc03-caad-4c6c-8b2e-3ad9a77c9ee8 button.colab-df-convert');\n",
              "        buttonEl.style.display =\n",
              "          google.colab.kernel.accessAllowed ? 'block' : 'none';\n",
              "\n",
              "        async function convertToInteractive(key) {\n",
              "          const element = document.querySelector('#df-ba6ecc03-caad-4c6c-8b2e-3ad9a77c9ee8');\n",
              "          const dataTable =\n",
              "            await google.colab.kernel.invokeFunction('convertToInteractive',\n",
              "                                                     [key], {});\n",
              "          if (!dataTable) return;\n",
              "\n",
              "          const docLinkHtml = 'Like what you see? Visit the ' +\n",
              "            '<a target=\"_blank\" href=https://colab.research.google.com/notebooks/data_table.ipynb>data table notebook</a>'\n",
              "            + ' to learn more about interactive tables.';\n",
              "          element.innerHTML = '';\n",
              "          dataTable['output_type'] = 'display_data';\n",
              "          await google.colab.output.renderOutput(dataTable, element);\n",
              "          const docLink = document.createElement('div');\n",
              "          docLink.innerHTML = docLinkHtml;\n",
              "          element.appendChild(docLink);\n",
              "        }\n",
              "      </script>\n",
              "    </div>\n",
              "  </div>\n",
              "  "
            ],
            "text/plain": [
              "   Index        msd_track_id  ...             mfcc  deep_features\n",
              "0      0  TRABKJU128F422A7FE  ...  mfcc/mfcc_A.npz              0\n",
              "1      1  TRBLDQQ128F92E58B4  ...  mfcc/mfcc_B.npz              1\n",
              "2      2  TRDMMDE128F14A9052  ...  mfcc/mfcc_D.npz              2\n",
              "3      3  TRJOPZB128F4250E02  ...  mfcc/mfcc_J.npz              3\n",
              "4      4  TRJKBVL128F935567B  ...  mfcc/mfcc_J.npz              4\n",
              "\n",
              "[5 rows x 10 columns]"
            ]
          },
          "metadata": {},
          "execution_count": 9
        }
      ]
    },
    {
      "cell_type": "code",
      "source": [
        "# Fonction pour charger un vecteur de descripteurs à partir d'une ligne `entry` du fichier principal\n",
        "def load_deep_audio_features(entry, msdi_path):\n",
        "    subset_file = 'X_{}_audio_MSD-I.npy'.format(entry['set'])\n",
        "    x = np.load(Path(msdi_path) / 'deep_features' / subset_file, mmap_mode='r')\n",
        "    idx = entry['deep_features']\n",
        "    return x[idx, :]"
      ],
      "metadata": {
        "id": "IsXzhOdk2B_4"
      },
      "execution_count": null,
      "outputs": []
    },
    {
      "cell_type": "code",
      "source": [
        "# Crée les données d'entraînement et de test\n",
        "nombre_morceaux_train = reajusted_train_df.shape[0]\n",
        "dimension_descripteur = 2048\n",
        "nombre_genres = 15\n",
        "X_train = np.empty((nombre_morceaux_train, dimension_descripteur))\n",
        "y_train = np.empty((nombre_morceaux_train, nombre_genres))\n",
        "\n",
        "nombre_morceaux_test = test_df.shape[0]\n",
        "X_test = np.empty((nombre_morceaux_test, dimension_descripteur))\n",
        "y_test = np.empty((nombre_morceaux_test, nombre_genres))\n",
        "\n",
        "for index, entry in reajusted_train_df.iterrows():\n",
        "  descripteur = load_deep_audio_features(entry, msdi_path)\n",
        "  X_train[index] = descripteur\n",
        "  # genre -> entier\n",
        "  y_integer = labelEncoder.transform([entry['genre']])[0]\n",
        "  # entier -> one-hot\n",
        "  y_one_hot = keras.utils.np_utils.to_categorical(y_integer, nombre_genres)\n",
        "  y_train[index] = y_one_hot\n",
        "\n",
        "for index, entry in test_df.iterrows():\n",
        "  descripteur = load_deep_audio_features(entry, msdi_path)\n",
        "  X_test[index] = descripteur\n",
        "  # genre -> entier\n",
        "  y_test_integer = labelEncoder.transform([entry['genre']])[0]\n",
        "  # entier -> one-hot\n",
        "  y_test_one_hot = keras.utils.np_utils.to_categorical(y_test_integer, nombre_genres)\n",
        "  y_test[index] = y_test_one_hot"
      ],
      "metadata": {
        "id": "1jCSFnZKDLOm"
      },
      "execution_count": null,
      "outputs": []
    },
    {
      "cell_type": "code",
      "source": [
        "y_train.shape"
      ],
      "metadata": {
        "colab": {
          "base_uri": "https://localhost:8080/"
        },
        "id": "4zWbnPp4QDQl",
        "outputId": "f7d27e2d-d637-4a9b-cf1b-1619e40f9403"
      },
      "execution_count": null,
      "outputs": [
        {
          "output_type": "execute_result",
          "data": {
            "text/plain": [
              "(15075, 15)"
            ]
          },
          "metadata": {},
          "execution_count": 12
        }
      ]
    },
    {
      "cell_type": "markdown",
      "source": [
        "##### Classifieur"
      ],
      "metadata": {
        "id": "lKI924IcUocU"
      }
    },
    {
      "cell_type": "markdown",
      "source": [
        "Classifieur perceptron multicouche avec une couche de sortie sigmoïde"
      ],
      "metadata": {
        "id": "5JdEw6A4VgPy"
      }
    },
    {
      "cell_type": "code",
      "source": [
        "# Création du modèle avec le classifieur \"MLPClassifier\" de scikit-learn\n",
        "clf = MLPClassifier(random_state=1, max_iter=300, activation='logistic') # logistic = sigmoide"
      ],
      "metadata": {
        "id": "-wxtoiv0QCqS"
      },
      "execution_count": null,
      "outputs": []
    },
    {
      "cell_type": "code",
      "source": [
        "# Entraînement du modèle ≃ 7 minutes 30\n",
        "clf.fit(X_train, y_train)"
      ],
      "metadata": {
        "colab": {
          "base_uri": "https://localhost:8080/"
        },
        "id": "FxOKNWeNXGZV",
        "outputId": "ba796ca4-0040-461a-c2ca-28a64be65120"
      },
      "execution_count": null,
      "outputs": [
        {
          "output_type": "stream",
          "name": "stderr",
          "text": [
            "/usr/local/lib/python3.7/dist-packages/sklearn/neural_network/_multilayer_perceptron.py:696: ConvergenceWarning: Stochastic Optimizer: Maximum iterations (300) reached and the optimization hasn't converged yet.\n",
            "  ConvergenceWarning,\n"
          ]
        },
        {
          "output_type": "execute_result",
          "data": {
            "text/plain": [
              "MLPClassifier(activation='logistic', max_iter=300, random_state=1)"
            ]
          },
          "metadata": {},
          "execution_count": 14
        }
      ]
    },
    {
      "cell_type": "code",
      "source": [
        "# Prédictions sur les donnés de test\n",
        "y_pred = clf.predict_proba(X_test)\n",
        "y_pred"
      ],
      "metadata": {
        "colab": {
          "base_uri": "https://localhost:8080/"
        },
        "id": "Bp9DxJuKXH1E",
        "outputId": "c70be1ac-e615-4612-deae-968c61e93e9e"
      },
      "execution_count": null,
      "outputs": [
        {
          "output_type": "execute_result",
          "data": {
            "text/plain": [
              "array([[8.47992403e-06, 8.93264175e-02, 3.78565034e-01, ...,\n",
              "        7.11364158e-02, 2.16016913e-02, 1.20062140e-02],\n",
              "       [3.36959844e-05, 8.22425997e-02, 8.83879162e-03, ...,\n",
              "        6.66537235e-03, 9.46914127e-04, 6.94193763e-05],\n",
              "       [2.15000135e-05, 4.97907336e-05, 2.58083623e-02, ...,\n",
              "        5.57469884e-01, 5.88800239e-03, 3.89026661e-05],\n",
              "       ...,\n",
              "       [1.12348653e-04, 5.89751702e-01, 2.98893618e-06, ...,\n",
              "        1.11723862e-02, 4.14020548e-02, 3.73554802e-03],\n",
              "       [1.60234607e-01, 4.89542322e-05, 9.40122775e-03, ...,\n",
              "        5.11000806e-01, 3.16017347e-04, 1.00105572e-05],\n",
              "       [1.14114211e-04, 1.91675002e-05, 2.41540488e-01, ...,\n",
              "        4.94671312e-03, 3.94307336e-02, 6.37976705e-07]])"
            ]
          },
          "metadata": {},
          "execution_count": 15
        }
      ]
    },
    {
      "cell_type": "code",
      "source": [
        "# Donne la precision du modele\n",
        "accuracy = clf.score(X_test, y_test)\n",
        "print(\"La précision du modèle est de : \", 100*accuracy, \" %\")\n",
        "\n",
        "my_roc_score = roc_auc_score(y_test, y_pred)\n",
        "print(\"Le ROC score du modèle est de : \", 100*my_roc_score, \" %\")"
      ],
      "metadata": {
        "colab": {
          "base_uri": "https://localhost:8080/"
        },
        "id": "g34PJxwjXLXx",
        "outputId": "9b9b5c7d-a3b2-4ea8-82f2-1b9eaa4555c1"
      },
      "execution_count": null,
      "outputs": [
        {
          "output_type": "stream",
          "name": "stdout",
          "text": [
            "La précision du modèle est de :  31.06044310604431  %\n",
            "Le ROC score du modèle est de :  82.89514039600549  %\n"
          ]
        }
      ]
    },
    {
      "cell_type": "markdown",
      "source": [
        "156 exemples par classes fournit une précision du modèle de 8 % et un ROC score de 56 %. </br> Pour un nombre maximal de 1425 exemples par genre, la précision est de 31 % et le ROC score de 83 %.\n"
      ],
      "metadata": {
        "id": "5ZrJhk3PNDQm"
      }
    },
    {
      "cell_type": "code",
      "source": [
        "import pickle\n",
        "\n",
        "# Fonction qui permet de sauvegarder le modèle\n",
        "def save_model(model,model_path):\n",
        "    pickle.dump(model, open(model_path, \"wb\"))\n",
        "\n",
        "model_path = '/content/drive/MyDrive/Colab Notebooks/Temps2/SAM/Projet/data/msdi/out_audio/audio_model'\n",
        "save_model(clf, model_path)"
      ],
      "metadata": {
        "id": "NxaD5c6erZts"
      },
      "execution_count": null,
      "outputs": []
    }
  ]
}